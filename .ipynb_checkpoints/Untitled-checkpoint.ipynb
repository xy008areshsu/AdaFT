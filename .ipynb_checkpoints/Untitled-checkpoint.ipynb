{
 "cells": [
  {
   "cell_type": "code",
   "execution_count": 1,
   "metadata": {
    "collapsed": true
   },
   "outputs": [],
   "source": [
    "%matplotlib inline\n",
    "\n",
    "import matplotlib\n",
    "import numpy as np\n",
    "import matplotlib.pyplot as plt\n",
    "import pandas as pd\n",
    "import numpy as np\n",
    "import scipy as sp"
   ]
  },
  {
   "cell_type": "code",
   "execution_count": 2,
   "metadata": {
    "collapsed": false
   },
   "outputs": [
    {
     "data": {
      "text/plain": [
       "0.031"
      ]
     },
     "execution_count": 2,
     "metadata": {},
     "output_type": "execute_result"
    }
   ],
   "source": [
    "round(0.0313000001, 3)"
   ]
  },
  {
   "cell_type": "code",
   "execution_count": 3,
   "metadata": {
    "collapsed": false
   },
   "outputs": [],
   "source": [
    "from Task.TaskModel import TaskModel\n",
    "from Task.CustomTasks import ABS, ACC"
   ]
  },
  {
   "cell_type": "code",
   "execution_count": 4,
   "metadata": {
    "collapsed": false
   },
   "outputs": [
    {
     "data": {
      "text/plain": [
       "[abs, acc]"
      ]
     },
     "execution_count": 4,
     "metadata": {},
     "output_type": "execute_result"
    }
   ],
   "source": [
    "abss = ABS('abs', 0.03, 0.03, 0.02, 3.5)\n",
    "acc = ACC('acc', 0.01, 0.01, 0.004, 6.5)\n",
    "queue = [abss,acc]\n",
    "queue"
   ]
  },
  {
   "cell_type": "code",
   "execution_count": 5,
   "metadata": {
    "collapsed": false
   },
   "outputs": [],
   "source": [
    "from OS.RTOS import RTOS\n",
    "from Processor.Processor import Processor\n",
    "from Reliability.TAAF import TAAF"
   ]
  },
  {
   "cell_type": "code",
   "execution_count": 6,
   "metadata": {
    "collapsed": false
   },
   "outputs": [],
   "source": [
    "rtos = RTOS()\n",
    "fail_rate = 3.1706e-09\n",
    "reliability_model = TAAF(fail_rate)\n",
    "processor = Processor(rtos, reliability_model)\n"
   ]
  },
  {
   "cell_type": "code",
   "execution_count": 7,
   "metadata": {
    "collapsed": false
   },
   "outputs": [],
   "source": [
    "for t in queue:\n",
    "    rtos.create_task(t)"
   ]
  },
  {
   "cell_type": "code",
   "execution_count": 8,
   "metadata": {
    "collapsed": false
   },
   "outputs": [],
   "source": [
    "# clock = 0\n",
    "# h = 0.001\n",
    "# while clock < 0.1:\n",
    "# #     print(rtos.ready_queue)\n",
    "#     rtos.update(h, clock)\n",
    "#     if rtos.running_task is not None:\n",
    "#         print(rtos.running_task.name, clock, rtos.task_outputs)\n",
    "#     clock += h"
   ]
  },
  {
   "cell_type": "code",
   "execution_count": 9,
   "metadata": {
    "collapsed": true
   },
   "outputs": [],
   "source": [
    "# rtos = RTOS()\n",
    "# fail_rate = 3.1706e-09\n",
    "# reliability_model = TAAF(fail_rate)\n",
    "# processor = Processor(rtos, reliability_model)\n",
    "# for t in queue:\n",
    "#     rtos.create_task(t)"
   ]
  },
  {
   "cell_type": "code",
   "execution_count": 10,
   "metadata": {
    "collapsed": false
   },
   "outputs": [],
   "source": [
    "# clock = 0\n",
    "# h = 0.001\n",
    "# while clock < 0.1:\n",
    "# #     print(rtos.ready_queue)\n",
    "#     processor.update(h, clock)\n",
    "#     print(processor.control_inputs, clock)\n",
    "#     clock += h"
   ]
  },
  {
   "cell_type": "code",
   "execution_count": 11,
   "metadata": {
    "collapsed": true
   },
   "outputs": [],
   "source": [
    "from __future__ import print_function, division\n",
    "from sympy import init_printing\n",
    "init_printing(use_latex='mathjax')"
   ]
  },
  {
   "cell_type": "code",
   "execution_count": 12,
   "metadata": {
    "collapsed": true
   },
   "outputs": [],
   "source": [
    "# from sympy.abc import c, d, e, f, g, h\n",
    "# from sympy.physics.vector import ReferenceFrame\n",
    "# import scipy.integrate as integrate\n",
    "# import math\n",
    "# from sympy import Symbol\n",
    "# from sympy import exp, integrate"
   ]
  },
  {
   "cell_type": "code",
   "execution_count": 13,
   "metadata": {
    "collapsed": false
   },
   "outputs": [],
   "source": [
    "# r = 3.17e-9\n",
    "# year = 3.154e+7\n",
    "# t = Symbol('t')\n",
    "# taaf = 1.1\n",
    "# res = integrate(exp(-taaf * r * t), (t, 0, np.inf))\n",
    "# res /= year\n",
    "# res"
   ]
  },
  {
   "cell_type": "code",
   "execution_count": 14,
   "metadata": {
    "collapsed": false
   },
   "outputs": [],
   "source": [
    "# 1 / (taaf * fail_rate) / year"
   ]
  },
  {
   "cell_type": "code",
   "execution_count": 15,
   "metadata": {
    "collapsed": true
   },
   "outputs": [],
   "source": [
    "from filterpy.kalman import KalmanFilter\n",
    "from filterpy.common import Q_discrete_white_noise\n",
    "from numpy.random import randn\n",
    "import book_plots as bp"
   ]
  },
  {
   "cell_type": "code",
   "execution_count": 16,
   "metadata": {
    "collapsed": false
   },
   "outputs": [
    {
     "data": {
      "image/png": "[encoded data removed]",
      "text/plain": [
       "<matplotlib.figure.Figure at 0x7f268eb205c0>"
      ]
     },
     "metadata": {},
     "output_type": "display_data"
    }
   ],
   "source": [
    "\n",
    "dt = 0.1\n",
    "R = 3.\n",
    "kf = KalmanFilter(dim_x=2, dim_z=1, dim_u = 1)\n",
    "kf.P *= 10\n",
    "kf.R *= R\n",
    "kf.Q = Q_discrete_white_noise(2, dt, 0.1)\n",
    "kf.F = np.array([[1., 0], [0., 1]])\n",
    "kf.B = np.array([[dt], [ 1]])\n",
    "kf.H = np.array([[1., 0]])\n",
    "\n",
    "zs = [i + randn()*R for i in range(1, 100)]\n",
    "xs = []\n",
    "cmd_velocity = 1.\n",
    "for z in zs:\n",
    "    kf.predict(u=cmd_velocity)\n",
    "    kf.update(z)\n",
    "    xs.append(kf.x[0])\n",
    "\n",
    "plt.plot(xs, label='Kalman Filter')\n",
    "bp.plot_measurements(zs)\n",
    "plt.xlabel('time')\n",
    "plt.legend(loc=4)\n",
    "plt.ylabel('distance');"
   ]
  },
  {
   "cell_type": "code",
   "execution_count": null,
   "metadata": {
    "collapsed": true
   },
   "outputs": [],
   "source": []
  },
  {
   "cell_type": "code",
   "execution_count": 17,
   "metadata": {
    "collapsed": true
   },
   "outputs": [],
   "source": [
    "def sense(x, noise_scale):\n",
    "    return np.array([[x[2][0] + randn()*noise_scale[0]],\n",
    "                     [x[3][0] + randn()*noise_scale[1]]])\n",
    "                     \n",
    "\n",
    "class InvPen(object):\n",
    "    def __init__(self, x0, A, B, K, h = 0.01, noise_scale=1):\n",
    "        self.A = A\n",
    "        self.B = B\n",
    "        self.K = K\n",
    "        self.x = x0\n",
    "        self.noise_scale = noise_scale\n",
    "        self.h = h\n",
    "        \n",
    "\n",
    "    def update(self):\n",
    "        self.u = -np.dot(self.K, self.x) + randn() * self.noise_scale\n",
    "#         print(self.u)\n",
    "        self.u = np.reshape(self.u, (-1, 1))\n",
    "#         print(self.A.shape, self.x.shape, self.B.shape,  self.u.shape)\n",
    "        x_dot = np.dot(self.A, self.x) + np.dot(self.B, self.u)\n",
    "#         print(x_dot)\n",
    "        self.x += h * x_dot\n",
    "#         print(self.x[2])\n",
    "        "
   ]
  },
  {
   "cell_type": "code",
   "execution_count": null,
   "metadata": {
    "collapsed": false
   },
   "outputs": [],
   "source": []
  },
  {
   "cell_type": "code",
   "execution_count": 18,
   "metadata": {
    "collapsed": false
   },
   "outputs": [],
   "source": [
    "# A = np.array([[0., 1.0, 0., 0.],\n",
    "#                [0., -0.18182, 2.6727, 0.],\n",
    "#                [0., 0., 0., 1.],\n",
    "#                [0., -0.45455, 31.1820, 0.]])\n",
    "\n",
    "# B = np.array([[0.0],\n",
    "#                [1.8182],\n",
    "#                [0.],\n",
    "#                [4.5455]])\n",
    "\n",
    "# K = np.array([-61.9930, -33.5054, 95.0600, 18.8300])\n",
    "# C = np.array([[0., 0., 1., 0.]])\n",
    "# x0 = np.array([[0.0],\n",
    "#                [0.0],\n",
    "#                [0.4],\n",
    "#                [0.5]])\n",
    "\n",
    "# pen = InvPen(x0, A, B, K)\n",
    "\n",
    "# xs, zs = [], []\n",
    "# for i in range(1000):\n",
    "#     pen.update()\n",
    "#     z = sense(pen.x)\n",
    "#     xs.append(pen.x[2][0])\n",
    "# #     print(xs)\n",
    "#     zs.append(z)\n",
    "\n",
    "# xs = np.asarray(xs)\n",
    "# # xs\n",
    "# # plt.plot(xs)\n",
    "\n",
    "# plt.plot(xs, label='Kalman Filter')\n",
    "# bp.plot_measurements(zs)\n",
    "# plt.xlabel('time')\n",
    "# plt.legend(loc=4)\n",
    "# plt.ylabel('distance');\n",
    "\n"
   ]
  },
  {
   "cell_type": "code",
   "execution_count": 19,
   "metadata": {
    "collapsed": false
   },
   "outputs": [],
   "source": [
    "from scipy import linalg\n",
    "def kal_predict(A, B, x, P, u, h):\n",
    "    x_new = x + h * (np.dot(A, x) + np.dot(B, u))\n",
    "    P_new = np.dot(np.dot(A, P), A.T)\n",
    "    return x_new, P_new\n",
    "\n",
    "def kal_update(A, C, x, P, R, Z):\n",
    "    threshold = 100\n",
    "    error = Z - np.dot(C, x)\n",
    "    if np.any(error > threshold):\n",
    "        x_new = x\n",
    "        P_new = P\n",
    "    else:\n",
    "        S = np.dot(np.dot(C, P), C.T) + R\n",
    "#         print(S.shape, P.shape, C.shape)\n",
    "        K = np.dot(np.dot(P, C.T), linalg.inv(S))\n",
    "        x_new = x + np.dot(K, error)\n",
    "        P_new = np.dot((np.eye(A.shape[0]) - np.dot(K, C)), P)\n",
    "    return x_new, P_new\n",
    "\n",
    "def MakeKF(A, B, C, P, K, h, dim_x = 4, dim_z = 2):\n",
    "\n",
    "    kf = KalmanFilter(dim_x=dim_x, dim_z=dim_z)\n",
    "    kf.x = np.zeros(dim_x)\n",
    "    kf.P = P\n",
    "#     kf.R = R\n",
    "#     kf.Q = Q_discrete_white_noise(dim_x, h, 0)\n",
    "#     print(A.shape, B.shape, K.shape)\n",
    "    kf.F = 1 + h * (A - np.dot(B, K))\n",
    "    kf.H = C\n",
    "    return kf"
   ]
  },
  {
   "cell_type": "code",
   "execution_count": 20,
   "metadata": {
    "collapsed": false
   },
   "outputs": [],
   "source": [
    "# KalmanFilter.update?"
   ]
  },
  {
   "cell_type": "code",
   "execution_count": 21,
   "metadata": {
    "collapsed": true
   },
   "outputs": [],
   "source": [
    "from Task.CustomTasks import KalmanPredict\n",
    "import Task.CustomTasks as ct"
   ]
  },
  {
   "cell_type": "code",
   "execution_count": 22,
   "metadata": {
    "collapsed": false
   },
   "outputs": [
    {
     "data": {
      "text/plain": [
       "array([[  1.00000000e+01,   0.00000000e+00,   1.00000000e+00],\n",
       "       [  1.10000000e+01,   0.00000000e+00,   1.00000000e+00],\n",
       "       [  1.20000000e+01,   0.00000000e+00,   1.00000000e+00],\n",
       "       [  1.30000000e+01,   1.77635684e-15,   0.00000000e+00],\n",
       "       [  1.40000000e+01,   0.00000000e+00,   1.00000000e+00],\n",
       "       [  1.50000000e+01,   0.00000000e+00,   1.00000000e+00],\n",
       "       [  1.60000000e+01,   0.00000000e+00,   1.00000000e+00],\n",
       "       [  1.70000000e+01,   0.00000000e+00,   1.00000000e+00],\n",
       "       [  1.80000000e+01,   3.55271368e-15,   0.00000000e+00],\n",
       "       [  1.90000000e+01,   0.00000000e+00,   1.00000000e+00]])"
      ]
     },
     "execution_count": 22,
     "metadata": {},
     "output_type": "execute_result"
    }
   ],
   "source": [
    "a = np.array([(t * 0.001 * 1000, (t * 0.001 * 1000) % (0.001 * 1000), (t * 0.001 * 1000) % (0.001 * 1000) == 0 )for t in range(4000)])\n",
    "a[10 : 20]"
   ]
  },
  {
   "cell_type": "code",
   "execution_count": 46,
   "metadata": {
    "collapsed": false
   },
   "outputs": [
    {
     "data": {
      "text/html": [
       "<div>\n",
       "<table border=\"1\" class=\"dataframe\">\n",
       "  <thead>\n",
       "    <tr style=\"text-align: right;\">\n",
       "      <th></th>\n",
       "      <th>pen</th>\n",
       "      <th>kalman</th>\n",
       "      <th>diff</th>\n",
       "    </tr>\n",
       "  </thead>\n",
       "  <tbody>\n",
       "    <tr>\n",
       "      <th>0</th>\n",
       "      <td>0.000000</td>\n",
       "      <td>0.000000</td>\n",
       "      <td>0.000000</td>\n",
       "    </tr>\n",
       "    <tr>\n",
       "      <th>1</th>\n",
       "      <td>0.000000</td>\n",
       "      <td>0.000000</td>\n",
       "      <td>0.000000</td>\n",
       "    </tr>\n",
       "    <tr>\n",
       "      <th>2</th>\n",
       "      <td>-47.439000</td>\n",
       "      <td>-47.439000</td>\n",
       "      <td>0.000000</td>\n",
       "    </tr>\n",
       "    <tr>\n",
       "      <th>3</th>\n",
       "      <td>-47.439000</td>\n",
       "      <td>-47.439000</td>\n",
       "      <td>0.000000</td>\n",
       "    </tr>\n",
       "    <tr>\n",
       "      <th>4</th>\n",
       "      <td>-47.439000</td>\n",
       "      <td>-47.439000</td>\n",
       "      <td>0.000000</td>\n",
       "    </tr>\n",
       "    <tr>\n",
       "      <th>5</th>\n",
       "      <td>-47.012396</td>\n",
       "      <td>-7.811774</td>\n",
       "      <td>39.200622</td>\n",
       "    </tr>\n",
       "    <tr>\n",
       "      <th>6</th>\n",
       "      <td>-47.012396</td>\n",
       "      <td>-7.811774</td>\n",
       "      <td>39.200622</td>\n",
       "    </tr>\n",
       "    <tr>\n",
       "      <th>7</th>\n",
       "      <td>-47.012396</td>\n",
       "      <td>-7.811774</td>\n",
       "      <td>39.200622</td>\n",
       "    </tr>\n",
       "    <tr>\n",
       "      <th>8</th>\n",
       "      <td>-44.177843</td>\n",
       "      <td>-7.008834</td>\n",
       "      <td>37.169009</td>\n",
       "    </tr>\n",
       "    <tr>\n",
       "      <th>9</th>\n",
       "      <td>-44.177843</td>\n",
       "      <td>-7.008834</td>\n",
       "      <td>37.169009</td>\n",
       "    </tr>\n",
       "  </tbody>\n",
       "</table>\n",
       "</div>"
      ],
      "text/plain": [
       "         pen     kalman       diff\n",
       "0   0.000000   0.000000   0.000000\n",
       "1   0.000000   0.000000   0.000000\n",
       "2 -47.439000 -47.439000   0.000000\n",
       "3 -47.439000 -47.439000   0.000000\n",
       "4 -47.439000 -47.439000   0.000000\n",
       "5 -47.012396  -7.811774  39.200622\n",
       "6 -47.012396  -7.811774  39.200622\n",
       "7 -47.012396  -7.811774  39.200622\n",
       "8 -44.177843  -7.008834  37.169009\n",
       "9 -44.177843  -7.008834  37.169009"
      ]
     },
     "execution_count": 46,
     "metadata": {},
     "output_type": "execute_result"
    }
   ],
   "source": [
    "use_pen = pd.read_csv('use_pen.csv')\n",
    "use_kalman = pd.read_csv('use_kalman.csv')\n",
    "\n",
    "# plt.figure()\n",
    "# plt.hold(True)\n",
    "# plt.grid(True)\n",
    "# plt.plot(use_pen, c='r', linewidth = 3)\n",
    "# plt.plot(use_kalman, c='b', linewidth = 1)\n",
    "combine = pd.concat([use_pen, use_kalman], axis=1)\n",
    "combine.columns = ['pen', 'kalman']\n",
    "combine['diff'] = abs(combine['pen'] - combine['kalman'])\n",
    "combine.head(10)"
   ]
  },
  {
   "cell_type": "code",
   "execution_count": 24,
   "metadata": {
    "collapsed": false
   },
   "outputs": [
    {
     "data": {
      "text/latex": [
       "$$\\left ( 4, \\quad 4001\\right )$$"
      ],
      "text/plain": [
       "(4, 4001)"
      ]
     },
     "execution_count": 24,
     "metadata": {},
     "output_type": "execute_result"
    },
    {
     "data": {
      "image/png": "[encoded data removed]",
      "text/plain": [
       "<matplotlib.figure.Figure at 0x7f268eb20630>"
      ]
     },
     "metadata": {},
     "output_type": "display_data"
    },
    {
     "data": {
      "image/png": "[encoded data removed]",
      "text/plain": [
       "<matplotlib.figure.Figure at 0x7f268bebd128>"
      ]
     },
     "metadata": {},
     "output_type": "display_data"
    }
   ],
   "source": [
    "h = 0.001\n",
    "kf_period = 0.02\n",
    "kf_deadline = kf_period\n",
    "kf_wcet = 0.01\n",
    "A = np.array([[0., 1.0, 0., 0.],\n",
    "               [0., -0.18182, 2.6727, 0.],\n",
    "               [0., 0., 0., 1.],\n",
    "               [0., -0.45455, 31.1820, 0.]])\n",
    "\n",
    "B = np.array([[0.0],\n",
    "               [1.8182],\n",
    "               [0.],\n",
    "               [4.5455]])\n",
    "\n",
    "K = np.array([[-61.9930, -33.5054, 95.0600, 18.8300]])\n",
    "C = np.array([[0., 0., 1., 0.],\n",
    "              [0., 0., 0., 1.]])\n",
    "x0 = np.array([[0.0],\n",
    "               [0.0],\n",
    "               [0.4],\n",
    "               [0.5]])\n",
    "\n",
    "P = np.array([[0., 0., 0., 0.],\n",
    "              [0., 0., 0., 0.],\n",
    "              [0., 0., 1000., 0.],\n",
    "              [0., 0., 0., 1000.]])\n",
    "\n",
    "F = 1 + kf_period * (A - np.dot(B, K))\n",
    "\n",
    "angle_noise = 0.05\n",
    "rate_noise = 0.005\n",
    "angle_noise2 = 0.005\n",
    "rate_noise2 = 0.5\n",
    "actuator_noise = 2\n",
    "R = np.array([[angle_noise, 0.],\n",
    "              [0., rate_noise]])\n",
    "R2 = np.array([[angle_noise2, 0.],\n",
    "              [0., rate_noise2]])\n",
    "\n",
    "pen = InvPen(x0, A, B, K, h, actuator_noise)\n",
    "\n",
    "zs = sense(x0, [angle_noise, rate_noise])\n",
    "xs = x0\n",
    "xtract = np.array([[0.0],\n",
    "                   [0.0],\n",
    "                   [0.0],\n",
    "                   [0.5]])\n",
    "\n",
    "kf = MakeKF(A, B, C, P, K, h)\n",
    "\n",
    "kf2 = MakeKF(A, B, C, P, K, h)\n",
    "\n",
    "kf3 = ct.makeLinearKF(A, B, C, P, F)\n",
    "\n",
    "Rs = {'sensor1' : R, 'sensor2' : R2}\n",
    "\n",
    "localizer = KalmanPredict('kalman predict', kf_period, kf_deadline, kf_wcet, 4, kf3, Rs)\n",
    "\n",
    "for t in range(4000):\n",
    "    pen.update()\n",
    "    z = sense(pen.x, [angle_noise, rate_noise])\n",
    "    z2 = sense(pen.x, [angle_noise2, rate_noise2])\n",
    "    all_z = {'sensor1' : z[:, -1], 'sensor2' : z2[:, -1]}\n",
    "    xs = np.append(xs, pen.x, axis=1)\n",
    "    if (t ) % (kf_period * 1. / h) < 0.001:\n",
    "        localizer.run(all_z)\n",
    "    x_predict = np.reshape(localizer.output, (-1, 1))\n",
    "    xtract = np.append(xtract, x_predict, axis=1)\n",
    "\n",
    "# xs = np.asarray(xs)\n",
    "# xs\n",
    "# plt.plot(xs)\n",
    "plt.figure()\n",
    "plt.hold(True)\n",
    "plt.grid(True)\n",
    "plt.plot(xtract[2, :], c = 'b', label='Kalman Filter', linewidth=2)\n",
    "plt.plot(xs[2, :], c= 'r', label='True value', linewidth = 1)\n",
    "plt.xlabel('Time (ms)')\n",
    "plt.ylabel('Angle (rad)')\n",
    "# bp.plot_measurements(zs)\n",
    "# plt.xlabel('time')\n",
    "plt.legend(loc=4)\n",
    "# plt.ylabel('distance');\n",
    "\n",
    "\n",
    "plt.figure()\n",
    "plt.hold(True)\n",
    "plt.grid(True)\n",
    "plt.plot(xtract[3, :], c = 'b', label='Kalman Filter', linewidth=2)\n",
    "plt.plot(xs[3, :], c= 'r', label='True value', linewidth = 1)\n",
    "plt.xlabel('Time (ms)')\n",
    "plt.ylabel('Angular Rate (rad/s)')\n",
    "# bp.plot_measurements(zs)\n",
    "# plt.xlabel('time')\n",
    "plt.legend(loc=4)\n",
    "# plt.ylabel('distance');\n",
    "xtract.shape"
   ]
  },
  {
   "cell_type": "code",
   "execution_count": null,
   "metadata": {
    "collapsed": true
   },
   "outputs": [],
   "source": []
  },
  {
   "cell_type": "code",
   "execution_count": 27,
   "metadata": {
    "collapsed": false
   },
   "outputs": [
    {
     "name": "stdout",
     "output_type": "stream",
     "text": [
      "[[0]]\n"
     ]
    },
    {
     "ename": "ValueError",
     "evalue": "all the input array dimensions except for the concatenation axis must match exactly",
     "output_type": "error",
     "traceback": [
      "\u001b[1;31m---------------------------------------------------------------------------\u001b[0m",
      "\u001b[1;31mValueError\u001b[0m                                Traceback (most recent call last)",
      "\u001b[1;32m<ipython-input-27-2d15aefaec67>\u001b[0m in \u001b[0;36m<module>\u001b[1;34m()\u001b[0m\n\u001b[0;32m     75\u001b[0m     \u001b[0mx_predict\u001b[0m \u001b[1;33m=\u001b[0m \u001b[0mnp\u001b[0m\u001b[1;33m.\u001b[0m\u001b[0mreshape\u001b[0m\u001b[1;33m(\u001b[0m\u001b[0mrtos\u001b[0m\u001b[1;33m.\u001b[0m\u001b[0mtask_outputs\u001b[0m\u001b[1;33m[\u001b[0m\u001b[0mlocalizer\u001b[0m\u001b[1;33m.\u001b[0m\u001b[0mname\u001b[0m\u001b[1;33m]\u001b[0m\u001b[1;33m,\u001b[0m \u001b[1;33m(\u001b[0m\u001b[1;33m-\u001b[0m\u001b[1;36m1\u001b[0m\u001b[1;33m,\u001b[0m \u001b[1;36m1\u001b[0m\u001b[1;33m)\u001b[0m\u001b[1;33m)\u001b[0m\u001b[1;33m\u001b[0m\u001b[0m\n\u001b[0;32m     76\u001b[0m     \u001b[0mprint\u001b[0m\u001b[1;33m(\u001b[0m\u001b[0mx_predict\u001b[0m\u001b[1;33m)\u001b[0m\u001b[1;33m\u001b[0m\u001b[0m\n\u001b[1;32m---> 77\u001b[1;33m     \u001b[0mxtract\u001b[0m \u001b[1;33m=\u001b[0m \u001b[0mnp\u001b[0m\u001b[1;33m.\u001b[0m\u001b[0mappend\u001b[0m\u001b[1;33m(\u001b[0m\u001b[0mxtract\u001b[0m\u001b[1;33m,\u001b[0m \u001b[0mx_predict\u001b[0m\u001b[1;33m,\u001b[0m \u001b[0maxis\u001b[0m\u001b[1;33m=\u001b[0m\u001b[1;36m1\u001b[0m\u001b[1;33m)\u001b[0m\u001b[1;33m\u001b[0m\u001b[0m\n\u001b[0m\u001b[0;32m     78\u001b[0m \u001b[1;33m\u001b[0m\u001b[0m\n\u001b[0;32m     79\u001b[0m \u001b[1;31m# xs = np.asarray(xs)\u001b[0m\u001b[1;33m\u001b[0m\u001b[1;33m\u001b[0m\u001b[0m\n",
      "\u001b[1;32m/home/ares/anaconda3/lib/python3.5/site-packages/numpy/lib/function_base.py\u001b[0m in \u001b[0;36mappend\u001b[1;34m(arr, values, axis)\u001b[0m\n\u001b[0;32m   4148\u001b[0m         \u001b[0mvalues\u001b[0m \u001b[1;33m=\u001b[0m \u001b[0mravel\u001b[0m\u001b[1;33m(\u001b[0m\u001b[0mvalues\u001b[0m\u001b[1;33m)\u001b[0m\u001b[1;33m\u001b[0m\u001b[0m\n\u001b[0;32m   4149\u001b[0m         \u001b[0maxis\u001b[0m \u001b[1;33m=\u001b[0m \u001b[0marr\u001b[0m\u001b[1;33m.\u001b[0m\u001b[0mndim\u001b[0m\u001b[1;33m-\u001b[0m\u001b[1;36m1\u001b[0m\u001b[1;33m\u001b[0m\u001b[0m\n\u001b[1;32m-> 4150\u001b[1;33m     \u001b[1;32mreturn\u001b[0m \u001b[0mconcatenate\u001b[0m\u001b[1;33m(\u001b[0m\u001b[1;33m(\u001b[0m\u001b[0marr\u001b[0m\u001b[1;33m,\u001b[0m \u001b[0mvalues\u001b[0m\u001b[1;33m)\u001b[0m\u001b[1;33m,\u001b[0m \u001b[0maxis\u001b[0m\u001b[1;33m=\u001b[0m\u001b[0maxis\u001b[0m\u001b[1;33m)\u001b[0m\u001b[1;33m\u001b[0m\u001b[0m\n\u001b[0m",
      "\u001b[1;31mValueError\u001b[0m: all the input array dimensions except for the concatenation axis must match exactly"
     ]
    }
   ],
   "source": [
    "h = 0.001\n",
    "kf_period = 0.02\n",
    "kf_deadline = kf_period\n",
    "kf_wcet = 0.01\n",
    "A = np.array([[0., 1.0, 0., 0.],\n",
    "               [0., -0.18182, 2.6727, 0.],\n",
    "               [0., 0., 0., 1.],\n",
    "               [0., -0.45455, 31.1820, 0.]])\n",
    "\n",
    "B = np.array([[0.0],\n",
    "               [1.8182],\n",
    "               [0.],\n",
    "               [4.5455]])\n",
    "\n",
    "K = np.array([[-61.9930, -33.5054, 95.0600, 18.8300]])\n",
    "C = np.array([[0., 0., 1., 0.],\n",
    "              [0., 0., 0., 1.]])\n",
    "x0 = np.array([[0.0],\n",
    "               [0.0],\n",
    "               [0.4],\n",
    "               [0.5]])\n",
    "\n",
    "P = np.array([[0., 0., 0., 0.],\n",
    "              [0., 0., 0., 0.],\n",
    "              [0., 0., 1000., 0.],\n",
    "              [0., 0., 0., 1000.]])\n",
    "\n",
    "F = 1 + kf_period * (A - np.dot(B, K))\n",
    "\n",
    "angle_noise = 0.05\n",
    "rate_noise = 0.005\n",
    "angle_noise2 = 0.005\n",
    "rate_noise2 = 0.5\n",
    "actuator_noise = 2\n",
    "R = np.array([[angle_noise, 0.],\n",
    "              [0., rate_noise]])\n",
    "R2 = np.array([[angle_noise2, 0.],\n",
    "              [0., rate_noise2]])\n",
    "\n",
    "pen = InvPen(x0, A, B, K, h, actuator_noise)\n",
    "\n",
    "zs = sense(x0, [angle_noise, rate_noise])\n",
    "xs = x0\n",
    "xtract = np.array([[0.0],\n",
    "                   [0.0],\n",
    "                   [0.0],\n",
    "                   [0.5]])\n",
    "\n",
    "kf = MakeKF(A, B, C, P, K, h)\n",
    "\n",
    "kf2 = MakeKF(A, B, C, P, K, h)\n",
    "\n",
    "kf3 = ct.makeLinearKF(A, B, C, P, F)\n",
    "\n",
    "Rs = {'sensor1' : R, 'sensor2' : R2}\n",
    "\n",
    "localizer = KalmanPredict('kalman', kf_period, kf_deadline, kf_wcet, 4, kf3, Rs)\n",
    "acc = ACC('acc', 0.01, 0.01, 0.004, 6.5)\n",
    "queue = [localizer, acc]\n",
    "rtos = RTOS()\n",
    "for task in queue:\n",
    "    rtos.create_task(task)\n",
    "\n",
    "for t in range(4000):\n",
    "    pen.update()\n",
    "    z = sense(pen.x, [angle_noise, rate_noise])\n",
    "    z2 = sense(pen.x, [angle_noise2, rate_noise2])\n",
    "    all_z = {'sensor1' : z[:, -1], 'sensor2' : z2[:, -1]}\n",
    "    xs = np.append(xs, pen.x, axis=1)\n",
    "    rtos.task_inputs[acc.name] = 0\n",
    "    rtos.task_inputs[localizer.name] = all_z\n",
    "    rtos.update(h, t)\n",
    "#     if (t ) % (kf_period * 1. / h) < 0.001:\n",
    "#         localizer.run(all_z)\n",
    "    x_predict = np.reshape(rtos.task_outputs[localizer.name], (-1, 1))\n",
    "    print(x_predict)\n",
    "    xtract = np.append(xtract, x_predict, axis=1)\n",
    "\n",
    "# xs = np.asarray(xs)\n",
    "# xs\n",
    "# plt.plot(xs)\n",
    "plt.figure()\n",
    "plt.hold(True)\n",
    "plt.grid(True)\n",
    "plt.plot(xtract[2, :], c = 'b', label='Kalman Filter', linewidth=2)\n",
    "plt.plot(xs[2, :], c= 'r', label='True value', linewidth = 1)\n",
    "plt.xlabel('Time (ms)')\n",
    "plt.ylabel('Angle (rad)')\n",
    "# bp.plot_measurements(zs)\n",
    "# plt.xlabel('time')\n",
    "plt.legend(loc=4)\n",
    "# plt.ylabel('distance');\n",
    "\n",
    "\n",
    "plt.figure()\n",
    "plt.hold(True)\n",
    "plt.grid(True)\n",
    "plt.plot(xtract[3, :], c = 'b', label='Kalman Filter', linewidth=2)\n",
    "plt.plot(xs[3, :], c= 'r', label='True value', linewidth = 1)\n",
    "plt.xlabel('Time (ms)')\n",
    "plt.ylabel('Angular Rate (rad/s)')\n",
    "# bp.plot_measurements(zs)\n",
    "# plt.xlabel('time')\n",
    "plt.legend(loc=4)\n",
    "# plt.ylabel('distance');\n",
    "xtract.shape"
   ]
  },
  {
   "cell_type": "code",
   "execution_count": 47,
   "metadata": {
    "collapsed": true
   },
   "outputs": [],
   "source": [
    "rtos = RTOS()\n",
    "fail_rate = 3.1706e-09\n",
    "reliability_model = TAAF(fail_rate)\n",
    "processor = Processor(rtos, reliability_model)\n",
    "queue2 = [abss, acc]\n",
    "for t in queue:\n",
    "    rtos.create_task(t)"
   ]
  },
  {
   "cell_type": "code",
   "execution_count": 48,
   "metadata": {
    "collapsed": false
   },
   "outputs": [
    {
     "name": "stderr",
     "output_type": "stream",
     "text": [
      "/home/ares/anaconda3/lib/python3.5/site-packages/ipykernel/__main__.py:4: DeprecationWarning: using a non-integer number instead of an integer will result in an error in the future\n",
      "/home/ares/anaconda3/lib/python3.5/site-packages/ipykernel/__main__.py:8: DeprecationWarning: using a non-integer number instead of an integer will result in an error in the future\n"
     ]
    },
    {
     "ename": "KeyError",
     "evalue": "'kalman'",
     "output_type": "error",
     "traceback": [
      "\u001b[1;31m---------------------------------------------------------------------------\u001b[0m",
      "\u001b[1;31mKeyError\u001b[0m                                  Traceback (most recent call last)",
      "\u001b[1;32m<ipython-input-48-814516c5b257>\u001b[0m in \u001b[0;36m<module>\u001b[1;34m()\u001b[0m\n\u001b[0;32m     11\u001b[0m \u001b[1;32mfor\u001b[0m \u001b[0mi\u001b[0m \u001b[1;32min\u001b[0m \u001b[0mnp\u001b[0m\u001b[1;33m.\u001b[0m\u001b[0marange\u001b[0m\u001b[1;33m(\u001b[0m\u001b[1;36m1\u001b[0m\u001b[1;33m,\u001b[0m \u001b[0mlen\u001b[0m\u001b[1;33m(\u001b[0m\u001b[0mtime\u001b[0m\u001b[1;33m)\u001b[0m\u001b[1;33m)\u001b[0m\u001b[1;33m:\u001b[0m\u001b[1;33m\u001b[0m\u001b[0m\n\u001b[0;32m     12\u001b[0m \u001b[1;31m#     print(rtos.ready_queue)\u001b[0m\u001b[1;33m\u001b[0m\u001b[1;33m\u001b[0m\u001b[0m\n\u001b[1;32m---> 13\u001b[1;33m     \u001b[0mprocessor\u001b[0m\u001b[1;33m.\u001b[0m\u001b[0mupdate\u001b[0m\u001b[1;33m(\u001b[0m\u001b[0mh\u001b[0m\u001b[1;33m,\u001b[0m \u001b[0mclock\u001b[0m\u001b[1;33m)\u001b[0m\u001b[1;33m\u001b[0m\u001b[0m\n\u001b[0m\u001b[0;32m     14\u001b[0m \u001b[1;31m#     print(processor.control_inputs, clock)\u001b[0m\u001b[1;33m\u001b[0m\u001b[1;33m\u001b[0m\u001b[0m\n\u001b[0;32m     15\u001b[0m     \u001b[0mtaaf\u001b[0m\u001b[1;33m[\u001b[0m\u001b[0mi\u001b[0m\u001b[1;33m]\u001b[0m \u001b[1;33m=\u001b[0m \u001b[0mprocessor\u001b[0m\u001b[1;33m.\u001b[0m\u001b[0mreliability_model\u001b[0m\u001b[1;33m.\u001b[0m\u001b[0mtaaf\u001b[0m\u001b[1;33m\u001b[0m\u001b[0m\n",
      "\u001b[1;32m/home/ares/Dropbox/Phd/AdaFT/Processor/Processor.py\u001b[0m in \u001b[0;36mupdate\u001b[1;34m(self, h, clock)\u001b[0m\n\u001b[0;32m     21\u001b[0m     \u001b[1;32mdef\u001b[0m \u001b[0mupdate\u001b[0m\u001b[1;33m(\u001b[0m\u001b[0mself\u001b[0m\u001b[1;33m,\u001b[0m \u001b[0mh\u001b[0m\u001b[1;33m,\u001b[0m \u001b[0mclock\u001b[0m\u001b[1;33m)\u001b[0m\u001b[1;33m:\u001b[0m\u001b[1;33m\u001b[0m\u001b[0m\n\u001b[0;32m     22\u001b[0m         \u001b[0mself\u001b[0m\u001b[1;33m.\u001b[0m\u001b[0mclock_sync\u001b[0m\u001b[1;33m(\u001b[0m\u001b[0mclock\u001b[0m\u001b[1;33m)\u001b[0m\u001b[1;33m\u001b[0m\u001b[0m\n\u001b[1;32m---> 23\u001b[1;33m         \u001b[0mself\u001b[0m\u001b[1;33m.\u001b[0m\u001b[0mrtos\u001b[0m\u001b[1;33m.\u001b[0m\u001b[0mupdate\u001b[0m\u001b[1;33m(\u001b[0m\u001b[0mh\u001b[0m\u001b[1;33m,\u001b[0m \u001b[0mclock\u001b[0m\u001b[1;33m)\u001b[0m\u001b[1;33m\u001b[0m\u001b[0m\n\u001b[0m\u001b[0;32m     24\u001b[0m         \u001b[1;31m# self.control_inputs = self.rtos.task_outputs\u001b[0m\u001b[1;33m\u001b[0m\u001b[1;33m\u001b[0m\u001b[0m\n\u001b[0;32m     25\u001b[0m         \u001b[1;32mif\u001b[0m \u001b[0mself\u001b[0m\u001b[1;33m.\u001b[0m\u001b[0mrtos\u001b[0m\u001b[1;33m.\u001b[0m\u001b[0mrunning_task\u001b[0m \u001b[1;32mis\u001b[0m \u001b[1;32mNone\u001b[0m\u001b[1;33m:\u001b[0m\u001b[1;33m\u001b[0m\u001b[0m\n",
      "\u001b[1;32m/home/ares/Dropbox/Phd/AdaFT/OS/RTOS.py\u001b[0m in \u001b[0;36mupdate\u001b[1;34m(self, h, clock)\u001b[0m\n\u001b[0;32m     80\u001b[0m     \u001b[1;32mdef\u001b[0m \u001b[0mclock_sync\u001b[0m\u001b[1;33m(\u001b[0m\u001b[0mself\u001b[0m\u001b[1;33m,\u001b[0m \u001b[0mclock\u001b[0m\u001b[1;33m)\u001b[0m\u001b[1;33m:\u001b[0m\u001b[1;33m\u001b[0m\u001b[0m\n\u001b[0;32m     81\u001b[0m         \u001b[0mself\u001b[0m\u001b[1;33m.\u001b[0m\u001b[0mclock\u001b[0m \u001b[1;33m=\u001b[0m \u001b[0mclock\u001b[0m\u001b[1;33m\u001b[0m\u001b[0m\n\u001b[1;32m---> 82\u001b[1;33m \u001b[1;33m\u001b[0m\u001b[0m\n\u001b[0m\u001b[0;32m     83\u001b[0m     \u001b[1;32mdef\u001b[0m \u001b[0mcheck_running_task\u001b[0m\u001b[1;33m(\u001b[0m\u001b[0mself\u001b[0m\u001b[1;33m)\u001b[0m\u001b[1;33m:\u001b[0m\u001b[1;33m\u001b[0m\u001b[0m\n\u001b[0;32m     84\u001b[0m         \u001b[1;31m# check if the running task has finished, if so, remove it from the running queue\u001b[0m\u001b[1;33m\u001b[0m\u001b[1;33m\u001b[0m\u001b[0m\n",
      "\u001b[1;32m/home/ares/Dropbox/Phd/AdaFT/OS/RTOS.py\u001b[0m in \u001b[0;36mrelease_new_task_iterations\u001b[1;34m(self)\u001b[0m\n\u001b[0;32m     65\u001b[0m                 \u001b[1;32mreturn\u001b[0m \u001b[1;36m0\u001b[0m\u001b[1;33m\u001b[0m\u001b[0m\n\u001b[0;32m     66\u001b[0m             \u001b[1;32melse\u001b[0m\u001b[1;33m:\u001b[0m\u001b[1;33m\u001b[0m\u001b[0m\n\u001b[1;32m---> 67\u001b[1;33m                 \u001b[1;32mreturn\u001b[0m \u001b[1;33m-\u001b[0m\u001b[1;36m1\u001b[0m\u001b[1;33m\u001b[0m\u001b[0m\n\u001b[0m\u001b[0;32m     68\u001b[0m         \u001b[1;32mreturn\u001b[0m \u001b[1;36m0\u001b[0m\u001b[1;33m\u001b[0m\u001b[0m\n\u001b[0;32m     69\u001b[0m \u001b[1;33m\u001b[0m\u001b[0m\n",
      "\u001b[1;31mKeyError\u001b[0m: 'kalman'"
     ]
    }
   ],
   "source": [
    "clock = 0\n",
    "h = 0.001\n",
    "end = 50\n",
    "taaf = np.zeros([end / h, 1])\n",
    "time = np.arange(0, end, h)\n",
    "time = np.reshape(time, (len(time), 1))\n",
    "taaf[0] = 1\n",
    "mttf = np.zeros([end / h, 1])\n",
    "mttf[0] = 10\n",
    "i = 1\n",
    "for i in np.arange(1, len(time)):\n",
    "#     print(rtos.ready_queue)\n",
    "    processor.update(h, clock)\n",
    "#     print(processor.control_inputs, clock)\n",
    "    taaf[i] = processor.reliability_model.taaf\n",
    "    mttf[i] = processor.reliability_model.mttf_in_years\n",
    "    clock += h"
   ]
  },
  {
   "cell_type": "code",
   "execution_count": 120,
   "metadata": {
    "collapsed": false
   },
   "outputs": [
    {
     "data": {
      "text/plain": [
       "[<matplotlib.lines.Line2D at 0x7f55dc2f7278>]"
      ]
     },
     "execution_count": 120,
     "metadata": {},
     "output_type": "execute_result"
    },
    {
     "data": {
      "image/png": "[encoded data removed]",
      "text/plain": [
       "<matplotlib.figure.Figure at 0x7f55db68e6d8>"
      ]
     },
     "metadata": {},
     "output_type": "display_data"
    }
   ],
   "source": [
    "plt.plot(taaf)"
   ]
  },
  {
   "cell_type": "code",
   "execution_count": 121,
   "metadata": {
    "collapsed": false
   },
   "outputs": [
    {
     "data": {
      "text/plain": [
       "<matplotlib.text.Text at 0x7f55dc32dba8>"
      ]
     },
     "execution_count": 121,
     "metadata": {},
     "output_type": "execute_result"
    },
    {
     "data": {
      "image/png": "[encoded data removed]",
      "text/plain": [
       "<matplotlib.figure.Figure at 0x7f55dc383ba8>"
      ]
     },
     "metadata": {},
     "output_type": "display_data"
    }
   ],
   "source": [
    "# Two subplots, unpack the axes array immediately\n",
    "f, (ax1, ax2) = plt.subplots(1, 2, figsize=(15, 5))\n",
    "ax1.plot(taaf)\n",
    "ax1.set_title('taaf')\n",
    "ax2.plot(mttf)\n",
    "ax2.set_title('mttf in years')\n"
   ]
  },
  {
   "cell_type": "code",
   "execution_count": null,
   "metadata": {
    "collapsed": true
   },
   "outputs": [],
   "source": []
  },
  {
   "cell_type": "code",
   "execution_count": 114,
   "metadata": {
    "collapsed": false
   },
   "outputs": [
    {
     "name": "stderr",
     "output_type": "stream",
     "text": [
      "/home/ares/anaconda3/lib/python3.5/site-packages/ipykernel/__main__.py:4: DeprecationWarning: using a non-integer number instead of an integer will result in an error in the future\n",
      "/home/ares/anaconda3/lib/python3.5/site-packages/ipykernel/__main__.py:5: DeprecationWarning: using a non-integer number instead of an integer will result in an error in the future\n",
      "/home/ares/anaconda3/lib/python3.5/site-packages/ipykernel/__main__.py:6: DeprecationWarning: using a non-integer number instead of an integer will result in an error in the future\n"
     ]
    }
   ],
   "source": [
    "clock = 0\n",
    "h = 0.001\n",
    "end = 10\n",
    "taaf = np.zeros([end / h, 1])\n",
    "mttf = np.zeros([end / h, 1])\n",
    "T = np.zeros([end / h, 1])\n",
    "time = np.arange(0, end, h)\n",
    "time = np.reshape(time, (len(time), 1))\n",
    "taaf[0] = 1\n",
    "i = 1\n",
    "des_fail_rate = 3.1706e-09\n",
    "reliability_model = TAAF(des_fail_rate)\n",
    "u = 0.5\n",
    "power = 5\n",
    "Tss = reliability_model.steady_state_temperature(power)\n",
    "Tss_idle = reliability_model.steady_state_temperature(1)\n",
    "for i in np.arange(1, len(time)):\n",
    "    if time[i] <= time[-1] * u:\n",
    "        reliability_model.update_temperature(Tss, h)\n",
    "    else:\n",
    "        reliability_model.update_temperature(Tss_idle, h)\n",
    "    reliability_model.update_reliability()\n",
    "    taaf[i] = reliability_model.taaf\n",
    "    mttf[i] = reliability_model.mttf_in_years\n",
    "    T[i] = reliability_model.abs_temperature - 273.15\n",
    "    clock += h"
   ]
  },
  {
   "cell_type": "code",
   "execution_count": 115,
   "metadata": {
    "collapsed": false
   },
   "outputs": [],
   "source": [
    "# mttf[0:50]"
   ]
  },
  {
   "cell_type": "code",
   "execution_count": 117,
   "metadata": {
    "collapsed": false
   },
   "outputs": [
    {
     "data": {
      "text/plain": [
       "<matplotlib.text.Text at 0x7f55db738080>"
      ]
     },
     "execution_count": 117,
     "metadata": {},
     "output_type": "execute_result"
    },
    {
     "data": {
      "image/png": "[encoded data removed]",
      "text/plain": [
       "<matplotlib.figure.Figure at 0x7f55db847eb8>"
      ]
     },
     "metadata": {},
     "output_type": "display_data"
    }
   ],
   "source": [
    "f, (ax1, ax2) = plt.subplots(1, 2, figsize = (15, 5))\n",
    "ax1.plot(taaf)\n",
    "ax1.grid(True)\n",
    "ax1.set_title('taaf')\n",
    "ax2.plot(mttf)\n",
    "ax2.grid(True)\n",
    "ax2.set_title('mttf in years')"
   ]
  },
  {
   "cell_type": "code",
   "execution_count": null,
   "metadata": {
    "collapsed": true
   },
   "outputs": [],
   "source": []
  }
 ],
 "metadata": {
  "kernelspec": {
   "display_name": "Python 3",
   "language": "python",
   "name": "python3"
  },
  "language_info": {
   "codemirror_mode": {
    "name": "ipython",
    "version": 3
   },
   "file_extension": ".py",
   "mimetype": "text/x-python",
   "name": "python",
   "nbconvert_exporter": "python",
   "pygments_lexer": "ipython3",
   "version": "3.5.1"
  }
 },
 "nbformat": 4,
 "nbformat_minor": 0
}
