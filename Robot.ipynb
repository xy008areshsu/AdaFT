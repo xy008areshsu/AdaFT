{
 "cells": [
  {
   "cell_type": "code",
   "execution_count": 2,
   "metadata": {
    "collapsed": false
   },
   "outputs": [],
   "source": [
    "import pandas as pd\n",
    "import numpy as np\n",
    "from sklearn.ensemble import RandomForestClassifier\n",
    "from sklearn.cross_validation import train_test_split\n",
    "from sklearn.preprocessing import MinMaxScaler, StandardScaler\n",
    "from sklearn.neighbors import KNeighborsClassifier\n",
    "from sklearn.ensemble import RandomForestClassifier\n",
    "from sklearn.metrics import precision_recall_curve\n",
    "from sklearn.svm import SVC\n",
    "from sklearn.multiclass import OneVsRestClassifier\n",
    "from sklearn.preprocessing import label_binarize\n",
    "from sklearn.metrics import average_precision_score\n",
    "from sklearn.kernel_approximation import RBFSampler\n",
    "from sklearn.linear_model import SGDClassifier\n",
    "from sklearn.linear_model import LogisticRegression\n",
    "from sklearn.ensemble import AdaBoostClassifier\n",
    "import matplotlib.pyplot as plt\n",
    "# import tensorflow as tf\n",
    "from six.moves import cPickle as pickle\n",
    "import pickle\n",
    "import os\n",
    "from sklearn.tree import DecisionTreeClassifier\n",
    "\n",
    "\n",
    "%matplotlib inline"
   ]
  },
  {
   "cell_type": "code",
   "execution_count": null,
   "metadata": {
    "collapsed": false
   },
   "outputs": [],
   "source": [
    "data = np.genfromtxt ('labelded_sss.csv', delimiter=\",\")\n",
    "data = pd.DataFrame(data, columns=['theta1', 'theta2', 'theta3', 'rate1', 'rate2', 'rate3', 'safe'])\n",
    "data.shape"
   ]
  },
  {
   "cell_type": "code",
   "execution_count": null,
   "metadata": {
    "collapsed": true
   },
   "outputs": [],
   "source": [
    "X = data.ix[:, ['theta1', 'theta2', 'theta3', 'rate1', 'rate2', 'rate3']].values\n",
    "y = data.ix[:, 'safe'].values"
   ]
  },
  {
   "cell_type": "code",
   "execution_count": null,
   "metadata": {
    "collapsed": true
   },
   "outputs": [],
   "source": [
    "# X = data.ix[:, ['theta1', 'theta2', 'rate1', 'rate2']].values\n",
    "# y = data.ix[:, 'safe'].values"
   ]
  },
  {
   "cell_type": "code",
   "execution_count": null,
   "metadata": {
    "collapsed": false
   },
   "outputs": [],
   "source": [
    "X_train, X_test, y_train, y_test = train_test_split(X, y, test_size = 0.01)\n",
    "y_train[0:10]"
   ]
  },
  {
   "cell_type": "code",
   "execution_count": null,
   "metadata": {
    "collapsed": true
   },
   "outputs": [],
   "source": [
    "stdsc = StandardScaler()\n",
    "X_train_norm = stdsc.fit_transform(X_train)\n",
    "X_test_norm = stdsc.transform(X_test)"
   ]
  },
  {
   "cell_type": "code",
   "execution_count": null,
   "metadata": {
    "collapsed": false
   },
   "outputs": [],
   "source": [
    "# clf = KNeighborsClassifier(n_neighbors = 10)\n",
    "# clf.fit(X_train_norm, y_train)\n",
    "# clf.score(X_train_norm, y_train), clf.score(X_test_norm, y_test)"
   ]
  },
  {
   "cell_type": "code",
   "execution_count": null,
   "metadata": {
    "collapsed": false
   },
   "outputs": [],
   "source": [
    "forest = RandomForestClassifier(n_estimators = 15, n_jobs = -1, class_weight='balanced')\n",
    "forest.fit(X_train, y_train)\n",
    "importances = forest.feature_importances_\n",
    "cols = data.columns\n",
    "importances = zip(cols, importances)\n",
    "for name, val in importances:\n",
    "    print(name, val)\n",
    "\n",
    "forest.score(X_train, y_train), forest.score(X_test, y_test)"
   ]
  },
  {
   "cell_type": "code",
   "execution_count": null,
   "metadata": {
    "collapsed": false
   },
   "outputs": [],
   "source": [
    "scores = forest.predict_proba(X_test)[:,1]\n",
    "precision, recall, threshold = precision_recall_curve(y_test, scores, pos_label=1)\n",
    "average_precision = average_precision_score(y_test, scores)\n",
    "\n",
    "plt.figure()\n",
    "plt.plot(recall, precision, label='area = %0.2f' % average_precision, color=\"green\")\n",
    "# plt.plot(threshold, precision[1:], label='area = %0.2f' % average_precision, color=\"red\")\n",
    "plt.xlim([0.0, 1.0])\n",
    "plt.ylim([0.0, 1.05])\n",
    "plt.xlabel('Recall')\n",
    "plt.ylabel('Precision')\n",
    "plt.title('Precision Recall Curve')\n",
    "plt.legend(loc=\"lower right\")\n",
    "plt.grid(True)\n",
    "len(precision), len(threshold), len(recall)\n",
    "\n",
    "plt.figure()\n",
    "# plt.plot(recall, precision, label='area = %0.2f' % average_precision, color=\"green\")\n",
    "plt.plot(threshold, precision[1:], label='area = %0.2f' % average_precision, color=\"red\")\n",
    "plt.grid(True)\n",
    "plt.xlim([0.0, 1.0])\n",
    "plt.ylim([0.0, 1.05])\n",
    "plt.xlabel('threshold')\n",
    "plt.ylabel('Precision')\n",
    "plt.title('Threshold Precision Curve')\n",
    "plt.legend(loc=\"lower right\")"
   ]
  },
  {
   "cell_type": "code",
   "execution_count": null,
   "metadata": {
    "collapsed": false
   },
   "outputs": [],
   "source": [
    "forest = RandomForestClassifier(n_estimators = 100, n_jobs = -1)\n",
    "forest.fit(X_train_norm, y_train)\n",
    "importances = forest.feature_importances_\n",
    "cols = data.columns\n",
    "importances = zip(cols, importances)\n",
    "for name, val in importances:\n",
    "    print(name, val)\n",
    "\n",
    "forest.score(X_train_norm, y_train), forest.score(X_test_norm, y_test)"
   ]
  },
  {
   "cell_type": "code",
   "execution_count": null,
   "metadata": {
    "collapsed": false
   },
   "outputs": [],
   "source": [
    "clf = AdaBoostClassifier(n_estimators=50)\n",
    "clf.fit(X_train_norm, y_train)\n",
    "importances = clf.feature_importances_\n",
    "cols = data.columns\n",
    "importances = zip(cols, importances)\n",
    "for name, val in importances:\n",
    "    print(name, val)\n",
    "\n",
    "clf.score(X_train_norm, y_train), clf.score(X_test_norm, y_test)"
   ]
  },
  {
   "cell_type": "code",
   "execution_count": null,
   "metadata": {
    "collapsed": true
   },
   "outputs": [],
   "source": [
    "X, y = data.ix[:, ['theta1', 'theta2', 'theta3', 'rate1', 'rate2', 'rate3']].values, data.ix[:, ['safe']].values\n",
    "# y = label_binarize(y, classes=[0, 1])\n",
    "# n_classes = y.shape[1]"
   ]
  },
  {
   "cell_type": "code",
   "execution_count": null,
   "metadata": {
    "collapsed": true
   },
   "outputs": [],
   "source": [
    "X_train, X_test, y_train, y_test = train_test_split(X, y, test_size=.95)"
   ]
  },
  {
   "cell_type": "code",
   "execution_count": null,
   "metadata": {
    "collapsed": false
   },
   "outputs": [],
   "source": [
    "stdsc = StandardScaler()\n",
    "X_train_norm = stdsc.fit_transform(X_train)\n",
    "X_test_norm = stdsc.transform(X_test)\n",
    "X_train_norm.shape"
   ]
  },
  {
   "cell_type": "code",
   "execution_count": null,
   "metadata": {
    "collapsed": false
   },
   "outputs": [],
   "source": [
    "clf = SVC(kernel='rbf', class_weight='balanced', C = 1., probability=True)\n",
    "clf.fit(X_train_norm, y_train)\n",
    "clf.score(X_test_norm, y_test)"
   ]
  },
  {
   "cell_type": "code",
   "execution_count": null,
   "metadata": {
    "collapsed": false
   },
   "outputs": [],
   "source": [
    "rbf_feature = RBFSampler()\n",
    "X_train_features = rbf_feature.fit_transform(X_train)\n",
    "X_test_features = rbf_feature.transform(X_test)\n",
    "stdsc = StandardScaler()\n",
    "X_train_norm = stdsc.fit_transform(X_train)\n",
    "X_test_norm = stdsc.transform(X_test)\n",
    "X_train_norm.shape\n"
   ]
  },
  {
   "cell_type": "code",
   "execution_count": null,
   "metadata": {
    "collapsed": false
   },
   "outputs": [],
   "source": [
    "clf = SGDClassifier(n_jobs = -1, loss= 'perceptron', class_weight= 'balanced')  \n",
    "clf.fit(X_train_norm, y_train)\n",
    "clf.score(X_test_norm, y_test)"
   ]
  },
  {
   "cell_type": "code",
   "execution_count": 81,
   "metadata": {
    "collapsed": true
   },
   "outputs": [],
   "source": [
    "def accuracy(predictions, labels):\n",
    "  return (100.0 * np.sum(np.argmax(predictions, 1) == np.argmax(labels, 1))\n",
    "          / predictions.shape[0])"
   ]
  },
  {
   "cell_type": "code",
   "execution_count": null,
   "metadata": {
    "collapsed": false
   },
   "outputs": [],
   "source": [
    "X, y = data.ix[:, ['theta1', 'theta2', 'theta3', 'rate1', 'rate2', 'rate3']].values, data.ix[:, ['safe']].values\n",
    "X = X.astype(np.float32)\n",
    "y = y.astype(np.float32)\n",
    "num_labels = 2\n",
    "# y = label_binarize(y, classes=[0, 1])\n",
    "# n_classes = y.shape[1]\n",
    "train_dataset, test_dataset, train_labels, test_labels = train_test_split(X, y, test_size=.1)\n",
    "valid_dataset, test_dataset, valid_labels, test_labels = train_test_split(test_dataset, test_labels, test_size=.5)\n",
    "train_labels = (np.arange(num_labels) == train_labels[:,None]).astype(np.float32)\n",
    "valid_labels = (np.arange(num_labels) == valid_labels[:,None]).astype(np.float32)\n",
    "test_labels = (np.arange(num_labels) == test_labels[:,None]).astype(np.float32)\n",
    "train_labels = train_labels.reshape((train_labels.shape[0], train_labels.shape[2]))\n",
    "valid_labels = valid_labels.reshape((valid_labels.shape[0], valid_labels.shape[2]))\n",
    "test_labels = test_labels.reshape((test_labels.shape[0], test_labels.shape[2]))\n",
    "print('Training set', train_dataset.shape, train_labels.shape)\n",
    "print('Validation set', valid_dataset.shape, valid_labels.shape)\n",
    "print('Test set', test_dataset.shape, test_labels.shape)\n"
   ]
  },
  {
   "cell_type": "code",
   "execution_count": null,
   "metadata": {
    "collapsed": false
   },
   "outputs": [],
   "source": [
    "batch_size = 128\n",
    "hidden_layer1_size = 1024\n",
    "hidden_layer2_size = 305\n",
    "hidden_lastlayer_size = 75\n",
    "data_size = 6\n",
    "num_labels = 2\n",
    "\n",
    "use_multilayers = True\n",
    "\n",
    "regularization_meta=0.03\n",
    "\n",
    "\n",
    "graph = tf.Graph()\n",
    "with graph.as_default():\n",
    "\n",
    "  # Input data. For the training data, we use a placeholder that will be fed\n",
    "  # at run time with a training minibatch.\n",
    "  tf_train_dataset = tf.placeholder(tf.float32,\n",
    "                                    shape=(batch_size, data_size))\n",
    "  tf_train_labels = tf.placeholder(tf.float32, shape=(batch_size, num_labels))\n",
    "  tf_valid_dataset = tf.constant(valid_dataset)\n",
    "  tf_test_dataset = tf.constant(test_dataset)\n",
    "  \n",
    "  # Variables.\n",
    "  keep_prob = tf.placeholder(tf.float32)\n",
    "\n",
    "  weights_layer1 = tf.Variable(\n",
    "    tf.truncated_normal([data_size, hidden_layer1_size], stddev=0.0517))\n",
    "  biases_layer1 = tf.Variable(tf.zeros([hidden_layer1_size]))\n",
    "\n",
    "  if use_multilayers:\n",
    "    weights_layer2 = tf.Variable(\n",
    "      tf.truncated_normal([hidden_layer1_size, hidden_layer1_size], stddev=0.0441))\n",
    "    biases_layer2 = tf.Variable(tf.zeros([hidden_layer1_size]))\n",
    "\n",
    "    weights_layer3 = tf.Variable(\n",
    "      tf.truncated_normal([hidden_layer1_size, hidden_layer2_size], stddev=0.0441))\n",
    "    biases_layer3 = tf.Variable(tf.zeros([hidden_layer2_size]))\n",
    "    \n",
    "    weights_layer4 = tf.Variable(\n",
    "      tf.truncated_normal([hidden_layer2_size, hidden_lastlayer_size], stddev=0.0809))\n",
    "    biases_layer4 = tf.Variable(tf.zeros([hidden_lastlayer_size]))\n",
    "\n",
    "\n",
    "  weights = tf.Variable(\n",
    "    tf.truncated_normal([hidden_lastlayer_size if use_multilayers else hidden_layer1_size, num_labels], stddev=0.1632))\n",
    "  biases = tf.Variable(tf.zeros([num_labels]))\n",
    "  \n",
    "    \n",
    "  # get the NN models\n",
    "  def getNN4Layer(dSet, use_dropout):\n",
    "    input_to_layer1 = tf.matmul(dSet, weights_layer1) + biases_layer1\n",
    "    hidden_layer1_output = tf.nn.relu(input_to_layer1)\n",
    "    \n",
    "    \n",
    "    logits_hidden1 = None\n",
    "    if use_dropout:\n",
    "       dropout_hidden1 = tf.nn.dropout(hidden_layer1_output, keep_prob)\n",
    "       logits_hidden1 = tf.matmul(dropout_hidden1, weights_layer2) + biases_layer2\n",
    "    else:\n",
    "      logits_hidden1 = tf.matmul(hidden_layer1_output, weights_layer2) + biases_layer2\n",
    "    \n",
    "    hidden_layer2_output = tf.nn.relu(logits_hidden1)\n",
    "    \n",
    "    logits_hidden2 = None\n",
    "    if use_dropout:\n",
    "       dropout_hidden2 = tf.nn.dropout(hidden_layer2_output, keep_prob)\n",
    "       logits_hidden2 = tf.matmul(dropout_hidden2, weights_layer3) + biases_layer3\n",
    "    else:\n",
    "      logits_hidden2 = tf.matmul(hidden_layer2_output, weights_layer3) + biases_layer3\n",
    "    \n",
    "    \n",
    "    hidden_layer3_output = tf.nn.relu(logits_hidden2)\n",
    "    logits_hidden3 = None\n",
    "    if use_dropout:\n",
    "       dropout_hidden3 = tf.nn.dropout(hidden_layer3_output, keep_prob)\n",
    "       logits_hidden3 = tf.matmul(dropout_hidden3, weights_layer4) + biases_layer4\n",
    "    else:\n",
    "      logits_hidden3 = tf.matmul(hidden_layer3_output, weights_layer4) + biases_layer4\n",
    "    \n",
    "    \n",
    "    hidden_layer4_output = tf.nn.relu(logits_hidden3)\n",
    "    logits = None\n",
    "    if use_dropout:\n",
    "       dropout_hidden4 = tf.nn.dropout(hidden_layer4_output, keep_prob)\n",
    "       logits = tf.matmul(dropout_hidden4, weights) + biases\n",
    "    else:\n",
    "      logits = tf.matmul(hidden_layer4_output, weights) + biases\n",
    "    \n",
    "    return logits\n",
    "\n",
    "  # get the NN models\n",
    "  def getNN1Layer(dSet, use_dropout, w1, b1, w, b):\n",
    "    input_to_layer1 = tf.matmul(dSet, w1) + b1\n",
    "    hidden_layer1_output = tf.nn.relu(input_to_layer1)\n",
    "        \n",
    "    logits = None\n",
    "    if use_dropout:\n",
    "       dropout_hidden1 = tf.nn.dropout(hidden_layer1_output, keep_prob)\n",
    "       logits = tf.matmul(dropout_hidden1, w) + b\n",
    "    else:\n",
    "      logits = tf.matmul(hidden_layer1_output, w) + b\n",
    "    \n",
    "    return logits\n",
    "\n",
    "  \n",
    "  \n",
    "  # Training computation.\n",
    "  logits = getNN4Layer(tf_train_dataset, True)  \n",
    "  logits_valid = getNN4Layer(tf_valid_dataset, False)\n",
    "  logits_test = getNN4Layer(tf_test_dataset, False)\n",
    "    \n",
    "  \n",
    "  loss = tf.reduce_mean(\n",
    "    tf.nn.softmax_cross_entropy_with_logits(logits, tf_train_labels))\n",
    "  #loss_l2 = loss + (regularization_meta * (tf.nn.l2_loss(weights)))\n",
    "  \n",
    "  global_step = tf.Variable(0)  # count the number of steps taken.\n",
    "  learning_rate = tf.train.exponential_decay(0.3, global_step, 3500, 0.86, staircase=True)\n",
    "  \n",
    "    \n",
    "  # Optimizer.\n",
    "  optimizer = tf.train.GradientDescentOptimizer(learning_rate).minimize(loss, global_step=global_step)\n",
    "  \n",
    "  # Predictions for the training, validation, and test data.\n",
    "  train_prediction = tf.nn.softmax(logits)\n",
    "  valid_prediction = tf.nn.softmax(logits_valid)\n",
    "  test_prediction = tf.nn.softmax(logits_test)\n",
    "\n",
    "\n",
    "\n",
    "num_steps = 95001\n",
    "\n",
    "with tf.Session(graph=graph) as session:\n",
    "  tf.initialize_all_variables().run()\n",
    "  print(\"Initialized\")\n",
    "  for step in xrange(num_steps):\n",
    "    # Pick an offset within the training data, which has been randomized.\n",
    "    # Note: we could use better randomization across epochs.\n",
    "    offset = (step * batch_size) % (train_labels.shape[0] - batch_size)\n",
    "    \n",
    "    # Generate a minibatch.\n",
    "    batch_data = train_dataset[offset:(offset + batch_size), :]\n",
    "    batch_labels = train_labels[offset:(offset + batch_size), :]\n",
    "    \n",
    "    # Prepare a dictionary telling the session where to feed the minibatch.\n",
    "    # The key of the dictionary is the placeholder node of the graph to be fed,\n",
    "    # and the value is the numpy array to feed to it.\n",
    "    feed_dict = {tf_train_dataset : batch_data, tf_train_labels : batch_labels, keep_prob:0.75}\n",
    "    _, l, predictions = session.run(\n",
    "      [optimizer, loss, train_prediction], feed_dict=feed_dict)\n",
    "    if (step % 500 == 0):\n",
    "      print(\"Minibatch loss at step\", step, \":\", l)\n",
    "      print(\"Minibatch accuracy: %.1f%%\" % accuracy(train_prediction.eval(feed_dict={tf_train_dataset : batch_data, tf_train_labels : batch_labels, keep_prob:1.0}), batch_labels))\n",
    "      print(\"Validation accuracy: %.1f%%\" % accuracy(\n",
    "        valid_prediction.eval(feed_dict={keep_prob:1.0}), valid_labels))\n",
    "  print(\"Test accuracy: %.1f%%\" % accuracy(test_prediction.eval(feed_dict={keep_prob:1.0}), test_labels))"
   ]
  },
  {
   "cell_type": "code",
   "execution_count": null,
   "metadata": {
    "collapsed": false
   },
   "outputs": [],
   "source": [
    "ls"
   ]
  },
  {
   "cell_type": "code",
   "execution_count": 30,
   "metadata": {
    "collapsed": false
   },
   "outputs": [
    {
     "data": {
      "text/plain": [
       "(1052838, 7)"
      ]
     },
     "execution_count": 30,
     "metadata": {},
     "output_type": "execute_result"
    }
   ],
   "source": [
    "data = np.genfromtxt ('../AutomaticScriptForSubRegions/Robot/subspaces.csv', delimiter=\",\")\n",
    "data = pd.DataFrame(data, columns=['theta1', 'theta2', 'theta3', 'rate1', 'rate2', 'rate3', 'level'])\n",
    "data.shape"
   ]
  },
  {
   "cell_type": "code",
   "execution_count": 22,
   "metadata": {
    "collapsed": false
   },
   "outputs": [],
   "source": [
    "# xtra_data = []\n",
    "# for theta1 in np.arange(-0.1, 0.2, 0.05):\n",
    "#     for theta2 in np.arange(-0.1, 0.2, 0.05):\n",
    "#         for theta3 in np.arange(-0.1, 0.2, 0.05):\n",
    "#             for rate1 in np.arange(-1, 2, 0.5):\n",
    "#                 for rate2 in np.arange(-1, 2, 0.5):\n",
    "#                     for rate3 in np.arange(-1, 2, 0.5):\n",
    "#                         xtra_data.append([theta1, theta2, theta3, rate1, rate2, rate3, 0])\n",
    "\n",
    "# data = np.concatenate((data, np.array(xtra_data)), axis=0)\n"
   ]
  },
  {
   "cell_type": "code",
   "execution_count": 29,
   "metadata": {
    "collapsed": false
   },
   "outputs": [],
   "source": [
    "# np.savetxt(\"../AutomaticScriptForSubRegions/Robot/subspaces.csv\", data, delimiter=\",\")\n"
   ]
  },
  {
   "cell_type": "code",
   "execution_count": 79,
   "metadata": {
    "collapsed": false
   },
   "outputs": [
    {
     "name": "stdout",
     "output_type": "stream",
     "text": [
      "('Training set', (880875, 6), (880875, 3))\n",
      "('Validation set', (48937, 6), (48937, 3))\n",
      "('Test set', (48938, 6), (48938, 3))\n"
     ]
    }
   ],
   "source": [
    "X, y = data.ix[:, ['theta1', 'theta2', 'theta3', 'rate1', 'rate2', 'rate3']].values, data.ix[:, ['level']].values\n",
    "X = X.astype(np.float32)\n",
    "y = y.astype(np.float32)\n",
    "num_labels = 3\n",
    "# y = label_binarize(y, classes=[0, 1])\n",
    "# n_classes = y.shape[1]\n",
    "train_dataset, test_dataset, train_labels, test_labels = train_test_split(X, y, test_size=.1)\n",
    "valid_dataset, test_dataset, valid_labels, test_labels = train_test_split(test_dataset, test_labels, test_size=.5)\n",
    "train_labels = (np.arange(num_labels) == train_labels[:,None]).astype(np.float32)\n",
    "valid_labels = (np.arange(num_labels) == valid_labels[:,None]).astype(np.float32)\n",
    "test_labels = (np.arange(num_labels) == test_labels[:,None]).astype(np.float32)\n",
    "train_labels = train_labels.reshape((train_labels.shape[0], train_labels.shape[2]))\n",
    "valid_labels = valid_labels.reshape((valid_labels.shape[0], valid_labels.shape[2]))\n",
    "test_labels = test_labels.reshape((test_labels.shape[0], test_labels.shape[2]))\n",
    "print('Training set', train_dataset.shape, train_labels.shape)\n",
    "print('Validation set', valid_dataset.shape, valid_labels.shape)\n",
    "print('Test set', test_dataset.shape, test_labels.shape)"
   ]
  },
  {
   "cell_type": "code",
   "execution_count": 82,
   "metadata": {
    "collapsed": false
   },
   "outputs": [
    {
     "name": "stdout",
     "output_type": "stream",
     "text": [
      "Initialized\n",
      "('Minibatch loss at step', 0, ':', 1.1226338)\n",
      "Minibatch accuracy: 66.4%\n",
      "Validation accuracy: 71.3%\n",
      "('Minibatch loss at step', 500, ':', 0.13852669)\n",
      "Minibatch accuracy: 98.4%\n",
      "Validation accuracy: 95.2%\n",
      "('Minibatch loss at step', 1000, ':', 0.21013364)\n",
      "Minibatch accuracy: 99.2%\n",
      "Validation accuracy: 95.7%\n",
      "('Minibatch loss at step', 1500, ':', 0.12611952)\n",
      "Minibatch accuracy: 99.2%\n",
      "Validation accuracy: 95.9%\n",
      "('Minibatch loss at step', 2000, ':', 0.037048079)\n",
      "Minibatch accuracy: 100.0%\n",
      "Validation accuracy: 97.1%\n",
      "('Minibatch loss at step', 2500, ':', 0.088235386)\n",
      "Minibatch accuracy: 98.4%\n",
      "Validation accuracy: 97.3%\n",
      "('Minibatch loss at step', 3000, ':', 0.088433363)\n",
      "Minibatch accuracy: 98.4%\n",
      "Validation accuracy: 97.2%\n",
      "('Minibatch loss at step', 3500, ':', 0.082487665)\n",
      "Minibatch accuracy: 99.2%\n",
      "Validation accuracy: 97.0%\n",
      "('Minibatch loss at step', 4000, ':', 0.019862831)\n",
      "Minibatch accuracy: 100.0%\n",
      "Validation accuracy: 98.7%\n",
      "('Minibatch loss at step', 4500, ':', 0.05177163)\n",
      "Minibatch accuracy: 99.2%\n",
      "Validation accuracy: 97.6%\n",
      "('Minibatch loss at step', 5000, ':', 0.024548385)\n",
      "Minibatch accuracy: 99.2%\n",
      "Validation accuracy: 98.3%\n",
      "('Minibatch loss at step', 5500, ':', 0.046790488)\n",
      "Minibatch accuracy: 100.0%\n",
      "Validation accuracy: 97.9%\n",
      "('Minibatch loss at step', 6000, ':', 0.050120175)\n",
      "Minibatch accuracy: 99.2%\n",
      "Validation accuracy: 98.4%\n",
      "('Minibatch loss at step', 6500, ':', 0.059645701)\n",
      "Minibatch accuracy: 99.2%\n",
      "Validation accuracy: 98.2%\n",
      "('Minibatch loss at step', 7000, ':', 0.039185777)\n",
      "Minibatch accuracy: 99.2%\n",
      "Validation accuracy: 98.4%\n",
      "('Minibatch loss at step', 7500, ':', 0.056767587)\n",
      "Minibatch accuracy: 100.0%\n",
      "Validation accuracy: 98.2%\n",
      "('Minibatch loss at step', 8000, ':', 0.076769508)\n",
      "Minibatch accuracy: 98.4%\n",
      "Validation accuracy: 98.3%\n",
      "('Minibatch loss at step', 8500, ':', 0.045621432)\n",
      "Minibatch accuracy: 100.0%\n",
      "Validation accuracy: 97.9%\n",
      "('Minibatch loss at step', 9000, ':', 0.057856992)\n",
      "Minibatch accuracy: 100.0%\n",
      "Validation accuracy: 98.5%\n",
      "('Minibatch loss at step', 9500, ':', 0.14799902)\n",
      "Minibatch accuracy: 100.0%\n",
      "Validation accuracy: 98.2%\n",
      "('Minibatch loss at step', 10000, ':', 0.028574616)\n",
      "Minibatch accuracy: 99.2%\n",
      "Validation accuracy: 98.7%\n",
      "('Minibatch loss at step', 10500, ':', 0.041291971)\n",
      "Minibatch accuracy: 100.0%\n",
      "Validation accuracy: 98.0%\n",
      "('Minibatch loss at step', 11000, ':', 0.049690682)\n",
      "Minibatch accuracy: 100.0%\n",
      "Validation accuracy: 98.8%\n",
      "('Minibatch loss at step', 11500, ':', 0.043000467)\n",
      "Minibatch accuracy: 98.4%\n",
      "Validation accuracy: 98.7%\n",
      "('Minibatch loss at step', 12000, ':', 0.033212457)\n",
      "Minibatch accuracy: 99.2%\n",
      "Validation accuracy: 98.4%\n",
      "('Minibatch loss at step', 12500, ':', 0.060319059)\n",
      "Minibatch accuracy: 100.0%\n",
      "Validation accuracy: 98.4%\n",
      "('Minibatch loss at step', 13000, ':', 0.044539414)\n",
      "Minibatch accuracy: 100.0%\n",
      "Validation accuracy: 98.6%\n",
      "('Minibatch loss at step', 13500, ':', 0.041511454)\n",
      "Minibatch accuracy: 100.0%\n",
      "Validation accuracy: 98.2%\n",
      "('Minibatch loss at step', 14000, ':', 0.07966958)\n",
      "Minibatch accuracy: 100.0%\n",
      "Validation accuracy: 98.5%\n",
      "('Minibatch loss at step', 14500, ':', 0.034987107)\n",
      "Minibatch accuracy: 99.2%\n",
      "Validation accuracy: 98.8%\n",
      "('Minibatch loss at step', 15000, ':', 0.057478063)\n",
      "Minibatch accuracy: 100.0%\n",
      "Validation accuracy: 98.7%\n",
      "('Minibatch loss at step', 15500, ':', 0.011763074)\n",
      "Minibatch accuracy: 100.0%\n",
      "Validation accuracy: 98.9%\n",
      "('Minibatch loss at step', 16000, ':', 0.038190387)\n",
      "Minibatch accuracy: 100.0%\n",
      "Validation accuracy: 98.5%\n",
      "('Minibatch loss at step', 16500, ':', 0.05494123)\n",
      "Minibatch accuracy: 100.0%\n",
      "Validation accuracy: 98.6%\n",
      "('Minibatch loss at step', 17000, ':', 0.050195843)\n",
      "Minibatch accuracy: 100.0%\n",
      "Validation accuracy: 98.8%\n",
      "('Minibatch loss at step', 17500, ':', 0.010452239)\n",
      "Minibatch accuracy: 100.0%\n",
      "Validation accuracy: 98.6%\n",
      "('Minibatch loss at step', 18000, ':', 0.058721371)\n",
      "Minibatch accuracy: 100.0%\n",
      "Validation accuracy: 98.9%\n",
      "('Minibatch loss at step', 18500, ':', 0.0043610162)\n",
      "Minibatch accuracy: 100.0%\n",
      "Validation accuracy: 98.9%\n",
      "('Minibatch loss at step', 19000, ':', 0.020041663)\n",
      "Minibatch accuracy: 100.0%\n",
      "Validation accuracy: 98.9%\n",
      "('Minibatch loss at step', 19500, ':', 0.02413376)\n",
      "Minibatch accuracy: 100.0%\n",
      "Validation accuracy: 98.4%\n",
      "('Minibatch loss at step', 20000, ':', 0.048886377)\n",
      "Minibatch accuracy: 100.0%\n",
      "Validation accuracy: 98.8%\n",
      "('Minibatch loss at step', 20500, ':', 0.052676938)\n",
      "Minibatch accuracy: 100.0%\n",
      "Validation accuracy: 98.8%\n",
      "('Minibatch loss at step', 21000, ':', 0.013356235)\n",
      "Minibatch accuracy: 100.0%\n",
      "Validation accuracy: 99.0%\n",
      "('Minibatch loss at step', 21500, ':', 0.046213254)\n",
      "Minibatch accuracy: 99.2%\n",
      "Validation accuracy: 98.7%\n",
      "('Minibatch loss at step', 22000, ':', 0.089704365)\n",
      "Minibatch accuracy: 100.0%\n",
      "Validation accuracy: 99.0%\n",
      "('Minibatch loss at step', 22500, ':', 0.014861144)\n",
      "Minibatch accuracy: 100.0%\n",
      "Validation accuracy: 98.7%\n",
      "('Minibatch loss at step', 23000, ':', 0.023269257)\n",
      "Minibatch accuracy: 100.0%\n",
      "Validation accuracy: 99.1%\n",
      "('Minibatch loss at step', 23500, ':', 0.042892881)\n",
      "Minibatch accuracy: 100.0%\n",
      "Validation accuracy: 98.7%\n",
      "('Minibatch loss at step', 24000, ':', 0.025632858)\n",
      "Minibatch accuracy: 100.0%\n",
      "Validation accuracy: 99.1%\n",
      "('Minibatch loss at step', 24500, ':', 0.031347286)\n",
      "Minibatch accuracy: 100.0%\n",
      "Validation accuracy: 99.1%\n",
      "('Minibatch loss at step', 25000, ':', 0.057302609)\n",
      "Minibatch accuracy: 100.0%\n",
      "Validation accuracy: 99.1%\n",
      "('Minibatch loss at step', 25500, ':', 0.023979742)\n",
      "Minibatch accuracy: 100.0%\n",
      "Validation accuracy: 98.9%\n",
      "('Minibatch loss at step', 26000, ':', 0.051866747)\n",
      "Minibatch accuracy: 98.4%\n",
      "Validation accuracy: 99.0%\n",
      "('Minibatch loss at step', 26500, ':', 0.016042616)\n",
      "Minibatch accuracy: 100.0%\n",
      "Validation accuracy: 99.1%\n",
      "('Minibatch loss at step', 27000, ':', 0.055624716)\n",
      "Minibatch accuracy: 100.0%\n",
      "Validation accuracy: 98.9%\n",
      "('Minibatch loss at step', 27500, ':', 0.058283344)\n",
      "Minibatch accuracy: 100.0%\n",
      "Validation accuracy: 99.0%\n",
      "('Minibatch loss at step', 28000, ':', 0.041962977)\n",
      "Minibatch accuracy: 99.2%\n",
      "Validation accuracy: 99.0%\n",
      "('Minibatch loss at step', 28500, ':', 0.055062268)\n",
      "Minibatch accuracy: 99.2%\n",
      "Validation accuracy: 98.9%\n",
      "('Minibatch loss at step', 29000, ':', 0.010430513)\n",
      "Minibatch accuracy: 100.0%\n",
      "Validation accuracy: 98.9%\n",
      "('Minibatch loss at step', 29500, ':', 0.025026981)\n",
      "Minibatch accuracy: 100.0%\n",
      "Validation accuracy: 99.0%\n",
      "('Minibatch loss at step', 30000, ':', 0.015296696)\n",
      "Minibatch accuracy: 100.0%\n",
      "Validation accuracy: 99.1%\n",
      "('Minibatch loss at step', 30500, ':', 0.061975576)\n",
      "Minibatch accuracy: 99.2%\n",
      "Validation accuracy: 99.2%\n",
      "('Minibatch loss at step', 31000, ':', 0.02260711)\n",
      "Minibatch accuracy: 100.0%\n",
      "Validation accuracy: 99.0%\n",
      "('Minibatch loss at step', 31500, ':', 0.06218667)\n",
      "Minibatch accuracy: 99.2%\n",
      "Validation accuracy: 99.2%\n",
      "('Minibatch loss at step', 32000, ':', 0.022376308)\n",
      "Minibatch accuracy: 100.0%\n",
      "Validation accuracy: 99.1%\n",
      "('Minibatch loss at step', 32500, ':', 0.0098197926)\n",
      "Minibatch accuracy: 100.0%\n",
      "Validation accuracy: 99.2%\n",
      "('Minibatch loss at step', 33000, ':', 0.041782677)\n",
      "Minibatch accuracy: 100.0%\n",
      "Validation accuracy: 99.1%\n",
      "('Minibatch loss at step', 33500, ':', 0.0095812306)\n",
      "Minibatch accuracy: 100.0%\n",
      "Validation accuracy: 99.1%\n",
      "('Minibatch loss at step', 34000, ':', 0.032307982)\n",
      "Minibatch accuracy: 100.0%\n",
      "Validation accuracy: 99.1%\n",
      "('Minibatch loss at step', 34500, ':', 0.061727539)\n",
      "Minibatch accuracy: 98.4%\n",
      "Validation accuracy: 99.2%\n",
      "('Minibatch loss at step', 35000, ':', 0.01116008)\n",
      "Minibatch accuracy: 100.0%\n",
      "Validation accuracy: 99.4%\n",
      "('Minibatch loss at step', 35500, ':', 0.021191787)\n",
      "Minibatch accuracy: 100.0%\n",
      "Validation accuracy: 99.3%\n",
      "('Minibatch loss at step', 36000, ':', 0.050188489)\n",
      "Minibatch accuracy: 99.2%\n",
      "Validation accuracy: 99.2%\n",
      "('Minibatch loss at step', 36500, ':', 0.031364325)\n",
      "Minibatch accuracy: 100.0%\n",
      "Validation accuracy: 98.9%\n",
      "('Minibatch loss at step', 37000, ':', 0.017479824)\n",
      "Minibatch accuracy: 100.0%\n",
      "Validation accuracy: 99.3%\n",
      "('Minibatch loss at step', 37500, ':', 0.011241921)\n",
      "Minibatch accuracy: 100.0%\n",
      "Validation accuracy: 99.3%\n",
      "('Minibatch loss at step', 38000, ':', 0.011490282)\n",
      "Minibatch accuracy: 100.0%\n",
      "Validation accuracy: 99.3%\n",
      "('Minibatch loss at step', 38500, ':', 0.0063703493)\n",
      "Minibatch accuracy: 100.0%\n",
      "Validation accuracy: 99.3%\n",
      "('Minibatch loss at step', 39000, ':', 0.055306613)\n",
      "Minibatch accuracy: 100.0%\n",
      "Validation accuracy: 99.2%\n",
      "('Minibatch loss at step', 39500, ':', 0.015778648)\n",
      "Minibatch accuracy: 100.0%\n",
      "Validation accuracy: 99.3%\n",
      "('Minibatch loss at step', 40000, ':', 0.015520494)\n",
      "Minibatch accuracy: 100.0%\n",
      "Validation accuracy: 99.2%\n",
      "('Minibatch loss at step', 40500, ':', 0.016497277)\n",
      "Minibatch accuracy: 98.4%\n",
      "Validation accuracy: 99.2%\n",
      "('Minibatch loss at step', 41000, ':', 0.051723994)\n",
      "Minibatch accuracy: 99.2%\n",
      "Validation accuracy: 99.3%\n",
      "('Minibatch loss at step', 41500, ':', 0.0065639778)\n",
      "Minibatch accuracy: 100.0%\n",
      "Validation accuracy: 99.3%\n",
      "('Minibatch loss at step', 42000, ':', 0.026182014)\n",
      "Minibatch accuracy: 99.2%\n",
      "Validation accuracy: 99.3%\n",
      "('Minibatch loss at step', 42500, ':', 0.001398074)\n",
      "Minibatch accuracy: 100.0%\n",
      "Validation accuracy: 99.4%\n",
      "('Minibatch loss at step', 43000, ':', 0.032267913)\n",
      "Minibatch accuracy: 100.0%\n",
      "Validation accuracy: 99.3%\n",
      "('Minibatch loss at step', 43500, ':', 0.02006623)\n",
      "Minibatch accuracy: 100.0%\n",
      "Validation accuracy: 99.4%\n",
      "('Minibatch loss at step', 44000, ':', 0.028362969)\n",
      "Minibatch accuracy: 100.0%\n",
      "Validation accuracy: 99.3%\n",
      "('Minibatch loss at step', 44500, ':', 0.039475217)\n",
      "Minibatch accuracy: 100.0%\n",
      "Validation accuracy: 99.5%\n",
      "('Minibatch loss at step', 45000, ':', 0.044681985)\n",
      "Minibatch accuracy: 100.0%\n",
      "Validation accuracy: 99.2%\n",
      "('Minibatch loss at step', 45500, ':', 0.00081978412)\n",
      "Minibatch accuracy: 100.0%\n",
      "Validation accuracy: 99.4%\n",
      "('Minibatch loss at step', 46000, ':', 0.015323073)\n",
      "Minibatch accuracy: 100.0%\n",
      "Validation accuracy: 99.4%\n",
      "('Minibatch loss at step', 46500, ':', 0.015984436)\n",
      "Minibatch accuracy: 99.2%\n",
      "Validation accuracy: 99.4%\n",
      "('Minibatch loss at step', 47000, ':', 0.031569786)\n",
      "Minibatch accuracy: 100.0%\n",
      "Validation accuracy: 99.3%\n",
      "('Minibatch loss at step', 47500, ':', 0.064301714)\n",
      "Minibatch accuracy: 100.0%\n",
      "Validation accuracy: 99.3%\n",
      "('Minibatch loss at step', 48000, ':', 0.008647575)\n",
      "Minibatch accuracy: 98.4%\n",
      "Validation accuracy: 99.3%\n",
      "('Minibatch loss at step', 48500, ':', 0.0058899745)\n",
      "Minibatch accuracy: 100.0%\n",
      "Validation accuracy: 99.4%\n",
      "('Minibatch loss at step', 49000, ':', 0.048660487)\n",
      "Minibatch accuracy: 99.2%\n",
      "Validation accuracy: 99.4%\n",
      "('Minibatch loss at step', 49500, ':', 0.0044234525)\n",
      "Minibatch accuracy: 100.0%\n",
      "Validation accuracy: 99.3%\n",
      "('Minibatch loss at step', 50000, ':', 0.03895393)\n",
      "Minibatch accuracy: 99.2%\n",
      "Validation accuracy: 99.4%\n",
      "('Minibatch loss at step', 50500, ':', 0.0010213929)\n",
      "Minibatch accuracy: 100.0%\n",
      "Validation accuracy: 99.4%\n",
      "('Minibatch loss at step', 51000, ':', 0.023972945)\n",
      "Minibatch accuracy: 100.0%\n",
      "Validation accuracy: 99.4%\n",
      "('Minibatch loss at step', 51500, ':', 0.01132787)\n",
      "Minibatch accuracy: 100.0%\n",
      "Validation accuracy: 99.4%\n",
      "('Minibatch loss at step', 52000, ':', 0.0044867201)\n",
      "Minibatch accuracy: 100.0%\n",
      "Validation accuracy: 99.5%\n",
      "('Minibatch loss at step', 52500, ':', 0.028401533)\n",
      "Minibatch accuracy: 98.4%\n",
      "Validation accuracy: 99.3%\n",
      "('Minibatch loss at step', 53000, ':', 0.0030615279)\n",
      "Minibatch accuracy: 100.0%\n",
      "Validation accuracy: 99.4%\n",
      "('Minibatch loss at step', 53500, ':', 0.011540522)\n",
      "Minibatch accuracy: 100.0%\n",
      "Validation accuracy: 99.4%\n",
      "('Minibatch loss at step', 54000, ':', 0.012908364)\n",
      "Minibatch accuracy: 100.0%\n",
      "Validation accuracy: 99.5%\n",
      "('Minibatch loss at step', 54500, ':', 0.019042302)\n",
      "Minibatch accuracy: 99.2%\n",
      "Validation accuracy: 99.4%\n",
      "('Minibatch loss at step', 55000, ':', 0.024296073)\n",
      "Minibatch accuracy: 99.2%\n",
      "Validation accuracy: 99.3%\n",
      "('Minibatch loss at step', 55500, ':', 0.027113937)\n",
      "Minibatch accuracy: 99.2%\n",
      "Validation accuracy: 99.3%\n",
      "('Minibatch loss at step', 56000, ':', 0.014775371)\n",
      "Minibatch accuracy: 99.2%\n",
      "Validation accuracy: 99.5%\n",
      "('Minibatch loss at step', 56500, ':', 0.020415569)\n",
      "Minibatch accuracy: 99.2%\n",
      "Validation accuracy: 99.4%\n",
      "('Minibatch loss at step', 57000, ':', 0.028236011)\n",
      "Minibatch accuracy: 100.0%\n",
      "Validation accuracy: 99.4%\n",
      "('Minibatch loss at step', 57500, ':', 0.0017225856)\n",
      "Minibatch accuracy: 100.0%\n",
      "Validation accuracy: 99.4%\n",
      "('Minibatch loss at step', 58000, ':', 0.025979627)\n",
      "Minibatch accuracy: 100.0%\n",
      "Validation accuracy: 99.4%\n",
      "('Minibatch loss at step', 58500, ':', 0.032571752)\n",
      "Minibatch accuracy: 100.0%\n",
      "Validation accuracy: 99.5%\n",
      "('Minibatch loss at step', 59000, ':', 0.018600231)\n",
      "Minibatch accuracy: 100.0%\n",
      "Validation accuracy: 99.5%\n",
      "('Minibatch loss at step', 59500, ':', 0.014786465)\n",
      "Minibatch accuracy: 100.0%\n",
      "Validation accuracy: 99.3%\n",
      "('Minibatch loss at step', 60000, ':', 0.0053992039)\n",
      "Minibatch accuracy: 100.0%\n",
      "Validation accuracy: 99.5%\n",
      "('Minibatch loss at step', 60500, ':', 0.0069379616)\n",
      "Minibatch accuracy: 100.0%\n",
      "Validation accuracy: 99.4%\n",
      "('Minibatch loss at step', 61000, ':', 0.013933146)\n",
      "Minibatch accuracy: 99.2%\n",
      "Validation accuracy: 99.5%\n",
      "('Minibatch loss at step', 61500, ':', 0.0094638448)\n",
      "Minibatch accuracy: 100.0%\n",
      "Validation accuracy: 99.4%\n",
      "('Minibatch loss at step', 62000, ':', 0.0059774527)\n",
      "Minibatch accuracy: 100.0%\n",
      "Validation accuracy: 99.5%\n",
      "('Minibatch loss at step', 62500, ':', 0.016725693)\n",
      "Minibatch accuracy: 100.0%\n",
      "Validation accuracy: 99.5%\n",
      "('Minibatch loss at step', 63000, ':', 0.046959929)\n",
      "Minibatch accuracy: 98.4%\n",
      "Validation accuracy: 99.5%\n",
      "('Minibatch loss at step', 63500, ':', 0.0037316682)\n",
      "Minibatch accuracy: 100.0%\n",
      "Validation accuracy: 99.5%\n",
      "('Minibatch loss at step', 64000, ':', 0.026944561)\n",
      "Minibatch accuracy: 100.0%\n",
      "Validation accuracy: 99.5%\n",
      "('Minibatch loss at step', 64500, ':', 0.038433395)\n",
      "Minibatch accuracy: 99.2%\n",
      "Validation accuracy: 99.5%\n",
      "('Minibatch loss at step', 65000, ':', 0.015690446)\n",
      "Minibatch accuracy: 100.0%\n",
      "Validation accuracy: 99.5%\n",
      "('Minibatch loss at step', 65500, ':', 0.039442807)\n",
      "Minibatch accuracy: 100.0%\n",
      "Validation accuracy: 99.5%\n",
      "('Minibatch loss at step', 66000, ':', 0.019199019)\n",
      "Minibatch accuracy: 100.0%\n",
      "Validation accuracy: 99.3%\n",
      "('Minibatch loss at step', 66500, ':', 0.020821249)\n",
      "Minibatch accuracy: 100.0%\n",
      "Validation accuracy: 99.6%\n",
      "('Minibatch loss at step', 67000, ':', 0.0051120911)\n",
      "Minibatch accuracy: 100.0%\n",
      "Validation accuracy: 99.6%\n",
      "('Minibatch loss at step', 67500, ':', 0.011464529)\n",
      "Minibatch accuracy: 99.2%\n",
      "Validation accuracy: 99.6%\n",
      "('Minibatch loss at step', 68000, ':', 0.0084806103)\n",
      "Minibatch accuracy: 99.2%\n",
      "Validation accuracy: 99.5%\n",
      "('Minibatch loss at step', 68500, ':', 0.0063888677)\n",
      "Minibatch accuracy: 100.0%\n",
      "Validation accuracy: 99.5%\n",
      "('Minibatch loss at step', 69000, ':', 0.0016404127)\n",
      "Minibatch accuracy: 100.0%\n",
      "Validation accuracy: 99.5%\n",
      "('Minibatch loss at step', 69500, ':', 0.019892609)\n",
      "Minibatch accuracy: 100.0%\n",
      "Validation accuracy: 99.5%\n",
      "('Minibatch loss at step', 70000, ':', 0.0044064024)\n",
      "Minibatch accuracy: 100.0%\n",
      "Validation accuracy: 99.6%\n",
      "('Minibatch loss at step', 70500, ':', 0.012026512)\n",
      "Minibatch accuracy: 100.0%\n",
      "Validation accuracy: 99.6%\n",
      "('Minibatch loss at step', 71000, ':', 0.003733315)\n",
      "Minibatch accuracy: 100.0%\n",
      "Validation accuracy: 99.5%\n",
      "('Minibatch loss at step', 71500, ':', 0.0047850348)\n",
      "Minibatch accuracy: 100.0%\n",
      "Validation accuracy: 99.5%\n",
      "('Minibatch loss at step', 72000, ':', 0.0019840745)\n",
      "Minibatch accuracy: 100.0%\n",
      "Validation accuracy: 99.5%\n",
      "('Minibatch loss at step', 72500, ':', 0.0022683567)\n",
      "Minibatch accuracy: 100.0%\n",
      "Validation accuracy: 99.6%\n",
      "('Minibatch loss at step', 73000, ':', 0.0050747013)\n",
      "Minibatch accuracy: 100.0%\n",
      "Validation accuracy: 99.6%\n",
      "('Minibatch loss at step', 73500, ':', 0.012576463)\n",
      "Minibatch accuracy: 100.0%\n",
      "Validation accuracy: 99.6%\n",
      "('Minibatch loss at step', 74000, ':', 0.0052124816)\n",
      "Minibatch accuracy: 100.0%\n",
      "Validation accuracy: 99.5%\n",
      "('Minibatch loss at step', 74500, ':', 0.011335772)\n",
      "Minibatch accuracy: 100.0%\n",
      "Validation accuracy: 99.6%\n",
      "('Minibatch loss at step', 75000, ':', 0.015096951)\n",
      "Minibatch accuracy: 99.2%\n",
      "Validation accuracy: 99.6%\n",
      "('Minibatch loss at step', 75500, ':', 0.012304962)\n",
      "Minibatch accuracy: 100.0%\n",
      "Validation accuracy: 99.6%\n",
      "('Minibatch loss at step', 76000, ':', 0.010900819)\n",
      "Minibatch accuracy: 100.0%\n",
      "Validation accuracy: 99.6%\n",
      "('Minibatch loss at step', 76500, ':', 0.011924146)\n",
      "Minibatch accuracy: 100.0%\n",
      "Validation accuracy: 99.6%\n",
      "('Minibatch loss at step', 77000, ':', 0.00476901)\n",
      "Minibatch accuracy: 100.0%\n",
      "Validation accuracy: 99.5%\n",
      "('Minibatch loss at step', 77500, ':', 0.0091514699)\n",
      "Minibatch accuracy: 100.0%\n",
      "Validation accuracy: 99.6%\n",
      "('Minibatch loss at step', 78000, ':', 0.0083825821)\n",
      "Minibatch accuracy: 100.0%\n",
      "Validation accuracy: 99.6%\n",
      "('Minibatch loss at step', 78500, ':', 0.0032340989)\n",
      "Minibatch accuracy: 100.0%\n",
      "Validation accuracy: 99.6%\n",
      "('Minibatch loss at step', 79000, ':', 0.01227612)\n",
      "Minibatch accuracy: 100.0%\n",
      "Validation accuracy: 99.6%\n",
      "('Minibatch loss at step', 79500, ':', 0.014487403)\n",
      "Minibatch accuracy: 100.0%\n",
      "Validation accuracy: 99.5%\n",
      "('Minibatch loss at step', 80000, ':', 0.0050531547)\n",
      "Minibatch accuracy: 100.0%\n",
      "Validation accuracy: 99.6%\n",
      "('Minibatch loss at step', 80500, ':', 0.034706265)\n",
      "Minibatch accuracy: 99.2%\n",
      "Validation accuracy: 99.6%\n",
      "('Minibatch loss at step', 81000, ':', 0.016421223)\n",
      "Minibatch accuracy: 100.0%\n",
      "Validation accuracy: 99.6%\n",
      "('Minibatch loss at step', 81500, ':', 0.067445099)\n",
      "Minibatch accuracy: 99.2%\n",
      "Validation accuracy: 99.6%\n",
      "('Minibatch loss at step', 82000, ':', 0.012101329)\n",
      "Minibatch accuracy: 100.0%\n",
      "Validation accuracy: 99.6%\n",
      "('Minibatch loss at step', 82500, ':', 0.017728997)\n",
      "Minibatch accuracy: 99.2%\n",
      "Validation accuracy: 99.5%\n",
      "('Minibatch loss at step', 83000, ':', 0.0060296273)\n",
      "Minibatch accuracy: 100.0%\n",
      "Validation accuracy: 99.5%\n",
      "('Minibatch loss at step', 83500, ':', 0.04156227)\n",
      "Minibatch accuracy: 98.4%\n",
      "Validation accuracy: 99.6%\n",
      "('Minibatch loss at step', 84000, ':', 0.018068377)\n",
      "Minibatch accuracy: 100.0%\n",
      "Validation accuracy: 99.6%\n",
      "('Minibatch loss at step', 84500, ':', 0.0080643017)\n",
      "Minibatch accuracy: 100.0%\n",
      "Validation accuracy: 99.6%\n",
      "('Minibatch loss at step', 85000, ':', 0.010456678)\n",
      "Minibatch accuracy: 99.2%\n",
      "Validation accuracy: 99.6%\n",
      "('Minibatch loss at step', 85500, ':', 0.0056560878)\n",
      "Minibatch accuracy: 99.2%\n",
      "Validation accuracy: 99.6%\n",
      "('Minibatch loss at step', 86000, ':', 0.0048855804)\n",
      "Minibatch accuracy: 100.0%\n",
      "Validation accuracy: 99.6%\n",
      "('Minibatch loss at step', 86500, ':', 0.0096528763)\n",
      "Minibatch accuracy: 100.0%\n",
      "Validation accuracy: 99.7%\n",
      "('Minibatch loss at step', 87000, ':', 0.020387456)\n",
      "Minibatch accuracy: 100.0%\n",
      "Validation accuracy: 99.6%\n",
      "('Minibatch loss at step', 87500, ':', 0.010087797)\n",
      "Minibatch accuracy: 100.0%\n",
      "Validation accuracy: 99.6%\n",
      "('Minibatch loss at step', 88000, ':', 0.0021545445)\n",
      "Minibatch accuracy: 100.0%\n",
      "Validation accuracy: 99.7%\n",
      "('Minibatch loss at step', 88500, ':', 0.00039589906)\n",
      "Minibatch accuracy: 100.0%\n",
      "Validation accuracy: 99.6%\n",
      "('Minibatch loss at step', 89000, ':', 0.024502978)\n",
      "Minibatch accuracy: 99.2%\n",
      "Validation accuracy: 99.6%\n",
      "('Minibatch loss at step', 89500, ':', 0.023757717)\n",
      "Minibatch accuracy: 100.0%\n",
      "Validation accuracy: 99.6%\n",
      "('Minibatch loss at step', 90000, ':', 0.00457589)\n",
      "Minibatch accuracy: 99.2%\n",
      "Validation accuracy: 99.6%\n",
      "('Minibatch loss at step', 90500, ':', 0.0014928142)\n",
      "Minibatch accuracy: 100.0%\n",
      "Validation accuracy: 99.6%\n",
      "('Minibatch loss at step', 91000, ':', 0.0059224186)\n",
      "Minibatch accuracy: 100.0%\n",
      "Validation accuracy: 99.6%\n",
      "('Minibatch loss at step', 91500, ':', 0.0090606771)\n",
      "Minibatch accuracy: 100.0%\n",
      "Validation accuracy: 99.6%\n",
      "('Minibatch loss at step', 92000, ':', 0.0048297173)\n",
      "Minibatch accuracy: 100.0%\n",
      "Validation accuracy: 99.6%\n",
      "('Minibatch loss at step', 92500, ':', 0.0049198819)\n",
      "Minibatch accuracy: 100.0%\n",
      "Validation accuracy: 99.7%\n",
      "('Minibatch loss at step', 93000, ':', 0.014841095)\n",
      "Minibatch accuracy: 100.0%\n",
      "Validation accuracy: 99.6%\n",
      "('Minibatch loss at step', 93500, ':', 0.0088961385)\n",
      "Minibatch accuracy: 100.0%\n",
      "Validation accuracy: 99.6%\n",
      "('Minibatch loss at step', 94000, ':', 0.016297739)\n",
      "Minibatch accuracy: 99.2%\n",
      "Validation accuracy: 99.7%\n",
      "('Minibatch loss at step', 94500, ':', 0.011245707)\n",
      "Minibatch accuracy: 100.0%\n",
      "Validation accuracy: 99.6%\n",
      "('Minibatch loss at step', 95000, ':', 0.006856679)\n",
      "Minibatch accuracy: 100.0%\n",
      "Validation accuracy: 99.6%\n",
      "Test accuracy: 99.6%\n"
     ]
    }
   ],
   "source": [
    "batch_size = 128\n",
    "hidden_layer1_size = 1024\n",
    "hidden_layer2_size = 305\n",
    "hidden_lastlayer_size = 75\n",
    "data_size = 6\n",
    "\n",
    "use_multilayers = True\n",
    "\n",
    "regularization_meta=0.03\n",
    "\n",
    "\n",
    "graph = tf.Graph()\n",
    "with graph.as_default():\n",
    "\n",
    "  # Input data. For the training data, we use a placeholder that will be fed\n",
    "  # at run time with a training minibatch.\n",
    "  tf_train_dataset = tf.placeholder(tf.float32,\n",
    "                                    shape=(batch_size, data_size))\n",
    "  tf_train_labels = tf.placeholder(tf.float32, shape=(batch_size, num_labels))\n",
    "  tf_valid_dataset = tf.constant(valid_dataset)\n",
    "  tf_test_dataset = tf.constant(test_dataset)\n",
    "  \n",
    "  # Variables.\n",
    "  keep_prob = tf.placeholder(tf.float32)\n",
    "\n",
    "  weights_layer1 = tf.Variable(\n",
    "    tf.truncated_normal([data_size, hidden_layer1_size], stddev=0.0517))\n",
    "  biases_layer1 = tf.Variable(tf.zeros([hidden_layer1_size]))\n",
    "\n",
    "  if use_multilayers:\n",
    "    weights_layer2 = tf.Variable(\n",
    "      tf.truncated_normal([hidden_layer1_size, hidden_layer1_size], stddev=0.0441))\n",
    "    biases_layer2 = tf.Variable(tf.zeros([hidden_layer1_size]))\n",
    "\n",
    "    weights_layer3 = tf.Variable(\n",
    "      tf.truncated_normal([hidden_layer1_size, hidden_layer2_size], stddev=0.0441))\n",
    "    biases_layer3 = tf.Variable(tf.zeros([hidden_layer2_size]))\n",
    "    \n",
    "    weights_layer4 = tf.Variable(\n",
    "      tf.truncated_normal([hidden_layer2_size, hidden_lastlayer_size], stddev=0.0809))\n",
    "    biases_layer4 = tf.Variable(tf.zeros([hidden_lastlayer_size]))\n",
    "\n",
    "\n",
    "  weights = tf.Variable(\n",
    "    tf.truncated_normal([hidden_lastlayer_size if use_multilayers else hidden_layer1_size, num_labels], stddev=0.1632))\n",
    "  biases = tf.Variable(tf.zeros([num_labels]))\n",
    "  \n",
    "    \n",
    "  # get the NN models\n",
    "  def getNN4Layer(dSet, use_dropout):\n",
    "    input_to_layer1 = tf.matmul(dSet, weights_layer1) + biases_layer1\n",
    "    hidden_layer1_output = tf.nn.relu(input_to_layer1)\n",
    "    \n",
    "    \n",
    "    logits_hidden1 = None\n",
    "    if use_dropout:\n",
    "       dropout_hidden1 = tf.nn.dropout(hidden_layer1_output, keep_prob)\n",
    "       logits_hidden1 = tf.matmul(dropout_hidden1, weights_layer2) + biases_layer2\n",
    "    else:\n",
    "      logits_hidden1 = tf.matmul(hidden_layer1_output, weights_layer2) + biases_layer2\n",
    "    \n",
    "    hidden_layer2_output = tf.nn.relu(logits_hidden1)\n",
    "    \n",
    "    logits_hidden2 = None\n",
    "    if use_dropout:\n",
    "       dropout_hidden2 = tf.nn.dropout(hidden_layer2_output, keep_prob)\n",
    "       logits_hidden2 = tf.matmul(dropout_hidden2, weights_layer3) + biases_layer3\n",
    "    else:\n",
    "      logits_hidden2 = tf.matmul(hidden_layer2_output, weights_layer3) + biases_layer3\n",
    "    \n",
    "    \n",
    "    hidden_layer3_output = tf.nn.relu(logits_hidden2)\n",
    "    logits_hidden3 = None\n",
    "    if use_dropout:\n",
    "       dropout_hidden3 = tf.nn.dropout(hidden_layer3_output, keep_prob)\n",
    "       logits_hidden3 = tf.matmul(dropout_hidden3, weights_layer4) + biases_layer4\n",
    "    else:\n",
    "      logits_hidden3 = tf.matmul(hidden_layer3_output, weights_layer4) + biases_layer4\n",
    "    \n",
    "    \n",
    "    hidden_layer4_output = tf.nn.relu(logits_hidden3)\n",
    "    logits = None\n",
    "    if use_dropout:\n",
    "       dropout_hidden4 = tf.nn.dropout(hidden_layer4_output, keep_prob)\n",
    "       logits = tf.matmul(dropout_hidden4, weights) + biases\n",
    "    else:\n",
    "      logits = tf.matmul(hidden_layer4_output, weights) + biases\n",
    "    \n",
    "    return logits\n",
    "\n",
    "  # get the NN models\n",
    "  def getNN1Layer(dSet, use_dropout, w1, b1, w, b):\n",
    "    input_to_layer1 = tf.matmul(dSet, w1) + b1\n",
    "    hidden_layer1_output = tf.nn.relu(input_to_layer1)\n",
    "        \n",
    "    logits = None\n",
    "    if use_dropout:\n",
    "       dropout_hidden1 = tf.nn.dropout(hidden_layer1_output, keep_prob)\n",
    "       logits = tf.matmul(dropout_hidden1, w) + b\n",
    "    else:\n",
    "      logits = tf.matmul(hidden_layer1_output, w) + b\n",
    "    \n",
    "    return logits\n",
    "\n",
    "  \n",
    "  \n",
    "  # Training computation.\n",
    "  logits = getNN4Layer(tf_train_dataset, True)  \n",
    "  logits_valid = getNN4Layer(tf_valid_dataset, False)\n",
    "  logits_test = getNN4Layer(tf_test_dataset, False)\n",
    "    \n",
    "  \n",
    "  loss = tf.reduce_mean(\n",
    "    tf.nn.softmax_cross_entropy_with_logits(logits, tf_train_labels))\n",
    "  #loss_l2 = loss + (regularization_meta * (tf.nn.l2_loss(weights)))\n",
    "  \n",
    "  global_step = tf.Variable(0)  # count the number of steps taken.\n",
    "  learning_rate = tf.train.exponential_decay(0.3, global_step, 3500, 0.86, staircase=True)\n",
    "  \n",
    "    \n",
    "  # Optimizer.\n",
    "  optimizer = tf.train.GradientDescentOptimizer(learning_rate).minimize(loss, global_step=global_step)\n",
    "  \n",
    "  # Predictions for the training, validation, and test data.\n",
    "  train_prediction = tf.nn.softmax(logits)\n",
    "  valid_prediction = tf.nn.softmax(logits_valid)\n",
    "  test_prediction = tf.nn.softmax(logits_test)\n",
    "\n",
    "\n",
    "\n",
    "num_steps = 95001\n",
    "\n",
    "with tf.Session(graph=graph) as session:\n",
    "  tf.initialize_all_variables().run()\n",
    "  print(\"Initialized\")\n",
    "  for step in xrange(num_steps):\n",
    "    # Pick an offset within the training data, which has been randomized.\n",
    "    # Note: we could use better randomization across epochs.\n",
    "    offset = (step * batch_size) % (train_labels.shape[0] - batch_size)\n",
    "    \n",
    "    # Generate a minibatch.\n",
    "    batch_data = train_dataset[offset:(offset + batch_size), :]\n",
    "    batch_labels = train_labels[offset:(offset + batch_size), :]\n",
    "    \n",
    "    # Prepare a dictionary telling the session where to feed the minibatch.\n",
    "    # The key of the dictionary is the placeholder node of the graph to be fed,\n",
    "    # and the value is the numpy array to feed to it.\n",
    "    feed_dict = {tf_train_dataset : batch_data, tf_train_labels : batch_labels, keep_prob:0.75}\n",
    "    _, l, predictions = session.run(\n",
    "      [optimizer, loss, train_prediction], feed_dict=feed_dict)\n",
    "    if (step % 500 == 0):\n",
    "      print(\"Minibatch loss at step\", step, \":\", l)\n",
    "      print(\"Minibatch accuracy: %.1f%%\" % accuracy(train_prediction.eval(feed_dict={tf_train_dataset : batch_data, tf_train_labels : batch_labels, keep_prob:1.0}), batch_labels))\n",
    "      print(\"Validation accuracy: %.1f%%\" % accuracy(\n",
    "        valid_prediction.eval(feed_dict={keep_prob:1.0}), valid_labels))\n",
    "  print(\"Test accuracy: %.1f%%\" % accuracy(test_prediction.eval(feed_dict={keep_prob:1.0}), test_labels))"
   ]
  },
  {
   "cell_type": "code",
   "execution_count": 5,
   "metadata": {
    "collapsed": false
   },
   "outputs": [],
   "source": [
    "X = data.ix[:, ['theta1', 'theta2', 'theta3', 'rate1', 'rate2', 'rate3']].values\n",
    "y = data.ix[:, 'level'].values\n",
    "X_train, X_test, y_train, y_test = train_test_split(X, y, test_size = 0.1)\n",
    "y_train[0:10]\n",
    "stdsc = StandardScaler()\n",
    "X_train_norm = stdsc.fit_transform(X_train)\n",
    "X_test_norm = stdsc.transform(X_test)\n",
    "\n"
   ]
  },
  {
   "cell_type": "code",
   "execution_count": null,
   "metadata": {
    "collapsed": false
   },
   "outputs": [],
   "source": [
    "import math, functools\n",
    "p = [20, 10, 30]\n",
    "functools.reduce(math.gcd, p)\n",
    "\n",
    "bound = np.array([[80], [40], [30]])\n",
    "u = np.array([[100], [40], [30]])\n",
    "np.minimum(bound, u)"
   ]
  },
  {
   "cell_type": "code",
   "execution_count": 62,
   "metadata": {
    "collapsed": false
   },
   "outputs": [
    {
     "name": "stdout",
     "output_type": "stream",
     "text": [
      "('theta1', 0.48629832630424419)\n",
      "('theta2', 0.14562975570584419)\n",
      "('theta3', 0.062519674401128489)\n",
      "('rate1', 0.17708399655037799)\n",
      "('rate2', 0.082285571954176212)\n",
      "('rate3', 0.046182675084229061)\n"
     ]
    },
    {
     "data": {
      "text/plain": [
       "(0.98303732084575002, 0.95321583652618136)"
      ]
     },
     "execution_count": 62,
     "metadata": {},
     "output_type": "execute_result"
    }
   ],
   "source": [
    "forest = RandomForestClassifier(n_estimators = 2, n_jobs = -1, class_weight='balanced')\n",
    "forest.fit(X_train, y_train)\n",
    "importances = forest.feature_importances_\n",
    "cols = data.columns\n",
    "importances = zip(cols, importances)\n",
    "for name, val in importances:\n",
    "    print(name, val)\n",
    "\n",
    "forest.score(X_train, y_train), forest.score(X_test, y_test)"
   ]
  },
  {
   "cell_type": "code",
   "execution_count": 80,
   "metadata": {
    "collapsed": false
   },
   "outputs": [
    {
     "name": "stdout",
     "output_type": "stream",
     "text": [
      "CPU times: user 4 ms, sys: 0 ns, total: 4 ms\n",
      "Wall time: 116 ms\n"
     ]
    },
    {
     "data": {
      "text/plain": [
       "(array([ 2.]), 2.0)"
      ]
     },
     "execution_count": 80,
     "metadata": {},
     "output_type": "execute_result"
    }
   ],
   "source": [
    "%%time\n",
    "forest.predict(X_test[0, :].reshape(1, -1)), y_test[0]"
   ]
  },
  {
   "cell_type": "code",
   "execution_count": null,
   "metadata": {
    "collapsed": false
   },
   "outputs": [],
   "source": [
    "# pickle.dump(forest, open(os.path.join('./', 'subspace_clf.pkl'), 'wb'))"
   ]
  },
  {
   "cell_type": "code",
   "execution_count": null,
   "metadata": {
    "collapsed": false
   },
   "outputs": [],
   "source": [
    "ls"
   ]
  },
  {
   "cell_type": "code",
   "execution_count": null,
   "metadata": {
    "collapsed": false
   },
   "outputs": [],
   "source": [
    "%%time\n",
    "# clf = pickle.load(open(os.path.join('./', 'subspace_clf.pkl'), 'rb'))\n",
    "forest.predict(np.array([[0,0,0,0,0,0]]))"
   ]
  },
  {
   "cell_type": "code",
   "execution_count": null,
   "metadata": {
    "collapsed": false
   },
   "outputs": [],
   "source": [
    "X = data.ix[:, ['theta1', 'theta2', 'theta3', 'rate1', 'rate2', 'rate3']].values\n",
    "y = data.ix[:, 'level'].values\n",
    "X_train, X_test, y_train, y_test = train_test_split(X, y, test_size = 0.1)\n",
    "y_train[0:10]\n",
    "stdsc = StandardScaler()\n",
    "X_train_norm = stdsc.fit_transform(X_train)\n",
    "X_test_norm = stdsc.transform(X_test)\n",
    "\n",
    "forest = KNeighborsClassifier(n_neighbors=  10, n_jobs = -1)\n",
    "forest.fit(X_train, y_train)\n",
    "importances = forest.feature_importances_\n",
    "cols = data.columns\n",
    "importances = zip(cols, importances)\n",
    "for name, val in importances:\n",
    "    print(name, val)\n",
    "\n",
    "forest.score(X_train, y_train), forest.score(X_test, y_test)"
   ]
  },
  {
   "cell_type": "code",
   "execution_count": 31,
   "metadata": {
    "collapsed": false
   },
   "outputs": [
    {
     "name": "stdout",
     "output_type": "stream",
     "text": [
      "theta1 0.346634028685\n",
      "theta2 0.133626355006\n",
      "theta3 0.0645949198916\n",
      "rate1 0.289684103189\n",
      "rate2 0.107899096466\n",
      "rate3 0.0575614967627\n"
     ]
    },
    {
     "data": {
      "text/plain": [
       "(0.99926864326465825, 0.96944454997910412)"
      ]
     },
     "execution_count": 31,
     "metadata": {},
     "output_type": "execute_result"
    }
   ],
   "source": [
    "from sklearn.tree import DecisionTreeClassifier\n",
    "X = data.ix[:, ['theta1', 'theta2', 'theta3', 'rate1', 'rate2', 'rate3']].values\n",
    "y = data.ix[:, 'level'].values\n",
    "X_train, X_test, y_train, y_test = train_test_split(X, y, test_size = 0.1)\n",
    "\n",
    "clf = DecisionTreeClassifier(criterion = 'gini', max_depth = None, class_weight = 'balanced')\n",
    "clf.fit(X_train, y_train)\n",
    "importances = clf.feature_importances_\n",
    "cols = data.columns\n",
    "importances = zip(cols, importances)\n",
    "for name, val in importances:\n",
    "    print(name, val)\n",
    "\n",
    "clf.score(X_train, y_train), clf.score(X_test, y_test)"
   ]
  },
  {
   "cell_type": "code",
   "execution_count": 32,
   "metadata": {
    "collapsed": true
   },
   "outputs": [],
   "source": [
    "pickle.dump(clf, open(os.path.join('./Cyber/', 'subspace_clf_decision_tree.pkl'), 'wb'))"
   ]
  },
  {
   "cell_type": "code",
   "execution_count": 53,
   "metadata": {
    "collapsed": false
   },
   "outputs": [
    {
     "data": {
      "text/plain": [
       "(1.0, 0.95723116219667947)"
      ]
     },
     "execution_count": 53,
     "metadata": {},
     "output_type": "execute_result"
    }
   ],
   "source": [
    "from sklearn.tree import DecisionTreeClassifier\n",
    "X = data.ix[:, ['theta1', 'theta2', 'theta3', 'rate1', 'rate2', 'rate3']].values\n",
    "y_orig = data.ix[:, 'level'].values\n",
    "y = label_binarize(y_orig, classes=[0, 1, 2])\n",
    "n_classes = y.shape[1]\n",
    "\n",
    "X_train, X_test, y_train, y_test = train_test_split(X, y, test_size = 0.1)\n",
    "\n",
    "stdsc = StandardScaler()\n",
    "X_train_norm = stdsc.fit_transform(X_train)\n",
    "X_test_norm = stdsc.transform(X_test)\n",
    "\n",
    "clf = OneVsRestClassifier(DecisionTreeClassifier(criterion = 'gini', max_depth = None, class_weight = 'balanced'))\n",
    "clf.fit(X_train, y_train)\n",
    "# importances = clf.feature_importances_\n",
    "# cols = data.columns\n",
    "# importances = zip(cols, importances)\n",
    "# for name, val in importances:\n",
    "#     print(name, val)\n",
    "\n",
    "clf.score(X_train, y_train), clf.score(X_test, y_test)"
   ]
  },
  {
   "cell_type": "code",
   "execution_count": 78,
   "metadata": {
    "collapsed": false
   },
   "outputs": [
    {
     "data": {
      "text/plain": [
       "(array([ 0.14730013,  0.95743787,  1.        ]),\n",
       " array([ 1.        ,  0.94867171,  0.        ]))"
      ]
     },
     "execution_count": 78,
     "metadata": {},
     "output_type": "execute_result"
    },
    {
     "data": {
      "image/png": "[encoded data removed]",
      "text/plain": [
       "<matplotlib.figure.Figure at 0x7faabadcf7d0>"
      ]
     },
     "metadata": {},
     "output_type": "display_data"
    }
   ],
   "source": [
    "y_score = clf.predict_proba(X_test)\n",
    "\n",
    "\n",
    "# Compute Precision-Recall and plot curve\n",
    "n_classes = 3\n",
    "prcsn = dict()\n",
    "recall = dict()\n",
    "average_precision = dict()\n",
    "thrshld = {}\n",
    "for i in range(n_classes):\n",
    "    prcsn[i], recall[i], thrshld[i] = precision_recall_curve(y_test[:, i],y_score[:, i])\n",
    "    average_precision[i] = average_precision_score(y_test[:, i], y_score[:, i])\n",
    "\n",
    "# min_prcsn1 = 0.95  # let's do it for s1\n",
    "# min_thrshld1=min([thrshld[0][i] for i in range(len(thrshld[0])) if prcsn[0][i]>=min_prcsn1])\n",
    "\n",
    "# min_prcsn2 = 0.95  # let's do it for s2\n",
    "# min_thrshld2=min([thrshld[1][i] for i in range(len(thrshld[1])) if prcsn[1][i]>=min_prcsn2])\n",
    "\n",
    "# y_pred_adjusted=[1 if y_s[0]>min_thrshld1 else 2 if y_s[1] > min_thrshld2 else 3 for y_s in y_score]\n",
    "# y_pred_adjusted = label_binarize(y_pred_adjusted, classes=[1, 2, 3])\n",
    "# # y_pred_adjusted\n",
    "# # np.array_equal(y_pred_adjusted, y_test)\n",
    "# print('accuracy of adjusted y pred: ', \n",
    "#       sum([np.array_equal(y_pred_adjusted[i], y_test[i]) for i in np.arange(len(y_pred_adjusted))]) / len(y_pred_adjusted))\n",
    "# # len(y_pred_adjusted), len(y_test), \n",
    "\n",
    "# Plot Precision-Recall curve for each class\n",
    "\n",
    "plt.clf()\n",
    "for i in range(n_classes):\n",
    "    plt.plot(recall[i], prcsn[i], linewidth = 6 - 2*i,\n",
    "             label='Precision-recall curve of fault tolerance level {0}'\n",
    "                   ''.format(i+1))\n",
    "\n",
    "plt.xlim([0.0, 1.0])\n",
    "plt.ylim([0.0, 1.05])\n",
    "plt.xlabel('Recall', fontsize= 15)\n",
    "plt.ylabel('Precision', fontsize= 15)\n",
    "\n",
    "# plt.title('Extension of Precision-Recall curve to multi-class')\n",
    "plt.legend(loc=\"lower right\")\n",
    "plt.grid(True)\n"
   ]
  },
  {
   "cell_type": "code",
   "execution_count": 77,
   "metadata": {
    "collapsed": false
   },
   "outputs": [
    {
     "name": "stdout",
     "output_type": "stream",
     "text": [
      "CPU times: user 0 ns, sys: 0 ns, total: 0 ns\n",
      "Wall time: 1.39 ms\n"
     ]
    },
    {
     "data": {
      "text/plain": [
       "(array([[0, 0, 1]]), array([0, 0, 1]))"
      ]
     },
     "execution_count": 77,
     "metadata": {},
     "output_type": "execute_result"
    }
   ],
   "source": [
    "%%time\n",
    "clf.predict(X_test[999, :].reshape(1, -1)), y_test[999]"
   ]
  },
  {
   "cell_type": "code",
   "execution_count": null,
   "metadata": {
    "collapsed": false
   },
   "outputs": [],
   "source": [
    "from sklearn.svm import SVC\n",
    "X = data.ix[:, ['theta1', 'theta2', 'theta3', 'rate1', 'rate2', 'rate3']].values\n",
    "y = data.ix[:, 'level'].values\n",
    "X_train, X_test, y_train, y_test = train_test_split(X, y, test_size = 0.1)\n",
    "y_train[0:10]\n",
    "stdsc = StandardScaler()\n",
    "X_train_norm = stdsc.fit_transform(X_train)\n",
    "X_test_norm = stdsc.transform(X_test)\n",
    "\n",
    "clf = SVC(C = 1., class_weight = 'balanced')\n",
    "clf.fit(X_train[0:9001, :], y_train[0:9001])\n",
    "# importances = clf.feature_importances_\n",
    "# cols = data.columns\n",
    "# importances = zip(cols, importances)\n",
    "# for name, val in importances:\n",
    "#     print(name, val)\n",
    "\n",
    "clf.score(X_train_norm, y_train), clf.score(X_test_norm, y_test)"
   ]
  },
  {
   "cell_type": "code",
   "execution_count": null,
   "metadata": {
    "collapsed": false
   },
   "outputs": [],
   "source": [
    "%%time\n",
    "clf.score(X_train_norm, y_train), clf.score(X_test_norm, y_test)"
   ]
  },
  {
   "cell_type": "code",
   "execution_count": 29,
   "metadata": {
    "collapsed": false
   },
   "outputs": [
    {
     "data": {
      "text/plain": [
       "(0.7144101035901802, 0.71540229885057471)"
      ]
     },
     "execution_count": 29,
     "metadata": {},
     "output_type": "execute_result"
    }
   ],
   "source": [
    "X = data.ix[:, ['theta1', 'theta2', 'theta3', 'rate1', 'rate2', 'rate3']].values\n",
    "y = data.ix[:, 'level'].values\n",
    "X_train, X_test, y_train, y_test = train_test_split(X, y, test_size = 0.1)\n",
    "y_train[0:10]\n",
    "stdsc = StandardScaler()\n",
    "X_train_norm = stdsc.fit_transform(X_train)\n",
    "X_test_norm = stdsc.transform(X_test)\n",
    "\n",
    "clf = SGDClassifier(n_jobs = -1, class_weight= 'balanced', penalty = 'l2', average = True, loss=\"log\", \n",
    "                    alpha=1., n_iter=2, fit_intercept=True)  \n",
    "clf.fit(X_train_norm, y_train)\n",
    "clf.score(X_train_norm, y_train), clf.score(X_test_norm, y_test)"
   ]
  },
  {
   "cell_type": "code",
   "execution_count": 28,
   "metadata": {
    "collapsed": false
   },
   "outputs": [
    {
     "data": {
      "text/plain": [
       "880875"
      ]
     },
     "execution_count": 28,
     "metadata": {},
     "output_type": "execute_result"
    }
   ],
   "source": [
    "len(X_train_norm)"
   ]
  },
  {
   "cell_type": "code",
   "execution_count": 99,
   "metadata": {
    "collapsed": false
   },
   "outputs": [
    {
     "name": "stdout",
     "output_type": "stream",
     "text": [
      "CPU times: user 0 ns, sys: 0 ns, total: 0 ns\n",
      "Wall time: 363 µs\n"
     ]
    },
    {
     "data": {
      "text/plain": [
       "(array([ 2.]), 2.0)"
      ]
     },
     "execution_count": 99,
     "metadata": {},
     "output_type": "execute_result"
    }
   ],
   "source": [
    "%%time\n",
    "clf.predict(X_test[0, :].reshape(1, -1)), y_test[0]"
   ]
  },
  {
   "cell_type": "code",
   "execution_count": 117,
   "metadata": {
    "collapsed": false
   },
   "outputs": [
    {
     "name": "stdout",
     "output_type": "stream",
     "text": [
      "CPU times: user 0 ns, sys: 0 ns, total: 0 ns\n",
      "Wall time: 11 µs\n"
     ]
    }
   ],
   "source": [
    "%%time\n",
    "i = 1"
   ]
  },
  {
   "cell_type": "code",
   "execution_count": 19,
   "metadata": {
    "collapsed": false
   },
   "outputs": [
    {
     "name": "stdout",
     "output_type": "stream",
     "text": [
      "962.828210115\n"
     ]
    },
    {
     "data": {
      "image/png": "[encoded data removed]",
      "text/plain": [
       "<matplotlib.figure.Figure at 0x7faab736f0d0>"
      ]
     },
     "metadata": {},
     "output_type": "display_data"
    }
   ],
   "source": [
    "from sklearn import cross_validation\n",
    "\n",
    "from sklearn.learning_curve import learning_curve\n",
    "\n",
    "\n",
    "def plot_learning_curve(estimator, title, X, y, ylim=None, cv=None,\n",
    "                        n_jobs=1, train_sizes=np.linspace(.1, 1.0, 5)):\n",
    "    \"\"\"\n",
    "    Generate a simple plot of the test and traning learning curve.\n",
    "\n",
    "    Parameters\n",
    "    ----------\n",
    "    estimator : object type that implements the \"fit\" and \"predict\" methods\n",
    "        An object of that type which is cloned for each validation.\n",
    "\n",
    "    title : string\n",
    "        Title for the chart.\n",
    "\n",
    "    X : array-like, shape (n_samples, n_features)\n",
    "        Training vector, where n_samples is the number of samples and\n",
    "        n_features is the number of features.\n",
    "\n",
    "    y : array-like, shape (n_samples) or (n_samples, n_features), optional\n",
    "        Target relative to X for classification or regression;\n",
    "        None for unsupervised learning.\n",
    "\n",
    "    ylim : tuple, shape (ymin, ymax), optional\n",
    "        Defines minimum and maximum yvalues plotted.\n",
    "\n",
    "    cv : integer, cross-validation generator, optional\n",
    "        If an integer is passed, it is the number of folds (defaults to 3).\n",
    "        Specific cross-validation objects can be passed, see\n",
    "        sklearn.cross_validation module for the list of possible objects\n",
    "\n",
    "    n_jobs : integer, optional\n",
    "        Number of jobs to run in parallel (default 1).\n",
    "    \"\"\"\n",
    "    plt.figure()\n",
    "    plt.title(title)\n",
    "    if ylim is not None:\n",
    "        plt.ylim(*ylim)\n",
    "    plt.xlabel(\"Training examples\")\n",
    "    plt.ylabel(\"Score\")\n",
    "    train_sizes, train_scores, test_scores = learning_curve(\n",
    "        estimator, X, y, cv=cv, n_jobs=n_jobs, train_sizes=train_sizes)\n",
    "    train_scores_mean = np.mean(train_scores, axis=1)\n",
    "    train_scores_std = np.std(train_scores, axis=1)\n",
    "    test_scores_mean = np.mean(test_scores, axis=1)\n",
    "    test_scores_std = np.std(test_scores, axis=1)\n",
    "    plt.grid()\n",
    "\n",
    "    plt.fill_between(train_sizes, train_scores_mean - train_scores_std,\n",
    "                     train_scores_mean + train_scores_std, alpha=0.1,\n",
    "                     color=\"r\")\n",
    "    plt.fill_between(train_sizes, test_scores_mean - test_scores_std,\n",
    "                     test_scores_mean + test_scores_std, alpha=0.1, color=\"g\")\n",
    "    plt.plot(train_sizes, train_scores_mean, 'o-', color=\"r\",\n",
    "             label=\"Training score\")\n",
    "    plt.plot(train_sizes, test_scores_mean, 'o-', color=\"g\",\n",
    "             label=\"Cross-validation score\")\n",
    "\n",
    "    plt.legend(loc=\"best\")\n",
    "    return plt\n",
    "\n",
    "\n",
    "\n",
    "X = data.ix[:, ['theta1', 'theta2', 'theta3', 'rate1', 'rate2', 'rate3']].values\n",
    "y = data.ix[:, 'level'].values\n",
    "\n",
    "# X_train, X_test, y_train, y_test = train_test_split(X, y, test_size = 0.1)\n",
    "\n",
    "# X = X_train[0:200000, :]\n",
    "# y = y_train[0:200000]\n",
    "\n",
    "\n",
    "title = \"Learning Curves (Decision Tree)\"\n",
    "# Cross validation with 100 iterations to get smoother mean test and train\n",
    "# score curves, each time with 20% data randomly selected as a validation set.\n",
    "cv = cross_validation.ShuffleSplit(X.shape[0], n_iter=100,\n",
    "                                   test_size=0.2, random_state=0)\n",
    "\n",
    "import time\n",
    "start = time.time()\n",
    "estimator = DecisionTreeClassifier(class_weight = 'balanced')\n",
    "plot_learning_curve(estimator, title, X, y, ylim=(0.7, 1.01), cv=cv, n_jobs=4)\n",
    "print(time.time() - start)\n",
    "# title = \"Learning Curves (SVM, RBF kernel, $\\gamma=0.001$)\"\n",
    "# # SVC is more expensive so we do a lower number of CV iterations:\n",
    "# cv = cross_validation.ShuffleSplit(digits.data.shape[0], n_iter=10,\n",
    "#                                    test_size=0.2, random_state=0)\n",
    "# estimator = SVC(gamma=0.001)\n",
    "# plot_learning_curve(estimator, title, X, y, (0.7, 1.01), cv=cv, n_jobs=4)\n"
   ]
  },
  {
   "cell_type": "code",
   "execution_count": null,
   "metadata": {
    "collapsed": true
   },
   "outputs": [],
   "source": []
  }
 ],
 "metadata": {
  "kernelspec": {
   "display_name": "Python 3",
   "language": "python",
   "name": "python3"
  },
  "language_info": {
   "codemirror_mode": {
    "name": "ipython",
    "version": 3
   },
   "file_extension": ".py",
   "mimetype": "text/x-python",
   "name": "python",
   "nbconvert_exporter": "python",
   "pygments_lexer": "ipython3",
   "version": "3.5.1"
  }
 },
 "nbformat": 4,
 "nbformat_minor": 0
}
