{
 "cells": [
  {
   "cell_type": "code",
   "execution_count": 1,
   "metadata": {
    "collapsed": true
   },
   "outputs": [],
   "source": [
    "%matplotlib inline\n",
    "\n",
    "import matplotlib\n",
    "import numpy as np\n",
    "import matplotlib.pyplot as plt\n",
    "import pandas as pd\n",
    "import numpy as np\n",
    "import scipy as sp"
   ]
  },
  {
   "cell_type": "code",
   "execution_count": 2,
   "metadata": {
    "collapsed": false
   },
   "outputs": [
    {
     "data": {
      "text/plain": [
       "0.031"
      ]
     },
     "execution_count": 2,
     "metadata": {},
     "output_type": "execute_result"
    }
   ],
   "source": [
    "round(0.0313000001, 3)"
   ]
  },
  {
   "cell_type": "code",
   "execution_count": 3,
   "metadata": {
    "collapsed": false
   },
   "outputs": [],
   "source": [
    "from Task.TaskModel import TaskModel\n",
    "from Task.CustomTasks import ABS, ACC"
   ]
  },
  {
   "cell_type": "code",
   "execution_count": 4,
   "metadata": {
    "collapsed": false
   },
   "outputs": [
    {
     "data": {
      "text/plain": [
       "[abs, acc]"
      ]
     },
     "execution_count": 4,
     "metadata": {},
     "output_type": "execute_result"
    }
   ],
   "source": [
    "abss = ABS('abs', 0.03, 0.03, 0.02, 3.5)\n",
    "acc = ACC('acc', 0.01, 0.01, 0.004, 6.5)\n",
    "queue = [abss,acc]\n",
    "queue"
   ]
  },
  {
   "cell_type": "code",
   "execution_count": 5,
   "metadata": {
    "collapsed": false
   },
   "outputs": [],
   "source": [
    "from OS.RTOS import RTOS\n",
    "from Processor.Processor import Processor\n",
    "from Reliability.TAAF import TAAF"
   ]
  },
  {
   "cell_type": "code",
   "execution_count": 6,
   "metadata": {
    "collapsed": false
   },
   "outputs": [],
   "source": [
    "rtos = RTOS()\n",
    "fail_rate = 3.1706e-09\n",
    "reliability_model = TAAF(fail_rate)\n",
    "processor = Processor(rtos, reliability_model)\n"
   ]
  },
  {
   "cell_type": "code",
   "execution_count": 7,
   "metadata": {
    "collapsed": false
   },
   "outputs": [],
   "source": [
    "for t in queue:\n",
    "    rtos.create_task(t)"
   ]
  },
  {
   "cell_type": "code",
   "execution_count": 8,
   "metadata": {
    "collapsed": false
   },
   "outputs": [],
   "source": [
    "# clock = 0\n",
    "# h = 0.001\n",
    "# while clock < 0.1:\n",
    "# #     print(rtos.ready_queue)\n",
    "#     rtos.update(h, clock)\n",
    "#     if rtos.running_task is not None:\n",
    "#         print(rtos.running_task.name, clock, rtos.task_outputs)\n",
    "#     clock += h"
   ]
  },
  {
   "cell_type": "code",
   "execution_count": 9,
   "metadata": {
    "collapsed": true
   },
   "outputs": [],
   "source": [
    "# rtos = RTOS()\n",
    "# fail_rate = 3.1706e-09\n",
    "# reliability_model = TAAF(fail_rate)\n",
    "# processor = Processor(rtos, reliability_model)\n",
    "# for t in queue:\n",
    "#     rtos.create_task(t)"
   ]
  },
  {
   "cell_type": "code",
   "execution_count": 10,
   "metadata": {
    "collapsed": false
   },
   "outputs": [],
   "source": [
    "# clock = 0\n",
    "# h = 0.001\n",
    "# while clock < 0.1:\n",
    "# #     print(rtos.ready_queue)\n",
    "#     processor.update(h, clock)\n",
    "#     print(processor.control_inputs, clock)\n",
    "#     clock += h"
   ]
  },
  {
   "cell_type": "code",
   "execution_count": 11,
   "metadata": {
    "collapsed": true
   },
   "outputs": [],
   "source": [
    "from __future__ import print_function, division\n",
    "from sympy import init_printing\n",
    "init_printing(use_latex='mathjax')"
   ]
  },
  {
   "cell_type": "code",
   "execution_count": 12,
   "metadata": {
    "collapsed": true
   },
   "outputs": [],
   "source": [
    "# from sympy.abc import c, d, e, f, g, h\n",
    "# from sympy.physics.vector import ReferenceFrame\n",
    "# import scipy.integrate as integrate\n",
    "# import math\n",
    "# from sympy import Symbol\n",
    "# from sympy import exp, integrate"
   ]
  },
  {
   "cell_type": "code",
   "execution_count": 13,
   "metadata": {
    "collapsed": false
   },
   "outputs": [],
   "source": [
    "# r = 3.17e-9\n",
    "# year = 3.154e+7\n",
    "# t = Symbol('t')\n",
    "# taaf = 1.1\n",
    "# res = integrate(exp(-taaf * r * t), (t, 0, np.inf))\n",
    "# res /= year\n",
    "# res"
   ]
  },
  {
   "cell_type": "code",
   "execution_count": 14,
   "metadata": {
    "collapsed": false
   },
   "outputs": [],
   "source": [
    "# 1 / (taaf * fail_rate) / year"
   ]
  },
  {
   "cell_type": "code",
   "execution_count": 15,
   "metadata": {
    "collapsed": true
   },
   "outputs": [],
   "source": [
    "from filterpy.kalman import KalmanFilter\n",
    "from filterpy.common import Q_discrete_white_noise\n",
    "from numpy.random import randn\n",
    "import book_plots as bp"
   ]
  },
  {
   "cell_type": "code",
   "execution_count": 16,
   "metadata": {
    "collapsed": false
   },
   "outputs": [
    {
     "data": {
      "image/png": "[encoded data removed]",
      "text/plain": [
       "<matplotlib.figure.Figure at 0x7fd621105358>"
      ]
     },
     "metadata": {},
     "output_type": "display_data"
    }
   ],
   "source": [
    "\n",
    "dt = 0.1\n",
    "R = 3.\n",
    "kf = KalmanFilter(dim_x=2, dim_z=1, dim_u = 1)\n",
    "kf.P *= 10\n",
    "kf.R *= R\n",
    "kf.Q = Q_discrete_white_noise(2, dt, 0.1)\n",
    "kf.F = np.array([[1., 0], [0., 1]])\n",
    "kf.B = np.array([[dt], [ 1]])\n",
    "kf.H = np.array([[1., 0]])\n",
    "\n",
    "zs = [i + randn()*R for i in range(1, 100)]\n",
    "xs = []\n",
    "cmd_velocity = 1.\n",
    "for z in zs:\n",
    "    kf.predict(u=cmd_velocity)\n",
    "    kf.update(z)\n",
    "    xs.append(kf.x[0])\n",
    "\n",
    "plt.plot(xs, label='Kalman Filter')\n",
    "bp.plot_measurements(zs)\n",
    "plt.xlabel('time')\n",
    "plt.legend(loc=4)\n",
    "plt.ylabel('distance');"
   ]
  },
  {
   "cell_type": "code",
   "execution_count": null,
   "metadata": {
    "collapsed": true
   },
   "outputs": [],
   "source": []
  },
  {
   "cell_type": "code",
   "execution_count": 17,
   "metadata": {
    "collapsed": true
   },
   "outputs": [],
   "source": [
    "def sense(x, noise_scale):\n",
    "    return np.array([[x[2][0] + randn()*noise_scale[0]],\n",
    "                     [x[3][0] + randn()*noise_scale[1]]])\n",
    "                     \n",
    "\n",
    "class InvPen(object):\n",
    "    def __init__(self, x0, A, B, K, h = 0.01, noise_scale=1):\n",
    "        self.A = A\n",
    "        self.B = B\n",
    "        self.K = K\n",
    "        self.x = x0\n",
    "        self.noise_scale = noise_scale\n",
    "        self.h = h\n",
    "        \n",
    "\n",
    "    def update(self):\n",
    "        self.u = -np.dot(self.K, self.x) + randn() * self.noise_scale\n",
    "#         print(self.u)\n",
    "        self.u = np.reshape(self.u, (-1, 1))\n",
    "#         print(self.A.shape, self.x.shape, self.B.shape,  self.u.shape)\n",
    "        x_dot = np.dot(self.A, self.x) + np.dot(self.B, self.u)\n",
    "#         print(x_dot)\n",
    "        self.x += h * x_dot\n",
    "#         print(self.x[2])\n",
    "        "
   ]
  },
  {
   "cell_type": "code",
   "execution_count": null,
   "metadata": {
    "collapsed": false
   },
   "outputs": [],
   "source": []
  },
  {
   "cell_type": "code",
   "execution_count": 18,
   "metadata": {
    "collapsed": false
   },
   "outputs": [],
   "source": [
    "# A = np.array([[0., 1.0, 0., 0.],\n",
    "#                [0., -0.18182, 2.6727, 0.],\n",
    "#                [0., 0., 0., 1.],\n",
    "#                [0., -0.45455, 31.1820, 0.]])\n",
    "\n",
    "# B = np.array([[0.0],\n",
    "#                [1.8182],\n",
    "#                [0.],\n",
    "#                [4.5455]])\n",
    "\n",
    "# K = np.array([-61.9930, -33.5054, 95.0600, 18.8300])\n",
    "# C = np.array([[0., 0., 1., 0.]])\n",
    "# x0 = np.array([[0.0],\n",
    "#                [0.0],\n",
    "#                [0.4],\n",
    "#                [0.5]])\n",
    "\n",
    "# pen = InvPen(x0, A, B, K)\n",
    "\n",
    "# xs, zs = [], []\n",
    "# for i in range(1000):\n",
    "#     pen.update()\n",
    "#     z = sense(pen.x)\n",
    "#     xs.append(pen.x[2][0])\n",
    "# #     print(xs)\n",
    "#     zs.append(z)\n",
    "\n",
    "# xs = np.asarray(xs)\n",
    "# # xs\n",
    "# # plt.plot(xs)\n",
    "\n",
    "# plt.plot(xs, label='Kalman Filter')\n",
    "# bp.plot_measurements(zs)\n",
    "# plt.xlabel('time')\n",
    "# plt.legend(loc=4)\n",
    "# plt.ylabel('distance');\n",
    "\n"
   ]
  },
  {
   "cell_type": "code",
   "execution_count": 19,
   "metadata": {
    "collapsed": false
   },
   "outputs": [],
   "source": [
    "from scipy import linalg\n",
    "def kal_predict(A, B, x, P, u, h):\n",
    "    x_new = x + h * (np.dot(A, x) + np.dot(B, u))\n",
    "    P_new = np.dot(np.dot(A, P), A.T)\n",
    "    return x_new, P_new\n",
    "\n",
    "def kal_update(A, C, x, P, R, Z):\n",
    "    threshold = 100\n",
    "    error = Z - np.dot(C, x)\n",
    "    if np.any(error > threshold):\n",
    "        x_new = x\n",
    "        P_new = P\n",
    "    else:\n",
    "        S = np.dot(np.dot(C, P), C.T) + R\n",
    "#         print(S.shape, P.shape, C.shape)\n",
    "        K = np.dot(np.dot(P, C.T), linalg.inv(S))\n",
    "        x_new = x + np.dot(K, error)\n",
    "        P_new = np.dot((np.eye(A.shape[0]) - np.dot(K, C)), P)\n",
    "    return x_new, P_new\n",
    "\n",
    "def MakeKF(A, B, C, P, K, h, dim_x = 4, dim_z = 2):\n",
    "\n",
    "    kf = KalmanFilter(dim_x=dim_x, dim_z=dim_z)\n",
    "    kf.x = np.zeros(dim_x)\n",
    "    kf.P = P\n",
    "#     kf.R = R\n",
    "#     kf.Q = Q_discrete_white_noise(dim_x, h, 0)\n",
    "#     print(A.shape, B.shape, K.shape)\n",
    "    kf.F = 1 + h * (A - np.dot(B, K))\n",
    "    kf.H = C\n",
    "    return kf"
   ]
  },
  {
   "cell_type": "code",
   "execution_count": 20,
   "metadata": {
    "collapsed": false
   },
   "outputs": [],
   "source": [
    "# KalmanFilter.update?"
   ]
  },
  {
   "cell_type": "code",
   "execution_count": 21,
   "metadata": {
    "collapsed": true
   },
   "outputs": [],
   "source": [
    "from Task.CustomTasks import KalmanPredict\n",
    "import Task.CustomTasks as ct"
   ]
  },
  {
   "cell_type": "code",
   "execution_count": 22,
   "metadata": {
    "collapsed": false
   },
   "outputs": [
    {
     "data": {
      "text/plain": [
       "<matplotlib.legend.Legend at 0x7fd61e403ba8>"
      ]
     },
     "execution_count": 22,
     "metadata": {},
     "output_type": "execute_result"
    },
    {
     "data": {
      "image/png": "[encoded data removed]",
      "text/plain": [
       "<matplotlib.figure.Figure at 0x7fd61e473d30>"
      ]
     },
     "metadata": {},
     "output_type": "display_data"
    },
    {
     "data": {
      "image/png": "[encoded data removed]",
      "text/plain": [
       "<matplotlib.figure.Figure at 0x7fd61e437198>"
      ]
     },
     "metadata": {},
     "output_type": "display_data"
    }
   ],
   "source": [
    "h = 0.001\n",
    "A = np.array([[0., 1.0, 0., 0.],\n",
    "               [0., -0.18182, 2.6727, 0.],\n",
    "               [0., 0., 0., 1.],\n",
    "               [0., -0.45455, 31.1820, 0.]])\n",
    "\n",
    "B = np.array([[0.0],\n",
    "               [1.8182],\n",
    "               [0.],\n",
    "               [4.5455]])\n",
    "\n",
    "K = np.array([[-61.9930, -33.5054, 95.0600, 18.8300]])\n",
    "C = np.array([[0., 0., 1., 0.],\n",
    "              [0., 0., 0., 1.]])\n",
    "x0 = np.array([[0.0],\n",
    "               [0.0],\n",
    "               [0.4],\n",
    "               [0.5]])\n",
    "\n",
    "P = np.array([[0., 0., 0., 0.],\n",
    "              [0., 0., 0., 0.],\n",
    "              [0., 0., 1000., 0.],\n",
    "              [0., 0., 0., 1000.]])\n",
    "\n",
    "F = 1 + h * (A - np.dot(B, K))\n",
    "\n",
    "angle_noise = 0.05\n",
    "rate_noise = 0.005\n",
    "angle_noise2 = 0.005\n",
    "rate_noise2 = 0.5\n",
    "actuator_noise = 2\n",
    "R = np.array([[angle_noise, 0.],\n",
    "              [0., rate_noise]])\n",
    "R2 = np.array([[angle_noise2, 0.],\n",
    "              [0., rate_noise2]])\n",
    "\n",
    "pen = InvPen(x0, A, B, K, h, actuator_noise)\n",
    "\n",
    "zs = sense(x0, [angle_noise, rate_noise])\n",
    "xs = x0\n",
    "xtract = np.array([[0.0],\n",
    "                   [0.0],\n",
    "                   [0.0],\n",
    "                   [0.5]])\n",
    "\n",
    "kf = MakeKF(A, B, C, P, K, h)\n",
    "\n",
    "kf2 = MakeKF(A, B, C, P, K, h)\n",
    "\n",
    "kf3 = ct.makeLinearKF(A, B, C, P, F)\n",
    "\n",
    "Rs = {'sensor1' : R, 'sensor2' : R2}\n",
    "\n",
    "localizer = KalmanPredict('kalman predict', 0.02, 0.02, 0.01, 4, kf3, Rs)\n",
    "\n",
    "for i in range(4000):\n",
    "    pen.update()\n",
    "    z = sense(pen.x, [angle_noise, rate_noise])\n",
    "    z2 = sense(pen.x, [angle_noise2, rate_noise2])\n",
    "    all_z = {'sensor1' : z[:, -1], 'sensor2' : z2[:, -1]}\n",
    "    xs = np.append(xs, pen.x, axis=1)\n",
    "    localizer.run(all_z)\n",
    "    x_predict = np.reshape(localizer.output, (-1, 1))\n",
    "    xtract = np.append(xtract, x_predict, axis=1)\n",
    "\n",
    "# xs = np.asarray(xs)\n",
    "# xs\n",
    "# plt.plot(xs)\n",
    "plt.figure()\n",
    "plt.hold(True)\n",
    "plt.grid(True)\n",
    "plt.plot(xtract[2, :], c = 'b', label='Kalman Filter', linewidth=2)\n",
    "plt.plot(xs[2, :], c= 'r', label='True value', linewidth = 1)\n",
    "plt.xlabel('Time (ms)')\n",
    "plt.ylabel('Angle (rad)')\n",
    "# bp.plot_measurements(zs)\n",
    "# plt.xlabel('time')\n",
    "plt.legend(loc=4)\n",
    "# plt.ylabel('distance');\n",
    "\n",
    "\n",
    "plt.figure()\n",
    "plt.hold(True)\n",
    "plt.grid(True)\n",
    "plt.plot(xtract[3, :], c = 'b', label='Kalman Filter', linewidth=2)\n",
    "plt.plot(xs[3, :], c= 'r', label='True value', linewidth = 1)\n",
    "plt.xlabel('Time (ms)')\n",
    "plt.ylabel('Angular Rate (rad/s)')\n",
    "# bp.plot_measurements(zs)\n",
    "# plt.xlabel('time')\n",
    "plt.legend(loc=4)\n",
    "# plt.ylabel('distance');\n"
   ]
  },
  {
   "cell_type": "code",
   "execution_count": 118,
   "metadata": {
    "collapsed": true
   },
   "outputs": [],
   "source": [
    "rtos = RTOS()\n",
    "fail_rate = 3.1706e-09\n",
    "reliability_model = TAAF(fail_rate)\n",
    "processor = Processor(rtos, reliability_model)\n",
    "for t in queue:\n",
    "    rtos.create_task(t)"
   ]
  },
  {
   "cell_type": "code",
   "execution_count": 119,
   "metadata": {
    "collapsed": false
   },
   "outputs": [
    {
     "name": "stderr",
     "output_type": "stream",
     "text": [
      "/home/ares/anaconda3/lib/python3.5/site-packages/ipykernel/__main__.py:4: DeprecationWarning: using a non-integer number instead of an integer will result in an error in the future\n",
      "/home/ares/anaconda3/lib/python3.5/site-packages/ipykernel/__main__.py:8: DeprecationWarning: using a non-integer number instead of an integer will result in an error in the future\n"
     ]
    }
   ],
   "source": [
    "clock = 0\n",
    "h = 0.001\n",
    "end = 50\n",
    "taaf = np.zeros([end / h, 1])\n",
    "time = np.arange(0, end, h)\n",
    "time = np.reshape(time, (len(time), 1))\n",
    "taaf[0] = 1\n",
    "mttf = np.zeros([end / h, 1])\n",
    "mttf[0] = 10\n",
    "i = 1\n",
    "for i in np.arange(1, len(time)):\n",
    "#     print(rtos.ready_queue)\n",
    "    processor.update(h, clock)\n",
    "#     print(processor.control_inputs, clock)\n",
    "    taaf[i] = processor.reliability_model.taaf\n",
    "    mttf[i] = processor.reliability_model.mttf_in_years\n",
    "    clock += h"
   ]
  },
  {
   "cell_type": "code",
   "execution_count": 120,
   "metadata": {
    "collapsed": false
   },
   "outputs": [
    {
     "data": {
      "text/plain": [
       "[<matplotlib.lines.Line2D at 0x7f55dc2f7278>]"
      ]
     },
     "execution_count": 120,
     "metadata": {},
     "output_type": "execute_result"
    },
    {
     "data": {
      "image/png": "[encoded data removed]",
      "text/plain": [
       "<matplotlib.figure.Figure at 0x7f55db68e6d8>"
      ]
     },
     "metadata": {},
     "output_type": "display_data"
    }
   ],
   "source": [
    "plt.plot(taaf)"
   ]
  },
  {
   "cell_type": "code",
   "execution_count": 121,
   "metadata": {
    "collapsed": false
   },
   "outputs": [
    {
     "data": {
      "text/plain": [
       "<matplotlib.text.Text at 0x7f55dc32dba8>"
      ]
     },
     "execution_count": 121,
     "metadata": {},
     "output_type": "execute_result"
    },
    {
     "data": {
      "image/png": "[encoded data removed]",
      "text/plain": [
       "<matplotlib.figure.Figure at 0x7f55dc383ba8>"
      ]
     },
     "metadata": {},
     "output_type": "display_data"
    }
   ],
   "source": [
    "# Two subplots, unpack the axes array immediately\n",
    "f, (ax1, ax2) = plt.subplots(1, 2, figsize=(15, 5))\n",
    "ax1.plot(taaf)\n",
    "ax1.set_title('taaf')\n",
    "ax2.plot(mttf)\n",
    "ax2.set_title('mttf in years')\n"
   ]
  },
  {
   "cell_type": "code",
   "execution_count": null,
   "metadata": {
    "collapsed": true
   },
   "outputs": [],
   "source": []
  },
  {
   "cell_type": "code",
   "execution_count": 114,
   "metadata": {
    "collapsed": false
   },
   "outputs": [
    {
     "name": "stderr",
     "output_type": "stream",
     "text": [
      "/home/ares/anaconda3/lib/python3.5/site-packages/ipykernel/__main__.py:4: DeprecationWarning: using a non-integer number instead of an integer will result in an error in the future\n",
      "/home/ares/anaconda3/lib/python3.5/site-packages/ipykernel/__main__.py:5: DeprecationWarning: using a non-integer number instead of an integer will result in an error in the future\n",
      "/home/ares/anaconda3/lib/python3.5/site-packages/ipykernel/__main__.py:6: DeprecationWarning: using a non-integer number instead of an integer will result in an error in the future\n"
     ]
    }
   ],
   "source": [
    "clock = 0\n",
    "h = 0.001\n",
    "end = 10\n",
    "taaf = np.zeros([end / h, 1])\n",
    "mttf = np.zeros([end / h, 1])\n",
    "T = np.zeros([end / h, 1])\n",
    "time = np.arange(0, end, h)\n",
    "time = np.reshape(time, (len(time), 1))\n",
    "taaf[0] = 1\n",
    "i = 1\n",
    "des_fail_rate = 3.1706e-09\n",
    "reliability_model = TAAF(des_fail_rate)\n",
    "u = 0.5\n",
    "power = 5\n",
    "Tss = reliability_model.steady_state_temperature(power)\n",
    "Tss_idle = reliability_model.steady_state_temperature(1)\n",
    "for i in np.arange(1, len(time)):\n",
    "    if time[i] <= time[-1] * u:\n",
    "        reliability_model.update_temperature(Tss, h)\n",
    "    else:\n",
    "        reliability_model.update_temperature(Tss_idle, h)\n",
    "    reliability_model.update_reliability()\n",
    "    taaf[i] = reliability_model.taaf\n",
    "    mttf[i] = reliability_model.mttf_in_years\n",
    "    T[i] = reliability_model.abs_temperature - 273.15\n",
    "    clock += h"
   ]
  },
  {
   "cell_type": "code",
   "execution_count": 115,
   "metadata": {
    "collapsed": false
   },
   "outputs": [],
   "source": [
    "# mttf[0:50]"
   ]
  },
  {
   "cell_type": "code",
   "execution_count": 117,
   "metadata": {
    "collapsed": false
   },
   "outputs": [
    {
     "data": {
      "text/plain": [
       "<matplotlib.text.Text at 0x7f55db738080>"
      ]
     },
     "execution_count": 117,
     "metadata": {},
     "output_type": "execute_result"
    },
    {
     "data": {
      "image/png": "[encoded data removed]",
      "text/plain": [
       "<matplotlib.figure.Figure at 0x7f55db847eb8>"
      ]
     },
     "metadata": {},
     "output_type": "display_data"
    }
   ],
   "source": [
    "f, (ax1, ax2) = plt.subplots(1, 2, figsize = (15, 5))\n",
    "ax1.plot(taaf)\n",
    "ax1.grid(True)\n",
    "ax1.set_title('taaf')\n",
    "ax2.plot(mttf)\n",
    "ax2.grid(True)\n",
    "ax2.set_title('mttf in years')"
   ]
  },
  {
   "cell_type": "code",
   "execution_count": null,
   "metadata": {
    "collapsed": true
   },
   "outputs": [],
   "source": []
  }
 ],
 "metadata": {
  "kernelspec": {
   "display_name": "Python 3",
   "language": "python",
   "name": "python3"
  },
  "language_info": {
   "codemirror_mode": {
    "name": "ipython",
    "version": 3
   },
   "file_extension": ".py",
   "mimetype": "text/x-python",
   "name": "python",
   "nbconvert_exporter": "python",
   "pygments_lexer": "ipython3",
   "version": "3.5.1"
  }
 },
 "nbformat": 4,
 "nbformat_minor": 0
}
