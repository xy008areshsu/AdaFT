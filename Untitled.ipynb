{
 "cells": [
  {
   "cell_type": "code",
   "execution_count": 1,
   "metadata": {
    "collapsed": true
   },
   "outputs": [],
   "source": [
    "%matplotlib inline\n",
    "\n",
    "import matplotlib\n",
    "import numpy as np\n",
    "import matplotlib.pyplot as plt\n",
    "import pandas as pd\n",
    "import numpy as np\n",
    "import scipy as sp"
   ]
  },
  {
   "cell_type": "code",
   "execution_count": 2,
   "metadata": {
    "collapsed": false
   },
   "outputs": [
    {
     "data": {
      "text/plain": [
       "0.031"
      ]
     },
     "execution_count": 2,
     "metadata": {},
     "output_type": "execute_result"
    }
   ],
   "source": [
    "round(0.0313000001, 3)"
   ]
  },
  {
   "cell_type": "code",
   "execution_count": 66,
   "metadata": {
    "collapsed": false
   },
   "outputs": [],
   "source": [
    "from Task.TaskModel import TaskModel\n",
    "from Task.CustomTasks import ABS, ACC\n",
    "from Task import *"
   ]
  },
  {
   "cell_type": "code",
   "execution_count": 4,
   "metadata": {
    "collapsed": false
   },
   "outputs": [
    {
     "data": {
      "text/plain": [
       "[abs, acc]"
      ]
     },
     "execution_count": 4,
     "metadata": {},
     "output_type": "execute_result"
    }
   ],
   "source": [
    "abss = ABS('abs', 0.03, 0.03, 0.02, 3.5)\n",
    "acc = ACC('acc', 0.01, 0.01, 0.004, 6.5)\n",
    "queue = [abss,acc]\n",
    "queue"
   ]
  },
  {
   "cell_type": "code",
   "execution_count": 67,
   "metadata": {
    "collapsed": true
   },
   "outputs": [],
   "source": [
    "class WorstControl(TaskModel.TaskModel):\n",
    "    def density(self):\n",
    "        return self.wcet\n",
    "    \n",
    "    def run(self):\n",
    "        self.output = 1\n",
    "        \n",
    "    def cost(self, x, u):\n",
    "        "
   ]
  },
  {
   "cell_type": "code",
   "execution_count": 70,
   "metadata": {
    "collapsed": false
   },
   "outputs": [
    {
     "data": {
      "text/plain": [
       "0.01"
      ]
     },
     "execution_count": 70,
     "metadata": {},
     "output_type": "execute_result"
    }
   ],
   "source": [
    "at = ITAsk('at', 0.01, 0.01, 0.004, 6.5)\n",
    "at.period"
   ]
  },
  {
   "cell_type": "code",
   "execution_count": 5,
   "metadata": {
    "collapsed": false
   },
   "outputs": [
    {
     "ename": "ImportError",
     "evalue": "No module named 'Reliability.TAAF'",
     "output_type": "error",
     "traceback": [
      "\u001b[1;31m---------------------------------------------------------------------------\u001b[0m",
      "\u001b[1;31mImportError\u001b[0m                               Traceback (most recent call last)",
      "\u001b[1;32m<ipython-input-5-e9ec572e7d0a>\u001b[0m in \u001b[0;36m<module>\u001b[1;34m()\u001b[0m\n\u001b[0;32m      1\u001b[0m \u001b[1;32mfrom\u001b[0m \u001b[0mOS\u001b[0m\u001b[1;33m.\u001b[0m\u001b[0mRTOS\u001b[0m \u001b[1;32mimport\u001b[0m \u001b[0mRTOS\u001b[0m\u001b[1;33m\u001b[0m\u001b[0m\n\u001b[0;32m      2\u001b[0m \u001b[1;32mfrom\u001b[0m \u001b[0mProcessor\u001b[0m\u001b[1;33m.\u001b[0m\u001b[0mProcessor\u001b[0m \u001b[1;32mimport\u001b[0m \u001b[0mProcessor\u001b[0m\u001b[1;33m\u001b[0m\u001b[0m\n\u001b[1;32m----> 3\u001b[1;33m \u001b[1;32mfrom\u001b[0m \u001b[0mReliability\u001b[0m\u001b[1;33m.\u001b[0m\u001b[0mTAAF\u001b[0m \u001b[1;32mimport\u001b[0m \u001b[0mTAAF\u001b[0m\u001b[1;33m\u001b[0m\u001b[0m\n\u001b[0m",
      "\u001b[1;31mImportError\u001b[0m: No module named 'Reliability.TAAF'"
     ]
    }
   ],
   "source": [
    "from OS.RTOS import RTOS\n",
    "from Processor.Processor import Processor\n",
    "from Reliability.TAAF import TAAF"
   ]
  },
  {
   "cell_type": "code",
   "execution_count": null,
   "metadata": {
    "collapsed": false
   },
   "outputs": [],
   "source": [
    "rtos = RTOS()\n",
    "fail_rate = 3.1706e-09\n",
    "reliability_model = TAAF(fail_rate)\n",
    "processor = Processor(rtos, reliability_model)\n"
   ]
  },
  {
   "cell_type": "code",
   "execution_count": null,
   "metadata": {
    "collapsed": false
   },
   "outputs": [],
   "source": [
    "for t in queue:\n",
    "    rtos.create_task(t)"
   ]
  },
  {
   "cell_type": "code",
   "execution_count": null,
   "metadata": {
    "collapsed": false
   },
   "outputs": [],
   "source": [
    "# clock = 0\n",
    "# h = 0.001\n",
    "# while clock < 0.1:\n",
    "# #     print(rtos.ready_queue)\n",
    "#     rtos.update(h, clock)\n",
    "#     if rtos.running_task is not None:\n",
    "#         print(rtos.running_task.name, clock, rtos.task_outputs)\n",
    "#     clock += h"
   ]
  },
  {
   "cell_type": "code",
   "execution_count": null,
   "metadata": {
    "collapsed": true
   },
   "outputs": [],
   "source": [
    "# rtos = RTOS()\n",
    "# fail_rate = 3.1706e-09\n",
    "# reliability_model = TAAF(fail_rate)\n",
    "# processor = Processor(rtos, reliability_model)\n",
    "# for t in queue:\n",
    "#     rtos.create_task(t)"
   ]
  },
  {
   "cell_type": "code",
   "execution_count": null,
   "metadata": {
    "collapsed": false
   },
   "outputs": [],
   "source": [
    "# clock = 0\n",
    "# h = 0.001\n",
    "# while clock < 0.1:\n",
    "# #     print(rtos.ready_queue)\n",
    "#     processor.update(h, clock)\n",
    "#     print(processor.control_inputs, clock)\n",
    "#     clock += h"
   ]
  },
  {
   "cell_type": "code",
   "execution_count": null,
   "metadata": {
    "collapsed": true
   },
   "outputs": [],
   "source": [
    "from __future__ import print_function, division\n",
    "from sympy import init_printing\n",
    "init_printing(use_latex='mathjax')"
   ]
  },
  {
   "cell_type": "code",
   "execution_count": null,
   "metadata": {
    "collapsed": true
   },
   "outputs": [],
   "source": [
    "# from sympy.abc import c, d, e, f, g, h\n",
    "# from sympy.physics.vector import ReferenceFrame\n",
    "# import scipy.integrate as integrate\n",
    "# import math\n",
    "# from sympy import Symbol\n",
    "# from sympy import exp, integrate"
   ]
  },
  {
   "cell_type": "code",
   "execution_count": null,
   "metadata": {
    "collapsed": false
   },
   "outputs": [],
   "source": [
    "# r = 3.17e-9\n",
    "# year = 3.154e+7\n",
    "# t = Symbol('t')\n",
    "# taaf = 1.1\n",
    "# res = integrate(exp(-taaf * r * t), (t, 0, np.inf))\n",
    "# res /= year\n",
    "# res"
   ]
  },
  {
   "cell_type": "code",
   "execution_count": null,
   "metadata": {
    "collapsed": false
   },
   "outputs": [],
   "source": [
    "# 1 / (taaf * fail_rate) / year"
   ]
  },
  {
   "cell_type": "code",
   "execution_count": null,
   "metadata": {
    "collapsed": true
   },
   "outputs": [],
   "source": [
    "from filterpy.kalman import KalmanFilter\n",
    "from filterpy.common import Q_discrete_white_noise\n",
    "from numpy.random import randn\n",
    "import book_plots as bp"
   ]
  },
  {
   "cell_type": "code",
   "execution_count": null,
   "metadata": {
    "collapsed": false
   },
   "outputs": [],
   "source": [
    "\n",
    "dt = 0.1\n",
    "R = 3.\n",
    "kf = KalmanFilter(dim_x=2, dim_z=1, dim_u = 1)\n",
    "kf.P *= 10\n",
    "kf.R *= R\n",
    "kf.Q = Q_discrete_white_noise(2, dt, 0.1)\n",
    "kf.F = np.array([[1., 0], [0., 1]])\n",
    "kf.B = np.array([[dt], [ 1]])\n",
    "kf.H = np.array([[1., 0]])\n",
    "\n",
    "zs = [i + randn()*R for i in range(1, 100)]\n",
    "xs = []\n",
    "cmd_velocity = 1.\n",
    "for z in zs:\n",
    "    kf.predict(u=cmd_velocity)\n",
    "    kf.update(z)\n",
    "    xs.append(kf.x[0])\n",
    "\n",
    "plt.plot(xs, label='Kalman Filter')\n",
    "bp.plot_measurements(zs)\n",
    "plt.xlabel('time')\n",
    "plt.legend(loc=4)\n",
    "plt.ylabel('distance');"
   ]
  },
  {
   "cell_type": "code",
   "execution_count": null,
   "metadata": {
    "collapsed": true
   },
   "outputs": [],
   "source": []
  },
  {
   "cell_type": "code",
   "execution_count": null,
   "metadata": {
    "collapsed": true
   },
   "outputs": [],
   "source": [
    "def sense(x, noise_scale):\n",
    "    return np.array([[x[2][0] + randn()*noise_scale[0]],\n",
    "                     [x[3][0] + randn()*noise_scale[1]]])\n",
    "                     \n",
    "\n",
    "class InvPen(object):\n",
    "    def __init__(self, x0, A, B, K, h = 0.01, noise_scale=1):\n",
    "        self.A = A\n",
    "        self.B = B\n",
    "        self.K = K\n",
    "        self.x = x0\n",
    "        self.noise_scale = noise_scale\n",
    "        self.h = h\n",
    "        \n",
    "\n",
    "    def update(self):\n",
    "        self.u = -np.dot(self.K, self.x) + randn() * self.noise_scale\n",
    "#         print(self.u)\n",
    "        self.u = np.reshape(self.u, (-1, 1))\n",
    "#         print(self.A.shape, self.x.shape, self.B.shape,  self.u.shape)\n",
    "        x_dot = np.dot(self.A, self.x) + np.dot(self.B, self.u)\n",
    "#         print(x_dot)\n",
    "        self.x += h * x_dot\n",
    "#         print(self.x[2])\n",
    "        "
   ]
  },
  {
   "cell_type": "code",
   "execution_count": null,
   "metadata": {
    "collapsed": false
   },
   "outputs": [],
   "source": []
  },
  {
   "cell_type": "code",
   "execution_count": null,
   "metadata": {
    "collapsed": false
   },
   "outputs": [],
   "source": [
    "# A = np.array([[0., 1.0, 0., 0.],\n",
    "#                [0., -0.18182, 2.6727, 0.],\n",
    "#                [0., 0., 0., 1.],\n",
    "#                [0., -0.45455, 31.1820, 0.]])\n",
    "\n",
    "# B = np.array([[0.0],\n",
    "#                [1.8182],\n",
    "#                [0.],\n",
    "#                [4.5455]])\n",
    "\n",
    "# K = np.array([-61.9930, -33.5054, 95.0600, 18.8300])\n",
    "# C = np.array([[0., 0., 1., 0.]])\n",
    "# x0 = np.array([[0.0],\n",
    "#                [0.0],\n",
    "#                [0.4],\n",
    "#                [0.5]])\n",
    "\n",
    "# pen = InvPen(x0, A, B, K)\n",
    "\n",
    "# xs, zs = [], []\n",
    "# for i in range(1000):\n",
    "#     pen.update()\n",
    "#     z = sense(pen.x)\n",
    "#     xs.append(pen.x[2][0])\n",
    "# #     print(xs)\n",
    "#     zs.append(z)\n",
    "\n",
    "# xs = np.asarray(xs)\n",
    "# # xs\n",
    "# # plt.plot(xs)\n",
    "\n",
    "# plt.plot(xs, label='Kalman Filter')\n",
    "# bp.plot_measurements(zs)\n",
    "# plt.xlabel('time')\n",
    "# plt.legend(loc=4)\n",
    "# plt.ylabel('distance');\n",
    "\n"
   ]
  },
  {
   "cell_type": "code",
   "execution_count": null,
   "metadata": {
    "collapsed": false
   },
   "outputs": [],
   "source": [
    "from scipy import linalg\n",
    "def kal_predict(A, B, x, P, u, h):\n",
    "    x_new = x + h * (np.dot(A, x) + np.dot(B, u))\n",
    "    P_new = np.dot(np.dot(A, P), A.T)\n",
    "    return x_new, P_new\n",
    "\n",
    "def kal_update(A, C, x, P, R, Z):\n",
    "    threshold = 100\n",
    "    error = Z - np.dot(C, x)\n",
    "    if np.any(error > threshold):\n",
    "        x_new = x\n",
    "        P_new = P\n",
    "    else:\n",
    "        S = np.dot(np.dot(C, P), C.T) + R\n",
    "#         print(S.shape, P.shape, C.shape)\n",
    "        K = np.dot(np.dot(P, C.T), linalg.inv(S))\n",
    "        x_new = x + np.dot(K, error)\n",
    "        P_new = np.dot((np.eye(A.shape[0]) - np.dot(K, C)), P)\n",
    "    return x_new, P_new\n",
    "\n",
    "def MakeKF(A, B, C, P, K, h, dim_x = 4, dim_z = 2):\n",
    "\n",
    "    kf = KalmanFilter(dim_x=dim_x, dim_z=dim_z)\n",
    "    kf.x = np.zeros(dim_x)\n",
    "    kf.P = P\n",
    "#     kf.R = R\n",
    "#     kf.Q = Q_discrete_white_noise(dim_x, h, 0)\n",
    "#     print(A.shape, B.shape, K.shape)\n",
    "    kf.F = 1 + h * (A - np.dot(B, K))\n",
    "    kf.H = C\n",
    "    return kf"
   ]
  },
  {
   "cell_type": "code",
   "execution_count": null,
   "metadata": {
    "collapsed": false
   },
   "outputs": [],
   "source": [
    "# KalmanFilter.update?"
   ]
  },
  {
   "cell_type": "code",
   "execution_count": null,
   "metadata": {
    "collapsed": true
   },
   "outputs": [],
   "source": [
    "from Task.CustomTasks import KalmanPredict\n",
    "import Task.CustomTasks as ct"
   ]
  },
  {
   "cell_type": "code",
   "execution_count": null,
   "metadata": {
    "collapsed": false
   },
   "outputs": [],
   "source": [
    "a = np.array([(t * 0.001 * 1000, (t * 0.001 * 1000) % (0.001 * 1000), (t * 0.001 * 1000) % (0.001 * 1000) == 0 )for t in range(4000)])\n",
    "a[10 : 20]"
   ]
  },
  {
   "cell_type": "code",
   "execution_count": null,
   "metadata": {
    "collapsed": false
   },
   "outputs": [],
   "source": [
    "use_pen = pd.read_csv('use_pen.csv')\n",
    "use_kalman = pd.read_csv('use_kalman.csv')\n",
    "\n",
    "# plt.figure()\n",
    "# plt.hold(True)\n",
    "# plt.grid(True)\n",
    "# plt.plot(use_pen, c='r', linewidth = 3)\n",
    "# plt.plot(use_kalman, c='b', linewidth = 1)\n",
    "combine = pd.concat([use_pen, use_kalman], axis=1)\n",
    "combine.columns = ['pen', 'kalman']\n",
    "combine['diff'] = abs(combine['pen'] - combine['kalman'])\n",
    "combine.head(10)"
   ]
  },
  {
   "cell_type": "code",
   "execution_count": null,
   "metadata": {
    "collapsed": false
   },
   "outputs": [],
   "source": [
    "time = np.arange(0, 10, h)\n",
    "time = np.reshape(time, (len(time), 1))\n",
    "clock = [i for i in np.arange(0, 10, h)]\n",
    "clock[0:10], time[0:10]"
   ]
  },
  {
   "cell_type": "code",
   "execution_count": null,
   "metadata": {
    "collapsed": false
   },
   "outputs": [],
   "source": [
    "h = 0.001\n",
    "kf_period = 0.02\n",
    "kf_deadline = kf_period\n",
    "kf_wcet = 0.01\n",
    "A = np.array([[0., 1.0, 0., 0.],\n",
    "               [0., -0.18182, 2.6727, 0.],\n",
    "               [0., 0., 0., 1.],\n",
    "               [0., -0.45455, 31.1820, 0.]])\n",
    "\n",
    "B = np.array([[0.0],\n",
    "               [1.8182],\n",
    "               [0.],\n",
    "               [4.5455]])\n",
    "\n",
    "K = np.array([[-61.9930, -33.5054, 95.0600, 18.8300]])\n",
    "C = np.array([[0., 0., 1., 0.],\n",
    "              [0., 0., 0., 1.]])\n",
    "x0 = np.array([[0.0],\n",
    "               [0.0],\n",
    "               [0.4],\n",
    "               [0.5]])\n",
    "\n",
    "P = np.array([[0., 0., 0., 0.],\n",
    "              [0., 0., 0., 0.],\n",
    "              [0., 0., 1000., 0.],\n",
    "              [0., 0., 0., 1000.]])\n",
    "\n",
    "F = 1 + kf_period * (A - np.dot(B, K))\n",
    "\n",
    "angle_noise = 0.05\n",
    "rate_noise = 0.005\n",
    "angle_noise2 = 0.005\n",
    "rate_noise2 = 0.5\n",
    "actuator_noise = 2\n",
    "R = np.array([[angle_noise, 0.],\n",
    "              [0., rate_noise]])\n",
    "R2 = np.array([[angle_noise2, 0.],\n",
    "              [0., rate_noise2]])\n",
    "\n",
    "pen = InvPen(x0, A, B, K, h, actuator_noise)\n",
    "\n",
    "zs = sense(x0, [angle_noise, rate_noise])\n",
    "xs = x0\n",
    "xtract = np.array([[0.0],\n",
    "                   [0.0],\n",
    "                   [0.0],\n",
    "                   [0.5]])\n",
    "\n",
    "kf = MakeKF(A, B, C, P, K, h)\n",
    "\n",
    "kf2 = MakeKF(A, B, C, P, K, h)\n",
    "\n",
    "kf3 = ct.makeLinearKF(A, B, C, P, F)\n",
    "\n",
    "Rs = {'sensor1' : R, 'sensor2' : R2}\n",
    "\n",
    "localizer = KalmanPredict('kalman predict', kf_period, kf_deadline, kf_wcet, 4, kf3, Rs)\n",
    "\n",
    "for t in range(4000):\n",
    "    pen.update()\n",
    "    z = sense(pen.x, [angle_noise, rate_noise])\n",
    "    z2 = sense(pen.x, [angle_noise2, rate_noise2])\n",
    "    all_z = {'sensor1' : z[:, -1], 'sensor2' : z2[:, -1]}\n",
    "    xs = np.append(xs, pen.x, axis=1)\n",
    "    if (t ) % (kf_period * 1. / h) < 0.001:\n",
    "        localizer.run(all_z)\n",
    "    x_predict = np.reshape(localizer.output, (-1, 1))\n",
    "    xtract = np.append(xtract, x_predict, axis=1)\n",
    "\n",
    "# xs = np.asarray(xs)\n",
    "# xs\n",
    "# plt.plot(xs)\n",
    "plt.figure()\n",
    "plt.hold(True)\n",
    "plt.grid(True)\n",
    "plt.plot(xtract[2, :], c = 'b', label='Kalman Filter', linewidth=2)\n",
    "plt.plot(xs[2, :], c= 'r', label='True value', linewidth = 1)\n",
    "plt.xlabel('Time (ms)')\n",
    "plt.ylabel('Angle (rad)')\n",
    "# bp.plot_measurements(zs)\n",
    "# plt.xlabel('time')\n",
    "plt.legend(loc=4)\n",
    "# plt.ylabel('distance');\n",
    "\n",
    "\n",
    "plt.figure()\n",
    "plt.hold(True)\n",
    "plt.grid(True)\n",
    "plt.plot(xtract[3, :], c = 'b', label='Kalman Filter', linewidth=2)\n",
    "plt.plot(xs[3, :], c= 'r', label='True value', linewidth = 1)\n",
    "plt.xlabel('Time (ms)')\n",
    "plt.ylabel('Angular Rate (rad/s)')\n",
    "# bp.plot_measurements(zs)\n",
    "# plt.xlabel('time')\n",
    "plt.legend(loc=4)\n",
    "# plt.ylabel('distance');\n",
    "xtract.shape"
   ]
  },
  {
   "cell_type": "code",
   "execution_count": null,
   "metadata": {
    "collapsed": true
   },
   "outputs": [],
   "source": []
  },
  {
   "cell_type": "code",
   "execution_count": null,
   "metadata": {
    "collapsed": false
   },
   "outputs": [],
   "source": [
    "h = 0.001\n",
    "kf_period = 0.02\n",
    "kf_deadline = kf_period\n",
    "kf_wcet = 0.01\n",
    "A = np.array([[0., 1.0, 0., 0.],\n",
    "               [0., -0.18182, 2.6727, 0.],\n",
    "               [0., 0., 0., 1.],\n",
    "               [0., -0.45455, 31.1820, 0.]])\n",
    "\n",
    "B = np.array([[0.0],\n",
    "               [1.8182],\n",
    "               [0.],\n",
    "               [4.5455]])\n",
    "\n",
    "K = np.array([[-61.9930, -33.5054, 95.0600, 18.8300]])\n",
    "C = np.array([[0., 0., 1., 0.],\n",
    "              [0., 0., 0., 1.]])\n",
    "x0 = np.array([[0.0],\n",
    "               [0.0],\n",
    "               [0.4],\n",
    "               [0.5]])\n",
    "\n",
    "P = np.array([[0., 0., 0., 0.],\n",
    "              [0., 0., 0., 0.],\n",
    "              [0., 0., 1000., 0.],\n",
    "              [0., 0., 0., 1000.]])\n",
    "\n",
    "F = 1 + kf_period * (A - np.dot(B, K))\n",
    "\n",
    "angle_noise = 0.05\n",
    "rate_noise = 0.005\n",
    "angle_noise2 = 0.005\n",
    "rate_noise2 = 0.5\n",
    "actuator_noise = 2\n",
    "R = np.array([[angle_noise, 0.],\n",
    "              [0., rate_noise]])\n",
    "R2 = np.array([[angle_noise2, 0.],\n",
    "              [0., rate_noise2]])\n",
    "\n",
    "pen = InvPen(x0, A, B, K, h, actuator_noise)\n",
    "\n",
    "zs = sense(x0, [angle_noise, rate_noise])\n",
    "xs = x0\n",
    "xtract = np.array([[0.0],\n",
    "                   [0.0],\n",
    "                   [0.0],\n",
    "                   [0.5]])\n",
    "\n",
    "kf = MakeKF(A, B, C, P, K, h)\n",
    "\n",
    "kf2 = MakeKF(A, B, C, P, K, h)\n",
    "\n",
    "kf3 = ct.makeLinearKF(A, B, C, P, F)\n",
    "\n",
    "Rs = {'sensor1' : R, 'sensor2' : R2}\n",
    "\n",
    "localizer = KalmanPredict('kalman', kf_period, kf_deadline, kf_wcet, 4, kf3, Rs)\n",
    "acc = ACC('acc', 0.01, 0.01, 0.004, 6.5)\n",
    "queue = [localizer, acc]\n",
    "rtos = RTOS()\n",
    "for task in queue:\n",
    "    rtos.create_task(task)\n",
    "\n",
    "for t in range(4000):\n",
    "    pen.update()\n",
    "    z = sense(pen.x, [angle_noise, rate_noise])\n",
    "    z2 = sense(pen.x, [angle_noise2, rate_noise2])\n",
    "    all_z = {'sensor1' : z[:, -1], 'sensor2' : z2[:, -1]}\n",
    "    xs = np.append(xs, pen.x, axis=1)\n",
    "    rtos.task_inputs[acc.name] = 0\n",
    "    rtos.task_inputs[localizer.name] = all_z\n",
    "    rtos.update(h, t)\n",
    "#     if (t ) % (kf_period * 1. / h) < 0.001:\n",
    "#         localizer.run(all_z)\n",
    "    x_predict = np.reshape(rtos.task_outputs[localizer.name], (-1, 1))\n",
    "    print(x_predict)\n",
    "    xtract = np.append(xtract, x_predict, axis=1)\n",
    "\n",
    "# xs = np.asarray(xs)\n",
    "# xs\n",
    "# plt.plot(xs)\n",
    "plt.figure()\n",
    "plt.hold(True)\n",
    "plt.grid(True)\n",
    "plt.plot(xtract[2, :], c = 'b', label='Kalman Filter', linewidth=2)\n",
    "plt.plot(xs[2, :], c= 'r', label='True value', linewidth = 1)\n",
    "plt.xlabel('Time (ms)')\n",
    "plt.ylabel('Angle (rad)')\n",
    "# bp.plot_measurements(zs)\n",
    "# plt.xlabel('time')\n",
    "plt.legend(loc=4)\n",
    "# plt.ylabel('distance');\n",
    "\n",
    "\n",
    "plt.figure()\n",
    "plt.hold(True)\n",
    "plt.grid(True)\n",
    "plt.plot(xtract[3, :], c = 'b', label='Kalman Filter', linewidth=2)\n",
    "plt.plot(xs[3, :], c= 'r', label='True value', linewidth = 1)\n",
    "plt.xlabel('Time (ms)')\n",
    "plt.ylabel('Angular Rate (rad/s)')\n",
    "# bp.plot_measurements(zs)\n",
    "# plt.xlabel('time')\n",
    "plt.legend(loc=4)\n",
    "# plt.ylabel('distance');\n",
    "xtract.shape"
   ]
  },
  {
   "cell_type": "code",
   "execution_count": null,
   "metadata": {
    "collapsed": true
   },
   "outputs": [],
   "source": [
    "rtos = RTOS()\n",
    "fail_rate = 3.1706e-09\n",
    "reliability_model = TAAF(fail_rate)\n",
    "processor = Processor(rtos, reliability_model)\n",
    "queue2 = [abss, acc]\n",
    "for t in queue2:\n",
    "    rtos.create_task(t)"
   ]
  },
  {
   "cell_type": "code",
   "execution_count": null,
   "metadata": {
    "collapsed": false
   },
   "outputs": [],
   "source": [
    "clock = 0\n",
    "h = 0.001\n",
    "end = 50\n",
    "taaf = np.zeros([end / h, 1])\n",
    "time = np.arange(0, end, h)\n",
    "time = np.reshape(time, (len(time), 1))\n",
    "taaf[0] = 1\n",
    "mttf = np.zeros([end / h, 1])\n",
    "mttf[0] = 10\n",
    "i = 1\n",
    "for i in np.arange(1, len(time)):\n",
    "#     print(rtos.ready_queue)\n",
    "    processor.update(h, clock)\n",
    "#     print(processor.control_inputs, clock)\n",
    "    taaf[i] = processor.reliability_model.taaf\n",
    "    mttf[i] = processor.reliability_model.mttf_in_years\n",
    "    clock += h"
   ]
  },
  {
   "cell_type": "code",
   "execution_count": null,
   "metadata": {
    "collapsed": false
   },
   "outputs": [],
   "source": [
    "plt.plot(taaf)"
   ]
  },
  {
   "cell_type": "code",
   "execution_count": null,
   "metadata": {
    "collapsed": false
   },
   "outputs": [],
   "source": [
    "# Two subplots, unpack the axes array immediately\n",
    "f, (ax1, ax2) = plt.subplots(1, 2, figsize=(15, 5))\n",
    "ax1.plot(taaf)\n",
    "ax1.set_title('taaf')\n",
    "ax2.plot(mttf)\n",
    "ax2.set_title('mttf in years')\n"
   ]
  },
  {
   "cell_type": "code",
   "execution_count": null,
   "metadata": {
    "collapsed": true
   },
   "outputs": [],
   "source": []
  },
  {
   "cell_type": "code",
   "execution_count": null,
   "metadata": {
    "collapsed": false
   },
   "outputs": [],
   "source": [
    "clock = 0\n",
    "h = 0.001\n",
    "end = 10\n",
    "taaf = np.zeros([end / h, 1])\n",
    "mttf = np.zeros([end / h, 1])\n",
    "T = np.zeros([end / h, 1])\n",
    "time = np.arange(0, end, h)\n",
    "time = np.reshape(time, (len(time), 1))\n",
    "taaf[0] = 1\n",
    "i = 1\n",
    "des_fail_rate = 3.1706e-09\n",
    "reliability_model = TAAF(des_fail_rate)\n",
    "u = 0.5\n",
    "power = 5\n",
    "Tss = reliability_model.steady_state_temperature(power)\n",
    "Tss_idle = reliability_model.steady_state_temperature(1)\n",
    "for i in np.arange(1, len(time)):\n",
    "    if time[i] <= time[-1] * u:\n",
    "        reliability_model.update_temperature(Tss, h)\n",
    "    else:\n",
    "        reliability_model.update_temperature(Tss_idle, h)\n",
    "    reliability_model.update_reliability()\n",
    "    taaf[i] = reliability_model.taaf\n",
    "    mttf[i] = reliability_model.mttf_in_years\n",
    "    T[i] = reliability_model.abs_temperature - 273.15\n",
    "    clock += h"
   ]
  },
  {
   "cell_type": "code",
   "execution_count": null,
   "metadata": {
    "collapsed": false
   },
   "outputs": [],
   "source": [
    "# mttf[0:50]"
   ]
  },
  {
   "cell_type": "code",
   "execution_count": null,
   "metadata": {
    "collapsed": false
   },
   "outputs": [],
   "source": [
    "f, (ax1, ax2) = plt.subplots(1, 2, figsize = (15, 5))\n",
    "ax1.plot(taaf)\n",
    "ax1.grid(True)\n",
    "ax1.set_title('taaf')\n",
    "ax2.plot(mttf)\n",
    "ax2.grid(True)\n",
    "ax2.set_title('mttf in years')"
   ]
  },
  {
   "cell_type": "code",
   "execution_count": null,
   "metadata": {
    "collapsed": true
   },
   "outputs": [],
   "source": []
  },
  {
   "cell_type": "code",
   "execution_count": 2,
   "metadata": {
    "collapsed": true
   },
   "outputs": [],
   "source": [
    "sss = np.genfromtxt ('sss.csv', delimiter=\",\")\n",
    "c_sss = np.genfromtxt ('c_sss.csv', delimiter=\",\")"
   ]
  },
  {
   "cell_type": "code",
   "execution_count": 3,
   "metadata": {
    "collapsed": false
   },
   "outputs": [],
   "source": [
    "sss = sss.T\n",
    "c_sss = c_sss.T"
   ]
  },
  {
   "cell_type": "code",
   "execution_count": 4,
   "metadata": {
    "collapsed": false
   },
   "outputs": [],
   "source": [
    "c_sss = np.append(c_sss, np.zeros((len(c_sss), 1)), axis=1)\n",
    "sss = np.append(sss, np.ones((len(sss), 1)), axis=1)\n"
   ]
  },
  {
   "cell_type": "code",
   "execution_count": 5,
   "metadata": {
    "collapsed": false
   },
   "outputs": [
    {
     "data": {
      "text/plain": [
       "(8626, 5)"
      ]
     },
     "execution_count": 5,
     "metadata": {},
     "output_type": "execute_result"
    }
   ],
   "source": [
    "data = np.append(sss, c_sss, axis=0)\n",
    "data.shape"
   ]
  },
  {
   "cell_type": "code",
   "execution_count": 6,
   "metadata": {
    "collapsed": false
   },
   "outputs": [],
   "source": [
    "data = pd.DataFrame(data, columns=['cart pos', 'cart vel', 'angle', 'rate', 'safe'])"
   ]
  },
  {
   "cell_type": "code",
   "execution_count": 7,
   "metadata": {
    "collapsed": false
   },
   "outputs": [
    {
     "data": {
      "text/plain": [
       "array([[ 0. ,  0. ,  0. ,  0. ],\n",
       "       [-1.5,  1. , -0.4, -3. ],\n",
       "       [-1.5,  1. , -0.4, -2. ],\n",
       "       ..., \n",
       "       [ 3.5,  3. ,  0.5,  1. ],\n",
       "       [ 3.5,  3. ,  0.5,  2. ],\n",
       "       [ 3.5,  3. ,  0.5,  3. ]])"
      ]
     },
     "execution_count": 7,
     "metadata": {},
     "output_type": "execute_result"
    }
   ],
   "source": [
    "X = data.ix[:, ['cart pos', 'cart vel', 'angle', 'rate']].values\n",
    "y = data.ix[:, 'safe'].values\n",
    "X"
   ]
  },
  {
   "cell_type": "code",
   "execution_count": 4,
   "metadata": {
    "collapsed": true
   },
   "outputs": [],
   "source": [
    "from sklearn.cross_validation import train_test_split"
   ]
  },
  {
   "cell_type": "code",
   "execution_count": 14,
   "metadata": {
    "collapsed": false
   },
   "outputs": [],
   "source": [
    "X_train, X_test, y_train, y_test = train_test_split(X, y, test_size = 0.1)"
   ]
  },
  {
   "cell_type": "code",
   "execution_count": 6,
   "metadata": {
    "collapsed": true
   },
   "outputs": [],
   "source": [
    "from sklearn.preprocessing import MinMaxScaler, StandardScaler\n",
    "from sklearn.neighbors import KNeighborsClassifier\n",
    "from sklearn.ensemble import RandomForestClassifier"
   ]
  },
  {
   "cell_type": "code",
   "execution_count": 16,
   "metadata": {
    "collapsed": true
   },
   "outputs": [],
   "source": [
    "stdsc = StandardScaler()\n",
    "X_train_norm = stdsc.fit_transform(X_train)\n",
    "X_test_norm = stdsc.transform(X_test)"
   ]
  },
  {
   "cell_type": "code",
   "execution_count": 17,
   "metadata": {
    "collapsed": false
   },
   "outputs": [
    {
     "data": {
      "text/plain": [
       "(0.99149813216539995, 0.97914252607184238)"
      ]
     },
     "execution_count": 17,
     "metadata": {},
     "output_type": "execute_result"
    }
   ],
   "source": [
    "knn = KNeighborsClassifier(3)\n",
    "knn.fit(X_train_norm, y_train)\n",
    "knn.score(X_train_norm, y_train), knn.score(X_test_norm, y_test)"
   ]
  },
  {
   "cell_type": "code",
   "execution_count": 18,
   "metadata": {
    "collapsed": false
   },
   "outputs": [
    {
     "name": "stdout",
     "output_type": "stream",
     "text": [
      "cart pos 0.398637660447\n",
      "cart vel 0.22569655744\n",
      "angle 0.148150313977\n",
      "rate 0.227515468135\n"
     ]
    },
    {
     "data": {
      "text/plain": [
       "(0.99987118382068785, 0.98377752027809962)"
      ]
     },
     "execution_count": 18,
     "metadata": {},
     "output_type": "execute_result"
    }
   ],
   "source": [
    "from sklearn.ensemble import RandomForestClassifier\n",
    "forest = RandomForestClassifier(n_estimators = 1000, random_state = 0, n_jobs = -1)\n",
    "forest.fit(X_train_norm, y_train)\n",
    "importances = forest.feature_importances_\n",
    "cols = data.columns\n",
    "importances = zip(cols, importances)\n",
    "for name, val in importances:\n",
    "    print(name, val)\n",
    "\n",
    "forest.score(X_train_norm, y_train), forest.score(X_test_norm, y_test)"
   ]
  },
  {
   "cell_type": "code",
   "execution_count": 7,
   "metadata": {
    "collapsed": true
   },
   "outputs": [],
   "source": [
    "from sklearn.metrics import precision_recall_curve\n",
    "from sklearn.svm import SVC\n",
    "from sklearn.multiclass import OneVsRestClassifier\n",
    "from sklearn.preprocessing import label_binarize\n",
    "from sklearn.metrics import average_precision_score"
   ]
  },
  {
   "cell_type": "code",
   "execution_count": 20,
   "metadata": {
    "collapsed": false
   },
   "outputs": [
    {
     "data": {
      "text/plain": [
       "array([[1],\n",
       "       [1],\n",
       "       [1],\n",
       "       ..., \n",
       "       [0],\n",
       "       [0],\n",
       "       [0]])"
      ]
     },
     "execution_count": 20,
     "metadata": {},
     "output_type": "execute_result"
    }
   ],
   "source": [
    "X, y = data.ix[:, ['cart pos', 'cart vel', 'angle', 'rate']].values, data.ix[:, ['safe']].values\n",
    "y = label_binarize(y, classes=[0, 1])\n",
    "n_classes = y.shape[1]\n",
    "y"
   ]
  },
  {
   "cell_type": "code",
   "execution_count": 21,
   "metadata": {
    "collapsed": true
   },
   "outputs": [],
   "source": [
    "X_train, X_test, y_train, y_test = train_test_split(X, y, test_size=.2,\n",
    "                                                    random_state=0)"
   ]
  },
  {
   "cell_type": "code",
   "execution_count": 22,
   "metadata": {
    "collapsed": true
   },
   "outputs": [],
   "source": [
    "stdsc = StandardScaler()\n",
    "X_train_norm = stdsc.fit_transform(X_train)\n",
    "X_test_norm = stdsc.transform(X_test)"
   ]
  },
  {
   "cell_type": "code",
   "execution_count": 24,
   "metadata": {
    "collapsed": false
   },
   "outputs": [
    {
     "data": {
      "text/plain": [
       "0.98551564310544615"
      ]
     },
     "execution_count": 24,
     "metadata": {},
     "output_type": "execute_result"
    }
   ],
   "source": [
    "clf = OneVsRestClassifier(SVC(kernel='rbf', class_weight='balanced', C = 1000., probability=True))\n",
    "clf.fit(X_train_norm, y_train)\n",
    "y_score = clf.fit(X_train_norm, y_train).decision_function(X_test_norm)\n",
    "clf.score(X_test_norm, y_test)"
   ]
  },
  {
   "cell_type": "code",
   "execution_count": 189,
   "metadata": {
    "collapsed": false
   },
   "outputs": [],
   "source": [
    "# Compute Precision-Recall and plot curve\n",
    "n_classes = 2\n",
    "prcsn = dict()\n",
    "recall = dict()\n",
    "average_precision = dict()\n",
    "thrshld = {}\n",
    "for i in range(1):\n",
    "    prcsn[i], recall[i], thrshld[i] = precision_recall_curve(y_test[:, i],y_score[:, i])\n",
    "    average_precision[i] = average_precision_score(y_test[:, i], y_score[:, i])\n",
    "\n",
    "# min_prcsn1 = 1.0  # let's do it for s1\n",
    "# min_thrshld1=min([thrshld[0][i] for i in range(len(thrshld[0])) if prcsn[0][i]>=min_prcsn1])\n",
    "\n",
    "# min_prcsn2 = 1.0  # let's do it for s2\n",
    "# min_thrshld2=min([thrshld[1][i] for i in range(len(thrshld[1])) if prcsn[1][i]>=min_prcsn2])\n",
    "\n",
    "# y_pred_adjusted=[1 if y_s[0]>min_thrshld1 else 2 if y_s[1] > min_thrshld2 else 3 for y_s in y_score]\n",
    "# y_pred_adjusted = label_binarize(y_pred_adjusted, classes=[1, 2, 3])\n",
    "# # y_pred_adjusted\n",
    "# # np.array_equal(y_pred_adjusted, y_test)\n",
    "# print('accuracy of adjusted y pred: ', \n",
    "#       sum([np.array_equal(y_pred_adjusted[i], y_test[i]) for i in np.arange(len(y_pred_adjusted))]) / len(y_pred_adjusted))\n",
    "# # len(y_pred_adjusted), len(y_test), "
   ]
  },
  {
   "cell_type": "code",
   "execution_count": 190,
   "metadata": {
    "collapsed": false
   },
   "outputs": [
    {
     "data": {
      "image/png": "[encoded data removed]",
      "text/plain": [
       "<matplotlib.figure.Figure at 0x7fadeb7bc358>"
      ]
     },
     "metadata": {},
     "output_type": "display_data"
    }
   ],
   "source": [
    "# Plot Precision-Recall curve for each class\n",
    "plt.clf()\n",
    "plt.plot(recall[i], prcsn[i],label='Precision-recall curve of class 1')\n",
    "# for i in range(n_classes):\n",
    "#     plt.plot(recall[i], prcsn[i],\n",
    "#              label='Precision-recall curve of class {0} (area = {1:0.2f})'\n",
    "#                    ''.format(i+1, average_precision[i]))\n",
    "\n",
    "plt.xlim([0.0, 1.0])\n",
    "plt.ylim([0.0, 1.05])\n",
    "plt.xlabel('Recall')\n",
    "plt.ylabel('Precision')\n",
    "plt.title('Extension of Precision-Recall curve to multi-class')\n",
    "plt.legend(loc=\"lower right\")\n",
    "plt.show()"
   ]
  },
  {
   "cell_type": "code",
   "execution_count": null,
   "metadata": {
    "collapsed": true
   },
   "outputs": [],
   "source": []
  },
  {
   "cell_type": "code",
   "execution_count": 2,
   "metadata": {
    "collapsed": false
   },
   "outputs": [],
   "source": [
    "import seaborn as sns\n",
    "import matplotlib \n",
    "from sklearn.ensemble import RandomForestRegressor"
   ]
  },
  {
   "cell_type": "code",
   "execution_count": 3,
   "metadata": {
    "collapsed": false
   },
   "outputs": [
    {
     "data": {
      "text/html": [
       "<div>\n",
       "<table border=\"1\" class=\"dataframe\">\n",
       "  <thead>\n",
       "    <tr style=\"text-align: right;\">\n",
       "      <th></th>\n",
       "      <th>cart pos</th>\n",
       "      <th>cart vel</th>\n",
       "      <th>angle</th>\n",
       "      <th>rate</th>\n",
       "      <th>level</th>\n",
       "    </tr>\n",
       "  </thead>\n",
       "  <tbody>\n",
       "    <tr>\n",
       "      <th>0</th>\n",
       "      <td>-1</td>\n",
       "      <td>-1</td>\n",
       "      <td>-0.20</td>\n",
       "      <td>-5</td>\n",
       "      <td>1</td>\n",
       "    </tr>\n",
       "    <tr>\n",
       "      <th>1</th>\n",
       "      <td>-1</td>\n",
       "      <td>-1</td>\n",
       "      <td>-0.20</td>\n",
       "      <td>-4</td>\n",
       "      <td>1</td>\n",
       "    </tr>\n",
       "    <tr>\n",
       "      <th>2</th>\n",
       "      <td>-1</td>\n",
       "      <td>-1</td>\n",
       "      <td>-0.15</td>\n",
       "      <td>-5</td>\n",
       "      <td>1</td>\n",
       "    </tr>\n",
       "    <tr>\n",
       "      <th>3</th>\n",
       "      <td>-1</td>\n",
       "      <td>-1</td>\n",
       "      <td>-0.15</td>\n",
       "      <td>-4</td>\n",
       "      <td>1</td>\n",
       "    </tr>\n",
       "    <tr>\n",
       "      <th>4</th>\n",
       "      <td>-1</td>\n",
       "      <td>-1</td>\n",
       "      <td>-0.10</td>\n",
       "      <td>-5</td>\n",
       "      <td>1</td>\n",
       "    </tr>\n",
       "  </tbody>\n",
       "</table>\n",
       "</div>"
      ],
      "text/plain": [
       "   cart pos  cart vel  angle  rate  level\n",
       "0        -1        -1  -0.20    -5      1\n",
       "1        -1        -1  -0.20    -4      1\n",
       "2        -1        -1  -0.15    -5      1\n",
       "3        -1        -1  -0.15    -4      1\n",
       "4        -1        -1  -0.10    -5      1"
      ]
     },
     "execution_count": 3,
     "metadata": {},
     "output_type": "execute_result"
    }
   ],
   "source": [
    "data = np.genfromtxt ('subspace_final.csv', delimiter=\",\")\n",
    "data2 = np.genfromtxt('sss_final.csv', delimiter=',')\n",
    "data = pd.DataFrame(data, columns=['cart pos', 'cart vel', 'angle', 'rate', 'level'])\n",
    "data2 = pd.DataFrame(data2, columns=['cart pos', 'cart vel', 'angle', 'rate', 'level'])\n",
    "data2 = data2[data2['level'] == 3]\n",
    "data3 = pd.concat((data, data2), axis=0)\n",
    "data3.head()"
   ]
  },
  {
   "cell_type": "code",
   "execution_count": 4,
   "metadata": {
    "collapsed": true
   },
   "outputs": [],
   "source": [
    "from pandas.tools.plotting import scatter_matrix"
   ]
  },
  {
   "cell_type": "code",
   "execution_count": null,
   "metadata": {
    "collapsed": false
   },
   "outputs": [],
   "source": []
  },
  {
   "cell_type": "code",
   "execution_count": 144,
   "metadata": {
    "collapsed": false
   },
   "outputs": [
    {
     "data": {
      "text/plain": [
       "<matplotlib.text.Text at 0x7f25ce3d3400>"
      ]
     },
     "execution_count": 144,
     "metadata": {},
     "output_type": "execute_result"
    },
    {
     "data": {
      "image/png": "[encoded data removed]",
      "text/plain": [
       "<matplotlib.figure.Figure at 0x7f25ce40ccf8>"
      ]
     },
     "metadata": {},
     "output_type": "display_data"
    }
   ],
   "source": [
    "\n",
    "f, (ax1, ax2, ax3, ax4) = plt.subplots(1, 4, sharey=True, figsize=(25,5))\n",
    "ax1.scatter(data3['cart pos'], data3['level'], linewidths=10)\n",
    "ax1.set_xlabel('Cart Position (m)')\n",
    "ax2.scatter(data3['cart vel'], data3['level'], linewidths=10)\n",
    "ax2.set_xlabel('Cart Velocity (m/s)')\n",
    "ax3.scatter(data3['angle'], data3['level'], linewidths=10)\n",
    "ax3.set_xlabel('Pendulum Angle (rad)')\n",
    "ax4.scatter(data3['rate'], data3['level'], linewidths=10)\n",
    "ax4.set_xlabel('Pendulum Angular Rate (rad/s)')\n",
    "ax1.set_ylabel('Fault Tolerance Level')"
   ]
  },
  {
   "cell_type": "code",
   "execution_count": 142,
   "metadata": {
    "collapsed": false
   },
   "outputs": [
    {
     "data": {
      "text/plain": [
       "<matplotlib.text.Text at 0x7f25ce6e5048>"
      ]
     },
     "execution_count": 142,
     "metadata": {},
     "output_type": "execute_result"
    },
    {
     "data": {
      "image/png": "[encoded data removed]",
      "text/plain": [
       "<matplotlib.figure.Figure at 0x7f25ce7160b8>"
      ]
     },
     "metadata": {},
     "output_type": "display_data"
    }
   ],
   "source": [
    "# sns.set(style='whitegrid', context='notebook', font_scale=2)\n",
    "# # sns.set_style(\"ticks\", {\"xtick.major.size\": 8, \"ytick.major.size\": 8})\n",
    "# columns=['cart pos', 'cart vel', 'angle', 'rate', 'level']\n",
    "# sns.pairplot(data[columns])\n",
    "f, (ax1, ax2, ax3, ax4) = plt.subplots(1, 4, sharey=True, figsize=(25,5))\n",
    "ax1.scatter(data['cart pos'], data['level'], linewidths=10)\n",
    "ax1.set_xlabel('Cart Position (m)')\n",
    "ax2.scatter(data['cart vel'], data['level'], linewidths=10)\n",
    "ax2.set_xlabel('Cart Velocity (m/s)')\n",
    "ax3.scatter(data['angle'], data['level'], linewidths=10)\n",
    "ax3.set_xlabel('Pendulum Angle (rad)')\n",
    "ax4.scatter(data['rate'], data['level'], linewidths=10)\n",
    "ax4.set_xlabel('Pendulum Angular Rate (rad/s)')\n",
    "ax1.set_ylabel('Fault Tolerance Level')"
   ]
  },
  {
   "cell_type": "code",
   "execution_count": 11,
   "metadata": {
    "collapsed": false
   },
   "outputs": [
    {
     "name": "stdout",
     "output_type": "stream",
     "text": [
      "cart pos 0.240510297598\n",
      "cart vel 0.300364215011\n",
      "angle 0.208994392773\n",
      "rate 0.250131094618\n"
     ]
    },
    {
     "data": {
      "text/plain": [
       "(1.0, 0.99713876967095849)"
      ]
     },
     "execution_count": 11,
     "metadata": {},
     "output_type": "execute_result"
    }
   ],
   "source": [
    "X = data3.ix[:, ['cart pos', 'cart vel', 'angle', 'rate']].values\n",
    "y = data3.ix[:, 'level'].values\n",
    "X_train, X_test, y_train, y_test = train_test_split(X, y, test_size = 0.1)\n",
    "stdsc = StandardScaler()\n",
    "X_train_norm = stdsc.fit_transform(X_train)\n",
    "X_test_norm = stdsc.transform(X_test)\n",
    "\n",
    "forest = RandomForestClassifier(n_estimators = 1000, random_state = 0, n_jobs = -1)\n",
    "forest.fit(X_train_norm, y_train)\n",
    "importances = forest.feature_importances_\n",
    "cols = data.columns\n",
    "importances = zip(cols, importances)\n",
    "for name, val in importances:\n",
    "    print(name, val)\n",
    "\n",
    "forest.score(X_train_norm, y_train), forest.score(X_test_norm, y_test)"
   ]
  },
  {
   "cell_type": "code",
   "execution_count": 12,
   "metadata": {
    "collapsed": false
   },
   "outputs": [
    {
     "name": "stdout",
     "output_type": "stream",
     "text": [
      "cart pos 0.00329314290344\n",
      "cart vel 0.0105419731456\n",
      "angle 0.973836016677\n",
      "rate 0.0123288672742\n"
     ]
    },
    {
     "data": {
      "text/plain": [
       "(1.0, 1.0)"
      ]
     },
     "execution_count": 12,
     "metadata": {},
     "output_type": "execute_result"
    }
   ],
   "source": [
    "\n",
    "X = data.ix[:, ['cart pos', 'cart vel', 'angle', 'rate']].values\n",
    "y = data.ix[:, 'level'].values\n",
    "X_train, X_test, y_train, y_test = train_test_split(X, y, test_size = 0.1)\n",
    "stdsc = StandardScaler()\n",
    "X_train_norm = stdsc.fit_transform(X_train)\n",
    "X_test_norm = stdsc.transform(X_test)\n",
    "\n",
    "forest = RandomForestClassifier(n_estimators = 1000, random_state = 0, n_jobs = -1)\n",
    "forest.fit(X_train_norm, y_train)\n",
    "importances = forest.feature_importances_\n",
    "cols = data.columns\n",
    "importances = zip(cols, importances)\n",
    "for name, val in importances:\n",
    "    print(name, val)\n",
    "\n",
    "forest.score(X_train_norm, y_train), forest.score(X_test_norm, y_test)"
   ]
  },
  {
   "cell_type": "code",
   "execution_count": 21,
   "metadata": {
    "collapsed": false
   },
   "outputs": [
    {
     "name": "stdout",
     "output_type": "stream",
     "text": [
      "accuracy of adjusted y pred:  0.9861751152073732\n"
     ]
    },
    {
     "data": {
      "image/png": "[encoded data removed]",
      "text/plain": [
       "<matplotlib.figure.Figure at 0x7f7024703cc0>"
      ]
     },
     "metadata": {},
     "output_type": "display_data"
    }
   ],
   "source": [
    "X, y = data.ix[:, ['cart pos', 'cart vel', 'angle', 'rate']].values, data.ix[:, ['level']].values\n",
    "y = label_binarize(y, classes=[1, 2, 3])\n",
    "n_classes = y.shape[1]\n",
    "X_train, X_test, y_train, y_test = train_test_split(X, y, test_size=.2,\n",
    "                                                    random_state=0)\n",
    "stdsc = StandardScaler()\n",
    "X_train_norm = stdsc.fit_transform(X_train)\n",
    "X_test_norm = stdsc.transform(X_test)\n",
    "clf = OneVsRestClassifier(SVC(kernel='rbf', class_weight='balanced', C = 100., probability=True))\n",
    "clf.fit(X_train_norm, y_train)\n",
    "y_score = clf.fit(X_train_norm, y_train).decision_function(X_test_norm)\n",
    "clf.score(X_test_norm, y_test)\n",
    "\n",
    "# Compute Precision-Recall and plot curve\n",
    "n_classes = 3\n",
    "prcsn = dict()\n",
    "recall = dict()\n",
    "average_precision = dict()\n",
    "thrshld = {}\n",
    "for i in range(n_classes):\n",
    "    prcsn[i], recall[i], thrshld[i] = precision_recall_curve(y_test[:, i],y_score[:, i])\n",
    "    average_precision[i] = average_precision_score(y_test[:, i], y_score[:, i])\n",
    "\n",
    "min_prcsn1 = 0.98  # let's do it for s1\n",
    "min_thrshld1=min([thrshld[0][i] for i in range(len(thrshld[0])) if prcsn[0][i]>=min_prcsn1])\n",
    "\n",
    "min_prcsn2 = 0.98  # let's do it for s2\n",
    "min_thrshld2=min([thrshld[1][i] for i in range(len(thrshld[1])) if prcsn[1][i]>=min_prcsn2])\n",
    "\n",
    "y_pred_adjusted=[1 if y_s[0]>min_thrshld1 else 2 if y_s[1] > min_thrshld2 else 3 for y_s in y_score]\n",
    "y_pred_adjusted = label_binarize(y_pred_adjusted, classes=[1, 2, 3])\n",
    "# y_pred_adjusted\n",
    "# np.array_equal(y_pred_adjusted, y_test)\n",
    "print('accuracy of adjusted y pred: ', \n",
    "      sum([np.array_equal(y_pred_adjusted[i], y_test[i]) for i in np.arange(len(y_pred_adjusted))]) / len(y_pred_adjusted))\n",
    "# len(y_pred_adjusted), len(y_test), \n",
    "\n",
    "# Plot Precision-Recall curve for each class\n",
    "plt.clf()\n",
    "for i in range(n_classes):\n",
    "    plt.plot(recall[i], prcsn[i], linewidth = 6 - 2*i,\n",
    "             label='Precision-recall curve of fault tolerance level {0}'\n",
    "                   ''.format(i+1))\n",
    "\n",
    "plt.xlim([0.0, 1.0])\n",
    "plt.ylim([0.5, 1.05])\n",
    "plt.xlabel('Recall', fontsize= 15)\n",
    "plt.ylabel('Precision', fontsize= 15)\n",
    "\n",
    "# plt.title('Extension of Precision-Recall curve to multi-class')\n",
    "plt.legend(loc=\"lower right\")\n",
    "plt.grid(True)\n",
    "plt.show()"
   ]
  },
  {
   "cell_type": "code",
   "execution_count": 52,
   "metadata": {
    "collapsed": false
   },
   "outputs": [
    {
     "data": {
      "text/plain": [
       "(30, 5)"
      ]
     },
     "execution_count": 52,
     "metadata": {},
     "output_type": "execute_result"
    },
    {
     "data": {
      "image/png": "[encoded data removed]",
      "text/plain": [
       "<matplotlib.figure.Figure at 0x7f7024419390>"
      ]
     },
     "metadata": {},
     "output_type": "display_data"
    }
   ],
   "source": [
    "data_to_plot_1 = data.ix[(data['cart pos'] == 0) & (data['cart vel'] == 0) & (data['level'] == 1)]\n",
    "data_to_plot_2 = data.ix[(data['cart pos'] == 0) & (data['cart vel'] == 0) & (data['level'] == 2)]\n",
    "data_to_plot_3 = data.ix[(data['cart pos'] == 0) & (data['cart vel'] == 0) & (data['level'] == 3)]\n",
    "plt.figure()\n",
    "plt.hold()\n",
    "plt.scatter(data_to_plot_1['angle'].values, data_to_plot_1['rate'].values, color = 'green')\n",
    "plt.scatter(data_to_plot_2['angle'], data_to_plot_2['rate'], color = 'blue')\n",
    "plt.scatter(data_to_plot_3['angle'], data_to_plot_3['rate'], color = 'red')\n",
    "data_to_plot_2.shape"
   ]
  },
  {
   "cell_type": "code",
   "execution_count": 24,
   "metadata": {
    "collapsed": false
   },
   "outputs": [
    {
     "name": "stdout",
     "output_type": "stream",
     "text": [
      "accuracy of adjusted y pred:  0.9899839027007691\n"
     ]
    },
    {
     "data": {
      "image/png": "[encoded data removed]",
      "text/plain": [
       "<matplotlib.figure.Figure at 0x7f7024139e10>"
      ]
     },
     "metadata": {},
     "output_type": "display_data"
    }
   ],
   "source": [
    "X, y = data3.ix[:, ['cart pos', 'cart vel', 'angle', 'rate']].values, data3.ix[:, ['level']].values\n",
    "y = label_binarize(y, classes=[1, 2, 3])\n",
    "n_classes = y.shape[1]\n",
    "X_train, X_test, y_train, y_test = train_test_split(X, y, test_size=.2,\n",
    "                                                    random_state=0)\n",
    "stdsc = StandardScaler()\n",
    "X_train_norm = stdsc.fit_transform(X_train)\n",
    "X_test_norm = stdsc.transform(X_test)\n",
    "clf = OneVsRestClassifier(SVC(kernel='rbf', class_weight='balanced', C = 500., probability=True))\n",
    "clf.fit(X_train_norm, y_train)\n",
    "y_score = clf.fit(X_train_norm, y_train).decision_function(X_test_norm)\n",
    "clf.score(X_test_norm, y_test)\n",
    "\n",
    "# Compute Precision-Recall and plot curve\n",
    "n_classes = 3\n",
    "prcsn = dict()\n",
    "recall = dict()\n",
    "average_precision = dict()\n",
    "thrshld = {}\n",
    "for i in range(n_classes):\n",
    "    prcsn[i], recall[i], thrshld[i] = precision_recall_curve(y_test[:, i],y_score[:, i])\n",
    "    average_precision[i] = average_precision_score(y_test[:, i], y_score[:, i])\n",
    "\n",
    "min_prcsn1 = 0.99  # let's do it for s1\n",
    "min_thrshld1=min([thrshld[0][i] for i in range(len(thrshld[0])) if prcsn[0][i]>=min_prcsn1])\n",
    "\n",
    "min_prcsn2 = 0.99  # let's do it for s2\n",
    "min_thrshld2=min([thrshld[1][i] for i in range(len(thrshld[1])) if prcsn[1][i]>=min_prcsn2])\n",
    "\n",
    "y_pred_adjusted=[1 if y_s[0]>min_thrshld1 else 2 if y_s[1] > min_thrshld2 else 3 for y_s in y_score]\n",
    "y_pred_adjusted = label_binarize(y_pred_adjusted, classes=[1, 2, 3])\n",
    "# y_pred_adjusted\n",
    "# np.array_equal(y_pred_adjusted, y_test)\n",
    "print('accuracy of adjusted y pred: ', \n",
    "      sum([np.array_equal(y_pred_adjusted[i], y_test[i]) for i in np.arange(len(y_pred_adjusted))]) / len(y_pred_adjusted))\n",
    "# len(y_pred_adjusted), len(y_test), \n",
    "\n",
    "# Plot Precision-Recall curve for each class\n",
    "plt.clf()\n",
    "for i in range(n_classes):\n",
    "    plt.plot(recall[i], prcsn[i], linewidth = 6 - 2*i,\n",
    "             label='Precision-recall curve of fault tolerance level {0}'\n",
    "                   ''.format(i+1))\n",
    "\n",
    "plt.xlim([0.0, 1.0])\n",
    "plt.ylim([0.5, 1.05])\n",
    "plt.xlabel('Recall', fontsize= 15)\n",
    "plt.ylabel('Precision', fontsize= 15)\n",
    "\n",
    "# plt.title('Extension of Precision-Recall curve to multi-class')\n",
    "plt.legend(loc=\"lower right\")\n",
    "plt.grid(True)\n",
    "plt.show()"
   ]
  },
  {
   "cell_type": "code",
   "execution_count": 74,
   "metadata": {
    "collapsed": false
   },
   "outputs": [
    {
     "data": {
      "text/plain": [
       "(27951, 5)"
      ]
     },
     "execution_count": 74,
     "metadata": {},
     "output_type": "execute_result"
    }
   ],
   "source": [
    "data1 = np.genfromtxt ('sss_final.csv', delimiter=\",\")\n",
    "data1 = pd.DataFrame(data1, columns=['cart pos', 'cart vel', 'angle', 'rate', 'level'])\n",
    "data1.shape"
   ]
  },
  {
   "cell_type": "code",
   "execution_count": 51,
   "metadata": {
    "collapsed": false
   },
   "outputs": [
    {
     "name": "stdout",
     "output_type": "stream",
     "text": [
      "cart pos 0.285668824656\n",
      "cart vel 0.30059972532\n",
      "angle 0.155070059578\n",
      "rate 0.258661390446\n"
     ]
    },
    {
     "data": {
      "text/plain": [
       "(1.0, 0.99713876967095849)"
      ]
     },
     "execution_count": 51,
     "metadata": {},
     "output_type": "execute_result"
    }
   ],
   "source": [
    "X = data1.ix[:, ['cart pos', 'cart vel', 'angle', 'rate']].values\n",
    "y = data1.ix[:, 'level'].values\n",
    "X_train, X_test, y_train, y_test = train_test_split(X, y, test_size = 0.1)\n",
    "stdsc = StandardScaler()\n",
    "X_train_norm = stdsc.fit_transform(X_train)\n",
    "X_test_norm = stdsc.transform(X_test)\n",
    "\n",
    "forest = RandomForestClassifier(n_estimators = 1000, random_state = 0, n_jobs = -1)\n",
    "forest.fit(X_train_norm, y_train)\n",
    "importances = forest.feature_importances_\n",
    "cols = data.columns\n",
    "importances = zip(cols, importances)\n",
    "for name, val in importances:\n",
    "    print(name, val)\n",
    "\n",
    "forest.score(X_train_norm, y_train), forest.score(X_test_norm, y_test)"
   ]
  },
  {
   "cell_type": "code",
   "execution_count": 65,
   "metadata": {
    "collapsed": false
   },
   "outputs": [
    {
     "name": "stderr",
     "output_type": "stream",
     "text": [
      "/home/ares/anaconda3/lib/python3.5/site-packages/sklearn/multiclass.py:70: UserWarning: Label not 1 is present in all training examples.\n",
      "  str(classes[c]))\n",
      "/home/ares/anaconda3/lib/python3.5/site-packages/sklearn/multiclass.py:70: UserWarning: Label not 1 is present in all training examples.\n",
      "  str(classes[c]))\n"
     ]
    },
    {
     "data": {
      "image/png": "[encoded data removed]",
      "text/plain": [
       "<matplotlib.figure.Figure at 0x7f26124faa90>"
      ]
     },
     "metadata": {},
     "output_type": "display_data"
    }
   ],
   "source": [
    "X, y = data1.ix[:, ['cart pos', 'cart vel', 'angle', 'rate']].values, data1.ix[:, ['level']].values\n",
    "y = label_binarize(y, classes=[1, 2, 3])\n",
    "n_classes = y.shape[1]\n",
    "X_train, X_test, y_train, y_test = train_test_split(X, y, test_size=.2,\n",
    "                                                    random_state=0)\n",
    "stdsc = StandardScaler()\n",
    "X_train_norm = stdsc.fit_transform(X_train)\n",
    "X_test_norm = stdsc.transform(X_test)\n",
    "clf = OneVsRestClassifier(SVC(kernel='rbf', class_weight='balanced', C = 500., probability=True))\n",
    "clf.fit(X_train_norm, y_train)\n",
    "y_score = clf.fit(X_train_norm, y_train).decision_function(X_test_norm)\n",
    "clf.score(X_test_norm, y_test)\n",
    "\n",
    "# Compute Precision-Recall and plot curve\n",
    "n_classes = 2\n",
    "prcsn = dict()\n",
    "recall = dict()\n",
    "average_precision = dict()\n",
    "thrshld = {}\n",
    "for i in range(n_classes):\n",
    "    prcsn[i], recall[i], thrshld[i] = precision_recall_curve(y_test[:, i],y_score[:, i])\n",
    "    average_precision[i] = average_precision_score(y_test[:, i], y_score[:, i])\n",
    "\n",
    "# min_prcsn1 = 0.98  # let's do it for s1\n",
    "# min_thrshld1=min([thrshld[0][i] for i in range(len(thrshld[0])) if prcsn[0][i]>=min_prcsn1])\n",
    "\n",
    "# min_prcsn2 = 0.98  # let's do it for s2\n",
    "# min_thrshld2=min([thrshld[1][i] for i in range(len(thrshld[1])) if prcsn[1][i]>=min_prcsn2])\n",
    "\n",
    "# y_pred_adjusted=[1 if y_s[0]>min_thrshld1 else 2 if y_s[1] > min_thrshld2 else 3 for y_s in y_score]\n",
    "# y_pred_adjusted = label_binarize(y_pred_adjusted, classes=[1, 2, 3])\n",
    "# # y_pred_adjusted\n",
    "# # np.array_equal(y_pred_adjusted, y_test)\n",
    "# print('accuracy of adjusted y pred: ', \n",
    "#       sum([np.array_equal(y_pred_adjusted[i], y_test[i]) for i in np.arange(len(y_pred_adjusted))]) / len(y_pred_adjusted))\n",
    "# # len(y_pred_adjusted), len(y_test), \n",
    "\n",
    "\n",
    "plt.clf()\n",
    "\n",
    "plt.plot(recall[0], prcsn[0], linewidth = 2, label='Precision-recall curve of class 1')\n",
    "\n",
    "# for i in range(2):\n",
    "#     plt.plot(recall[i], prcsn[i], linewidth = 6 - 2*i,\n",
    "#              label='Precision-recall curve of class {0} (area = {1:0.2f})'\n",
    "#                    ''.format(i+1, average_precision[i]))\n",
    "\n",
    "plt.xlim([0.0, 1.0])\n",
    "plt.ylim([0.0, 1.05])\n",
    "plt.xlabel('Recall')\n",
    "plt.ylabel('Precision')\n",
    "plt.title('Extension of Precision-Recall curve to multi-class')\n",
    "plt.legend(loc=\"lower right\")\n",
    "plt.grid(True)\n",
    "plt.show()"
   ]
  },
  {
   "cell_type": "code",
   "execution_count": null,
   "metadata": {
    "collapsed": false
   },
   "outputs": [],
   "source": []
  },
  {
   "cell_type": "code",
   "execution_count": 64,
   "metadata": {
    "collapsed": false
   },
   "outputs": [
    {
     "data": {
      "image/png": "[encoded data removed]",
      "text/plain": [
       "<matplotlib.figure.Figure at 0x7f26127a7a90>"
      ]
     },
     "metadata": {},
     "output_type": "display_data"
    }
   ],
   "source": [
    "plt.clf()\n",
    "\n",
    "plt.plot(recall[0], prcsn[0], linewidth = 2, label='Precision-recall curve of class 1')\n",
    "\n",
    "# for i in range(2):\n",
    "#     plt.plot(recall[i], prcsn[i], linewidth = 6 - 2*i,\n",
    "#              label='Precision-recall curve of class {0} (area = {1:0.2f})'\n",
    "#                    ''.format(i+1, average_precision[i]))\n",
    "\n",
    "plt.xlim([0.0, 1.0])\n",
    "plt.ylim([0.0, 1.05])\n",
    "plt.xlabel('Recall')\n",
    "plt.ylabel('Precision')\n",
    "plt.title('Extension of Precision-Recall curve to multi-class')\n",
    "plt.legend(loc=\"lower right\")\n",
    "plt.grid(True)\n",
    "plt.show()"
   ]
  },
  {
   "cell_type": "code",
   "execution_count": null,
   "metadata": {
    "collapsed": true
   },
   "outputs": [],
   "source": []
  },
  {
   "cell_type": "code",
   "execution_count": 66,
   "metadata": {
    "collapsed": false
   },
   "outputs": [],
   "source": [
    "df = pd.DataFrame(sss)\n",
    "df.head()\n",
    "X = df.ix[:, 0:2]\n",
    "y = df.ix[:, 4]\n"
   ]
  },
  {
   "cell_type": "code",
   "execution_count": 67,
   "metadata": {
    "collapsed": false
   },
   "outputs": [
    {
     "data": {
      "text/plain": [
       "\n",
       "-------------------------Summary of Regression Analysis-------------------------\n",
       "\n",
       "Formula: Y ~ <0> + <1> + <2> + <intercept>\n",
       "\n",
       "Number of Observations:         249\n",
       "Number of Degrees of Freedom:   4\n",
       "\n",
       "R-squared:         0.9529\n",
       "Adj R-squared:     0.9524\n",
       "\n",
       "Rmse:              0.0120\n",
       "\n",
       "F-stat (3, 245):  1653.4419, p-value:     0.0000\n",
       "\n",
       "Degrees of Freedom: model 3, resid 245\n",
       "\n",
       "-----------------------Summary of Estimated Coefficients------------------------\n",
       "      Variable       Coef    Std Err     t-stat    p-value    CI 2.5%   CI 97.5%\n",
       "--------------------------------------------------------------------------------\n",
       "             0    -0.0794     0.0017     -45.58     0.0000    -0.0828    -0.0760\n",
       "             1    -0.0082     0.0009      -8.68     0.0000    -0.0100    -0.0063\n",
       "             2     0.0390     0.0029      13.25     0.0000     0.0332     0.0447\n",
       "     intercept    -0.0013     0.0008      -1.66     0.0986    -0.0029     0.0002\n",
       "---------------------------------End of Summary---------------------------------"
      ]
     },
     "execution_count": 67,
     "metadata": {},
     "output_type": "execute_result"
    }
   ],
   "source": [
    "model = pd.ols(x = X, y = y)\n",
    "model"
   ]
  },
  {
   "cell_type": "code",
   "execution_count": 60,
   "metadata": {
    "collapsed": true
   },
   "outputs": [],
   "source": [
    "from sklearn.feature_selection import RFE\n",
    "from sklearn.svm import SVR\n",
    "from sklearn.linear_model import LinearRegression"
   ]
  },
  {
   "cell_type": "code",
   "execution_count": 61,
   "metadata": {
    "collapsed": false
   },
   "outputs": [
    {
     "data": {
      "text/plain": [
       "(array([ True,  True,  True, False], dtype=bool), array([1, 1, 1, 2]))"
      ]
     },
     "execution_count": 61,
     "metadata": {},
     "output_type": "execute_result"
    }
   ],
   "source": [
    "estimator = LinearRegression()\n",
    "selector = RFE(estimator, 3, step=1)\n",
    "selector = selector.fit(X, y)\n",
    "selector.support_, selector.ranking_"
   ]
  },
  {
   "cell_type": "code",
   "execution_count": 18,
   "metadata": {
    "collapsed": false
   },
   "outputs": [],
   "source": [
    "a = np.array([[0], [1]])\n",
    "a = np.append(a, [[2]], axis=0)"
   ]
  },
  {
   "cell_type": "code",
   "execution_count": 19,
   "metadata": {
    "collapsed": false
   },
   "outputs": [
    {
     "data": {
      "text/plain": [
       "array([[0],\n",
       "       [1],\n",
       "       [2]])"
      ]
     },
     "execution_count": 19,
     "metadata": {},
     "output_type": "execute_result"
    }
   ],
   "source": [
    "a"
   ]
  },
  {
   "cell_type": "code",
   "execution_count": 28,
   "metadata": {
    "collapsed": false
   },
   "outputs": [
    {
     "data": {
      "text/plain": [
       "<matplotlib.axes._subplots.AxesSubplot at 0x7faa951414e0>"
      ]
     },
     "execution_count": 28,
     "metadata": {},
     "output_type": "execute_result"
    },
    {
     "data": {
      "image/png": "[encoded data removed]",
      "text/plain": [
       "<matplotlib.figure.Figure at 0x7faa950c4eb8>"
      ]
     },
     "metadata": {},
     "output_type": "display_data"
    }
   ],
   "source": [
    "temp1 = pd.read_csv('temp1.csv')\n",
    "temp009 = pd.read_csv('temp009.csv')\n",
    "temp = pd.concat((temp1, temp009), axis=1)\n",
    "temp.columns = ['temp1', 'temp009']\n",
    "temp.plot(xlim=(10, 40), ylim=(318, 330), grid=True)"
   ]
  },
  {
   "cell_type": "code",
   "execution_count": 22,
   "metadata": {
    "collapsed": false
   },
   "outputs": [
    {
     "data": {
      "text/html": [
       "<div>\n",
       "<table border=\"1\" class=\"dataframe\">\n",
       "  <thead>\n",
       "    <tr style=\"text-align: right;\">\n",
       "      <th></th>\n",
       "      <th>temp1</th>\n",
       "      <th>temp009</th>\n",
       "    </tr>\n",
       "  </thead>\n",
       "  <tbody>\n",
       "    <tr>\n",
       "      <th>40</th>\n",
       "      <td>320.278122</td>\n",
       "      <td>319.596619</td>\n",
       "    </tr>\n",
       "    <tr>\n",
       "      <th>41</th>\n",
       "      <td>320.375945</td>\n",
       "      <td>319.596172</td>\n",
       "    </tr>\n",
       "    <tr>\n",
       "      <th>42</th>\n",
       "      <td>320.473670</td>\n",
       "      <td>319.595726</td>\n",
       "    </tr>\n",
       "    <tr>\n",
       "      <th>43</th>\n",
       "      <td>320.571298</td>\n",
       "      <td>319.595281</td>\n",
       "    </tr>\n",
       "    <tr>\n",
       "      <th>44</th>\n",
       "      <td>320.668827</td>\n",
       "      <td>319.606830</td>\n",
       "    </tr>\n",
       "    <tr>\n",
       "      <th>45</th>\n",
       "      <td>320.766260</td>\n",
       "      <td>319.606373</td>\n",
       "    </tr>\n",
       "    <tr>\n",
       "      <th>46</th>\n",
       "      <td>320.863595</td>\n",
       "      <td>319.605917</td>\n",
       "    </tr>\n",
       "    <tr>\n",
       "      <th>47</th>\n",
       "      <td>320.960833</td>\n",
       "      <td>319.605461</td>\n",
       "    </tr>\n",
       "    <tr>\n",
       "      <th>48</th>\n",
       "      <td>321.057973</td>\n",
       "      <td>319.605006</td>\n",
       "    </tr>\n",
       "    <tr>\n",
       "      <th>49</th>\n",
       "      <td>321.155017</td>\n",
       "      <td>319.604551</td>\n",
       "    </tr>\n",
       "    <tr>\n",
       "      <th>50</th>\n",
       "      <td>321.165007</td>\n",
       "      <td>319.604097</td>\n",
       "    </tr>\n",
       "    <tr>\n",
       "      <th>51</th>\n",
       "      <td>321.162993</td>\n",
       "      <td>319.603643</td>\n",
       "    </tr>\n",
       "    <tr>\n",
       "      <th>52</th>\n",
       "      <td>321.160981</td>\n",
       "      <td>319.603190</td>\n",
       "    </tr>\n",
       "    <tr>\n",
       "      <th>53</th>\n",
       "      <td>321.158971</td>\n",
       "      <td>319.614731</td>\n",
       "    </tr>\n",
       "    <tr>\n",
       "      <th>54</th>\n",
       "      <td>321.156963</td>\n",
       "      <td>319.614266</td>\n",
       "    </tr>\n",
       "    <tr>\n",
       "      <th>55</th>\n",
       "      <td>321.154957</td>\n",
       "      <td>319.613802</td>\n",
       "    </tr>\n",
       "    <tr>\n",
       "      <th>56</th>\n",
       "      <td>321.152953</td>\n",
       "      <td>319.613339</td>\n",
       "    </tr>\n",
       "    <tr>\n",
       "      <th>57</th>\n",
       "      <td>321.150951</td>\n",
       "      <td>319.612876</td>\n",
       "    </tr>\n",
       "    <tr>\n",
       "      <th>58</th>\n",
       "      <td>321.148951</td>\n",
       "      <td>319.612413</td>\n",
       "    </tr>\n",
       "    <tr>\n",
       "      <th>59</th>\n",
       "      <td>321.158947</td>\n",
       "      <td>319.710901</td>\n",
       "    </tr>\n",
       "    <tr>\n",
       "      <th>60</th>\n",
       "      <td>321.255890</td>\n",
       "      <td>319.809291</td>\n",
       "    </tr>\n",
       "    <tr>\n",
       "      <th>61</th>\n",
       "      <td>321.352735</td>\n",
       "      <td>319.808632</td>\n",
       "    </tr>\n",
       "    <tr>\n",
       "      <th>62</th>\n",
       "      <td>321.449484</td>\n",
       "      <td>319.819968</td>\n",
       "    </tr>\n",
       "    <tr>\n",
       "      <th>63</th>\n",
       "      <td>321.546136</td>\n",
       "      <td>319.819298</td>\n",
       "    </tr>\n",
       "    <tr>\n",
       "      <th>64</th>\n",
       "      <td>321.642692</td>\n",
       "      <td>319.818629</td>\n",
       "    </tr>\n",
       "    <tr>\n",
       "      <th>65</th>\n",
       "      <td>321.739151</td>\n",
       "      <td>319.817961</td>\n",
       "    </tr>\n",
       "  </tbody>\n",
       "</table>\n",
       "</div>"
      ],
      "text/plain": [
       "         temp1     temp009\n",
       "40  320.278122  319.596619\n",
       "41  320.375945  319.596172\n",
       "42  320.473670  319.595726\n",
       "43  320.571298  319.595281\n",
       "44  320.668827  319.606830\n",
       "45  320.766260  319.606373\n",
       "46  320.863595  319.605917\n",
       "47  320.960833  319.605461\n",
       "48  321.057973  319.605006\n",
       "49  321.155017  319.604551\n",
       "50  321.165007  319.604097\n",
       "51  321.162993  319.603643\n",
       "52  321.160981  319.603190\n",
       "53  321.158971  319.614731\n",
       "54  321.156963  319.614266\n",
       "55  321.154957  319.613802\n",
       "56  321.152953  319.613339\n",
       "57  321.150951  319.612876\n",
       "58  321.148951  319.612413\n",
       "59  321.158947  319.710901\n",
       "60  321.255890  319.809291\n",
       "61  321.352735  319.808632\n",
       "62  321.449484  319.819968\n",
       "63  321.546136  319.819298\n",
       "64  321.642692  319.818629\n",
       "65  321.739151  319.817961"
      ]
     },
     "execution_count": 22,
     "metadata": {},
     "output_type": "execute_result"
    }
   ],
   "source": [
    "temp.ix[40:65, ]"
   ]
  },
  {
   "cell_type": "code",
   "execution_count": null,
   "metadata": {
    "collapsed": true
   },
   "outputs": [],
   "source": []
  }
 ],
 "metadata": {
  "kernelspec": {
   "display_name": "Python 3",
   "language": "python",
   "name": "python3"
  },
  "language_info": {
   "codemirror_mode": {
    "name": "ipython",
    "version": 3
   },
   "file_extension": ".py",
   "mimetype": "text/x-python",
   "name": "python",
   "nbconvert_exporter": "python",
   "pygments_lexer": "ipython3",
   "version": "3.5.1"
  }
 },
 "nbformat": 4,
 "nbformat_minor": 0
}
