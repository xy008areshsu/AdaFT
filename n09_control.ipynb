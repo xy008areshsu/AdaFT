{
 "cells": [
  {
   "cell_type": "markdown",
   "metadata": {},
   "source": [
    "# Introduction"
   ]
  },
  {
   "cell_type": "markdown",
   "metadata": {},
   "source": [
    "In this last notebook, we will create a full state feedback controller that will allow the human model to balance. There isn't time to give a good overview of controls, but we will use a very common optimal control method to quickly create a controller for our system."
   ]
  },
  {
   "cell_type": "markdown",
   "metadata": {},
   "source": [
    "# Setup"
   ]
  },
  {
   "cell_type": "markdown",
   "metadata": {},
   "source": [
    "Bring in the results from the previous notebooks."
   ]
  },
  {
   "cell_type": "code",
   "execution_count": 2,
   "metadata": {
    "collapsed": false
   },
   "outputs": [],
   "source": [
    "from __future__ import print_function\n",
    "from solution.visualization import *"
   ]
  },
  {
   "cell_type": "markdown",
   "metadata": {},
   "source": [
    "We will be working with numerical matrices so we will need several functions from NumPy."
   ]
  },
  {
   "cell_type": "code",
   "execution_count": 3,
   "metadata": {
    "collapsed": false
   },
   "outputs": [],
   "source": [
    "from numpy import array, zeros, eye, asarray, dot, rad2deg\n",
    "from numpy.linalg import inv"
   ]
  },
  {
   "cell_type": "markdown",
   "metadata": {},
   "source": [
    "We will be simulating the model again with the controller in place and will make some plots of the state trajectories as before so bring in some useful functions from matplotlib. First enable inline plotting:"
   ]
  },
  {
   "cell_type": "code",
   "execution_count": 4,
   "metadata": {
    "collapsed": false
   },
   "outputs": [],
   "source": [
    "%matplotlib inline"
   ]
  },
  {
   "cell_type": "code",
   "execution_count": 5,
   "metadata": {
    "collapsed": false
   },
   "outputs": [],
   "source": [
    "from matplotlib.pyplot import plot, xlabel, ylabel, legend, rcParams"
   ]
  },
  {
   "cell_type": "code",
   "execution_count": 6,
   "metadata": {
    "collapsed": false
   },
   "outputs": [],
   "source": [
    "rcParams['figure.figsize'] = (14, 8)"
   ]
  },
  {
   "cell_type": "markdown",
   "metadata": {},
   "source": [
    "Bring in some SymPy functions for simpilfication and printing:"
   ]
  },
  {
   "cell_type": "code",
   "execution_count": 7,
   "metadata": {
    "collapsed": false
   },
   "outputs": [],
   "source": [
    "from sympy import simplify, Matrix, matrix2numpy\n",
    "from sympy.physics.vector import init_vprinting, vlatex"
   ]
  },
  {
   "cell_type": "code",
   "execution_count": 8,
   "metadata": {
    "collapsed": false
   },
   "outputs": [],
   "source": [
    "init_vprinting(use_latex='mathjax')"
   ]
  },
  {
   "cell_type": "markdown",
   "metadata": {},
   "source": [
    "We will be displaying numerical matrices and the IPython magic `%precision` can be used to adjust how many decimal places are shown for nice compact printing."
   ]
  },
  {
   "cell_type": "code",
   "execution_count": 9,
   "metadata": {
    "collapsed": false
   },
   "outputs": [
    {
     "data": {
      "text/plain": [
       "'%.3f'"
      ]
     },
     "execution_count": 9,
     "metadata": {},
     "output_type": "execute_result"
    }
   ],
   "source": [
    "%precision 3"
   ]
  },
  {
   "cell_type": "markdown",
   "metadata": {},
   "source": [
    "# Linearization"
   ]
  },
  {
   "cell_type": "markdown",
   "metadata": {},
   "source": [
    "We current have symbolic equations of motion in this form:\n",
    "\n",
    "$$ \\mathbf{M}(\\mathbf{x}) \\dot{\\mathbf{x}} = \\mathbf{f}(\\mathbf{x}, \\mathbf{u}, t) $$\n",
    "\n",
    "where $\\mathbf{M}$ is the mass matrix, $\\mathbf{x}$ is the state vector made up of the generalized coordinates and speeds, and $\\mathbf{f}(\\mathbf{x}, \\mathbf{u})$ is a vector of non-linear functions of the states, $\\mathbf{x}$, and the specified inputs, $\\mathbf{u}$.\n",
    "\n",
    "This model is relatively easy to linearize and we will use a quick and dirty method to do so. In general, the non-linear equations of motion (for an unconstrained system) can be transformed into a linear form by expanding the Taylor series about small perturbations and truncating any non-linear terms. For this problem, this amounts to computing the [Jacobian](https://en.wikipedia.org/wiki/Jacobian) of the forcing vector, $\\mathbf{f}$. The linear equations take this form:\n",
    "\n",
    "$$ \\mathbf{M} \\Delta \\dot{\\mathbf{x}} = \\mathbf{f}_A \\Delta \\mathbf{x} + \\mathbf{f}_B \\Delta \\mathbf{u} $$\n",
    "\n",
    "where $\\mathbf{f}_A$ and $\\mathbf{f}_B$ are the Jacobians of $\\mathbf{f}$ with respect to the states and specified inputs, respectively:\n",
    "\n",
    "$$ \\mathbf{f}_A = \\left[ \\frac{\\delta \\mathbf{f} }{ \\delta x_1}, \\ldots, \\frac{\\delta \\mathbf{f} }{ \\delta x_n} \\right] $$\n",
    "\n",
    "$$ \\mathbf{f}_B = \\left[ \\frac{\\delta \\mathbf{f} }{ \\delta u_1}, \\ldots, \\frac{\\delta \\mathbf{f} }{ \\delta u_n} \\right] $$\n",
    "\n",
    "and $\\Delta \\mathbf{x}$ and $\\Delta \\mathbf{u}$ are _differential_ changes in $\\mathbf{x}$ and $\\mathbf{u}$ respectively.\n",
    "\n",
    "Once $\\mathbf{f}_A$ and $\\mathbf{f}_B$ are found, then the standard state space form of the linear equations can be formed by transforming the linear equations.\n",
    "\n",
    "$$ \\Delta \\dot{x} = \\mathbf{M}^{-1} \\mathbf{f}_A \\Delta \\mathbf{x} + \\mathbf{M}^{-1} \\mathbf{f}_B \\Delta \\mathbf{u} $$\n",
    "\n",
    "which can be rewritten as\n",
    "\n",
    "$$ \\Delta \\dot{x} = \\mathbf{A} \\Delta \\mathbf{x} + \\mathbf{B} \\Delta \\mathbf{u} $$\n",
    "   \n",
    "where $\\mathbf{A}$ is the state matrix and $\\mathbf{B}$ is the input matrix."
   ]
  },
  {
   "cell_type": "markdown",
   "metadata": {},
   "source": [
    "The first step is to specify the equilbrium point about which to linearize. Our system has two unique equilibrium points, one when the person is upright, $\\mathbf{x} = [0, \\ldots, 0]$, and one when the person is upside down, $\\mathbf{x} = [\\pi, \\ldots, \\pi]$ (180 degrees). We are only concerned with the former because we want the model to \"stand up\"."
   ]
  },
  {
   "cell_type": "code",
   "execution_count": 10,
   "metadata": {
    "collapsed": false
   },
   "outputs": [
    {
     "data": {
      "text/plain": [
       "array([ 0.,  0.,  0.,  0.,  0.,  0.])"
      ]
     },
     "execution_count": 10,
     "metadata": {},
     "output_type": "execute_result"
    }
   ],
   "source": [
    "equilibrium_point = zeros(len(coordinates + speeds))\n",
    "equilibrium_point"
   ]
  },
  {
   "cell_type": "markdown",
   "metadata": {},
   "source": [
    "We will use SymPy's `sub()` method to convert the linear equations of motion to numerical arrays, so we create two dictionaries containing the numerical values of the equilibrium point and the constants."
   ]
  },
  {
   "cell_type": "code",
   "execution_count": 11,
   "metadata": {
    "collapsed": false
   },
   "outputs": [
    {
     "data": {
      "text/latex": [
       "$$\\left \\{ \\omega_{1} : 0.0, \\quad \\omega_{2} : 0.0, \\quad \\omega_{3} : 0.0, \\quad \\theta_{1} : 0.0, \\quad \\theta_{2} : 0.0, \\quad \\theta_{3} : 0.0\\right \\}$$"
      ],
      "text/plain": [
       "{ω₁: 0.0, ω₂: 0.0, ω₃: 0.0, θ₁: 0.0, θ₂: 0.0, θ₃: 0.0}"
      ]
     },
     "execution_count": 11,
     "metadata": {},
     "output_type": "execute_result"
    }
   ],
   "source": [
    "equilibrium_dict = dict(zip(coordinates + speeds, equilibrium_point))\n",
    "equilibrium_dict"
   ]
  },
  {
   "cell_type": "markdown",
   "metadata": {},
   "source": [
    "## Exercise"
   ]
  },
  {
   "cell_type": "markdown",
   "metadata": {},
   "source": [
    "As an exercise, create a `parameter_dict` that maps the symbolic constants to the numerical constants. We have variable names for each already available from the previous notebooks (`constants` and `numerical_constants`)."
   ]
  },
  {
   "cell_type": "code",
   "execution_count": 12,
   "metadata": {
    "collapsed": false
   },
   "outputs": [
    {
     "data": {
      "text/latex": [
       "$$\\left \\{ I_{Lz} : 0.101, \\quad I_{Tz} : 1.485, \\quad I_{Uz} : 0.282, \\quad d_{L} : 0.387, \\quad d_{T} : 0.305, \\quad d_{U} : 0.193, \\quad g : 9.81, \\quad l_{L} : 0.611, \\quad l_{U} : 0.424, \\quad m_{L} : 6.769, \\quad m_{T} : 32.44, \\quad m_{U} : 17.01\\right \\}$$"
      ],
      "text/plain": [
       "{I_Lz: 0.101, I_Tz: 1.485, I_Uz: 0.282, d_L: 0.387, d_T: 0.305, d_U: 0.193, g:\n",
       " 9.81, l_L: 0.611, l_U: 0.424, m_L: 6.769, m_T: 32.44, m_U: 17.01}"
      ]
     },
     "execution_count": 12,
     "metadata": {},
     "output_type": "execute_result"
    }
   ],
   "source": [
    "# %load exercise_solutions/n09_control_parameter-dict.py\n",
    "parameter_dict = dict(zip(constants, numerical_constants))\n",
    "parameter_dict\n"
   ]
  },
  {
   "cell_type": "markdown",
   "metadata": {},
   "source": [
    "The `KanesMethod` object from earlier contains methods for linearizing the equations of motion. First, we'll create a `Linearizer` object:"
   ]
  },
  {
   "cell_type": "code",
   "execution_count": 13,
   "metadata": {
    "collapsed": true
   },
   "outputs": [],
   "source": [
    "linearizer = kane.to_linearizer()"
   ]
  },
  {
   "cell_type": "markdown",
   "metadata": {},
   "source": [
    "This creates an object that holds a *generalized form* of the equations of motion, which can be used to linearize the system in a robust way. When it does this, it finds the inputs `r`, and orders them alphabetically. We have our own order we want to use from before, so we need to change this:"
   ]
  },
  {
   "cell_type": "code",
   "execution_count": 14,
   "metadata": {
    "collapsed": false
   },
   "outputs": [
    {
     "data": {
      "text/plain": [
       "False"
      ]
     },
     "execution_count": 14,
     "metadata": {},
     "output_type": "execute_result"
    }
   ],
   "source": [
    "linearizer.r == Matrix(specified)"
   ]
  },
  {
   "cell_type": "code",
   "execution_count": 15,
   "metadata": {
    "collapsed": false
   },
   "outputs": [],
   "source": [
    "linearizer.r = Matrix(specified)"
   ]
  },
  {
   "cell_type": "markdown",
   "metadata": {},
   "source": [
    "To perform the actual linearization, we'll use the `linearize` method:"
   ]
  },
  {
   "cell_type": "code",
   "execution_count": 16,
   "metadata": {
    "collapsed": false
   },
   "outputs": [
    {
     "name": "stdout",
     "output_type": "stream",
     "text": [
      "Help on method linearize in module sympy.physics.mechanics.linearize:\n",
      "\n",
      "linearize(op_point=None, A_and_B=False, simplify=False) method of sympy.physics.mechanics.linearize.Linearizer instance\n",
      "    Linearize the system about the operating point. Note that\n",
      "    q_op, u_op, qd_op, ud_op must satisfy the equations of motion.\n",
      "    These may be either symbolic or numeric.\n",
      "    \n",
      "    Parameters\n",
      "    ----------\n",
      "    op_point : dict or iterable of dicts, optional\n",
      "        Dictionary or iterable of dictionaries containing the operating\n",
      "        point conditions. These will be substituted in to the linearized\n",
      "        system before the linearization is complete. Leave blank if you\n",
      "        want a completely symbolic form. Note that any reduction in\n",
      "        symbols (whether substituted for numbers or expressions with a\n",
      "        common parameter) will result in faster runtime.\n",
      "    \n",
      "    A_and_B : bool, optional\n",
      "        If A_and_B=False (default), (M, A, B) is returned for forming\n",
      "        [M]*[q, u]^T = [A]*[q_ind, u_ind]^T + [B]r. If A_and_B=True,\n",
      "        (A, B) is returned for forming dx = [A]x + [B]r, where\n",
      "        x = [q_ind, u_ind]^T.\n",
      "    \n",
      "    simplify : bool, optional\n",
      "        Determines if returned values are simplified before return.\n",
      "        For large expressions this may be time consuming. Default is False.\n",
      "    \n",
      "    Potential Issues\n",
      "    ----------------\n",
      "        Note that the process of solving with A_and_B=True is\n",
      "        computationally intensive if there are many symbolic parameters.\n",
      "        For this reason, it may be more desirable to use the default\n",
      "        A_and_B=False, returning M, A, and B. More values may then be\n",
      "        substituted in to these matrices later on. The state space form can\n",
      "        then be found as A = P.T*M.LUsolve(A), B = P.T*M.LUsolve(B), where\n",
      "        P = Linearizer.perm_mat.\n",
      "\n"
     ]
    }
   ],
   "source": [
    "help(linearizer.linearize)"
   ]
  },
  {
   "cell_type": "markdown",
   "metadata": {},
   "source": [
    "Because we want to get the equations in the form\n",
    "\n",
    "$$ \\Delta \\dot{x} = \\mathbf{A} \\Delta \\mathbf{x} + \\mathbf{B} \\Delta \\mathbf{u} $$\n",
    "\n",
    "we'll set `A_and_B=True`. We can also perform the variable to numeric substitution in this step by passing in both the `equilibrium_dict` and the `parameter_dict` to the operating point."
   ]
  },
  {
   "cell_type": "code",
   "execution_count": 17,
   "metadata": {
    "collapsed": true
   },
   "outputs": [],
   "source": [
    "A, B = linearizer.linearize(op_point=[equilibrium_dict, parameter_dict], A_and_B=True)"
   ]
  },
  {
   "cell_type": "markdown",
   "metadata": {},
   "source": [
    "Now we can convert from symbolic to numeric numpy matrices, and display our results:"
   ]
  },
  {
   "cell_type": "code",
   "execution_count": 18,
   "metadata": {
    "collapsed": false
   },
   "outputs": [],
   "source": [
    "A = matrix2numpy(A, dtype=float)\n",
    "B = matrix2numpy(B, dtype=float)"
   ]
  },
  {
   "cell_type": "code",
   "execution_count": 19,
   "metadata": {
    "collapsed": false
   },
   "outputs": [
    {
     "data": {
      "text/plain": [
       "array([[   0.   ,    0.   ,    0.   ,    1.   ,    0.   ,    0.   ],\n",
       "       [   0.   ,    0.   ,    0.   ,    0.   ,    1.   ,    0.   ],\n",
       "       [   0.   ,    0.   ,    0.   ,    0.   ,    0.   ,    1.   ],\n",
       "       [  18.337,  -75.864,    6.395,    0.   ,    0.   ,    0.   ],\n",
       "       [ -22.175,  230.549,  -49.01 ,    0.   ,    0.   ,    0.   ],\n",
       "       [   4.353, -175.393,   95.29 ,    0.   ,    0.   ,    0.   ]])"
      ]
     },
     "execution_count": 19,
     "metadata": {},
     "output_type": "execute_result"
    }
   ],
   "source": [
    "A"
   ]
  },
  {
   "cell_type": "code",
   "execution_count": 20,
   "metadata": {
    "collapsed": false
   },
   "outputs": [
    {
     "data": {
      "text/plain": [
       "array([[ 0.   ,  0.   ,  0.   ],\n",
       "       [ 0.   ,  0.   ,  0.   ],\n",
       "       [ 0.   ,  0.   ,  0.   ],\n",
       "       [ 0.292, -0.785,  0.558],\n",
       "       [-0.785,  2.457, -2.178],\n",
       "       [ 0.558, -2.178,  2.601]])"
      ]
     },
     "execution_count": 20,
     "metadata": {},
     "output_type": "execute_result"
    }
   ],
   "source": [
    "B"
   ]
  },
  {
   "cell_type": "markdown",
   "metadata": {},
   "source": [
    "# Controller Design"
   ]
  },
  {
   "cell_type": "markdown",
   "metadata": {},
   "source": [
    "Before we try to create a controller, we need to check to see if it is actually [controllable](https://en.wikipedia.org/wiki/Controlability). You can import a function from the `utils` module included with these notebooks to check."
   ]
  },
  {
   "cell_type": "code",
   "execution_count": 23,
   "metadata": {
    "collapsed": false
   },
   "outputs": [],
   "source": [
    "from Utilities.Controller import controllable"
   ]
  },
  {
   "cell_type": "code",
   "execution_count": 24,
   "metadata": {
    "collapsed": false
   },
   "outputs": [
    {
     "data": {
      "text/plain": [
       "True"
      ]
     },
     "execution_count": 24,
     "metadata": {},
     "output_type": "execute_result"
    }
   ],
   "source": [
    "controllable(A, B)"
   ]
  },
  {
   "cell_type": "markdown",
   "metadata": {},
   "source": [
    "So yes, the system is controllable. Now we will use [optimal control theory](https://en.wikipedia.org/wiki/Optimal_control) to create a controller that compute the necessary joint torques at each time step to balance the person.\n",
    "\n",
    "It turns out that if you setup a cost function in which you'd like to minimize the deviation from the desired state, 0, and minimize the effort in the joint torques, there is an elegant solution to find a matrix $\\mathbf{K}$ which can be used to compute the joint torques given the current state value.\n",
    "\n",
    "Given the cost function:\n",
    "\n",
    "$$J = \\frac{1}{2} \\int_0^\\infty\\left[\\mathbf{x}^T \\mathbf{Q} \\mathbf{x} + \\mathbf{u}^T \\mathbf{R} \\mathbf{u}\\right]dt$$\n",
    "\n",
    "There is a matrix $\\mathbf{K}$ that computes the inputs $\\mathbf{u}(t)$ given the states $\\mathbf{x}$:\n",
    "\n",
    "$$\\mathbf{u}(t) = -\\mathbf{K} \\mathbf{x}(t)$$\n",
    "\n",
    "where $\\mathbf{K}$ can be found by the solution to the algebraic [Riccati Equation](https://en.wikipedia.org/wiki/Riccati_equation) such that:\n",
    "\n",
    "$$\\mathbf{K} = \\mathbf{R}^{-1} \\mathbf{B}^T \\mathbf{S}$$\n",
    "\n",
    "and the Riccati equation is:\n",
    "\n",
    "$$\\textbf{0} = -\\textbf{S}\\textbf{A}-\\textbf{A}^{\\text{T}}\\textbf{S}+\\textbf{S}\\textbf{B}\\textbf{R}^{-1}\\textbf{B}^{\\text{T}}\\textbf{S}-\\textbf{Q}$$\n",
    "\n",
    "SciPy provides a function that can compute the solution, $\\mathbf{S}$, of the continous algebraic Riccati Equation."
   ]
  },
  {
   "cell_type": "code",
   "execution_count": 25,
   "metadata": {
    "collapsed": false
   },
   "outputs": [],
   "source": [
    "from scipy.linalg import solve_continuous_are"
   ]
  },
  {
   "cell_type": "markdown",
   "metadata": {},
   "source": [
    "The weighting matrices, $\\mathbf{Q}$ and $\\mathbf{R}$, allow you to control how much weight is applied to minimizing the error in the states and the effort in the inputs. A typical starting point for these matrices is to set them equal to the identity matrix, which can be created with the NumPy `eye()` function."
   ]
  },
  {
   "cell_type": "code",
   "execution_count": 26,
   "metadata": {
    "collapsed": false
   },
   "outputs": [
    {
     "data": {
      "text/plain": [
       "array([[ 1.,  0.,  0.,  0.,  0.,  0.],\n",
       "       [ 0.,  1.,  0.,  0.,  0.,  0.],\n",
       "       [ 0.,  0.,  1.,  0.,  0.,  0.],\n",
       "       [ 0.,  0.,  0.,  1.,  0.,  0.],\n",
       "       [ 0.,  0.,  0.,  0.,  1.,  0.],\n",
       "       [ 0.,  0.,  0.,  0.,  0.,  1.]])"
      ]
     },
     "execution_count": 26,
     "metadata": {},
     "output_type": "execute_result"
    }
   ],
   "source": [
    "Q = eye(6)\n",
    "Q"
   ]
  },
  {
   "cell_type": "code",
   "execution_count": 27,
   "metadata": {
    "collapsed": false
   },
   "outputs": [
    {
     "data": {
      "text/plain": [
       "array([[ 1.,  0.,  0.],\n",
       "       [ 0.,  1.,  0.],\n",
       "       [ 0.,  0.,  1.]])"
      ]
     },
     "execution_count": 27,
     "metadata": {},
     "output_type": "execute_result"
    }
   ],
   "source": [
    "R = eye(3)\n",
    "R"
   ]
  },
  {
   "cell_type": "markdown",
   "metadata": {},
   "source": [
    "$\\mathbf{K}$ can now be computed."
   ]
  },
  {
   "cell_type": "code",
   "execution_count": 28,
   "metadata": {
    "collapsed": false
   },
   "outputs": [
    {
     "data": {
      "text/plain": [
       "array([[ 1054.367,   426.901,   153.864,   365.784,   173.577,    67.28 ],\n",
       "       [  707.669,   610.181,   251.283,   263.836,   158.583,    72.18 ],\n",
       "       [   12.129,    43.669,   132.469,    11.613,    16.447,    19.12 ]])"
      ]
     },
     "execution_count": 28,
     "metadata": {},
     "output_type": "execute_result"
    }
   ],
   "source": [
    "S = solve_continuous_are(A, B, Q, R)\n",
    "K = dot(dot(inv(R), B.T),  S)\n",
    "K"
   ]
  },
  {
   "cell_type": "markdown",
   "metadata": {},
   "source": [
    "Remember that the `right_hand_side` function we generated earlier can take a function for the specified values."
   ]
  },
  {
   "cell_type": "code",
   "execution_count": 29,
   "metadata": {
    "collapsed": false
   },
   "outputs": [
    {
     "name": "stdout",
     "output_type": "stream",
     "text": [
      "Help on function rhs in module pydy.codegen.ode_function_generators:\n",
      "\n",
      "rhs(*args)\n",
      "    Returns the derivatives of the states, i.e. numerically evaluates the right\n",
      "    hand side of the first order differential equation.\n",
      "    \n",
      "    x' = f(x, t, r, p)\n",
      "    \n",
      "    Parameters\n",
      "    ==========\n",
      "    x : ndarray, shape(6,)\n",
      "        The state vector is ordered as such:\n",
      "            - theta1(t)\n",
      "            - theta2(t)\n",
      "            - theta3(t)\n",
      "            - omega1(t)\n",
      "            - omega2(t)\n",
      "            - omega3(t)\n",
      "    t : float\n",
      "        The current time.\n",
      "    r : dictionary; ndarray, shape(3,); function\n",
      "    \n",
      "        There are three options for this argument. (1) is more flexible but\n",
      "        (2) and (3) are much more efficient.\n",
      "    \n",
      "        (1) A dictionary that maps the specified functions of time to floats,\n",
      "        ndarrays, or functions that produce ndarrays. The keys can be a single\n",
      "        specified symbolic function of time or a tuple of symbols. The total\n",
      "        number of symbols must be equal to 3. If the value is a\n",
      "        function it must be of the form g(x, t), where x is the current state\n",
      "        vector ndarray and t is the current time float and it must return an\n",
      "        ndarray of the correct shape. For example::\n",
      "    \n",
      "          r = {a: 1.0,\n",
      "               (d, b) : np.array([1.0, 2.0]),\n",
      "               (e, f) : lambda x, t: np.array(x[0], x[1]),\n",
      "               c: lambda x, t: np.array(x[2])}\n",
      "    \n",
      "        (2) A ndarray with the specified values in the correct order and of the\n",
      "        correct shape.\n",
      "    \n",
      "        (3) A function that must be of the form g(x, t), where x is the current\n",
      "        state vector and t is the current time and it must return an ndarray of\n",
      "        the correct shape.\n",
      "    \n",
      "        The specified inputs are, in order:\n",
      "            - T_a(t)\n",
      "            - T_k(t)\n",
      "            - T_h(t)\n",
      "    p : dictionary len(12) or ndarray shape(12,)\n",
      "        Either a dictionary that maps the constants symbols to their numerical\n",
      "        values or an array with the constants in the following order:\n",
      "            - l_L\n",
      "            - d_L\n",
      "            - m_L\n",
      "            - I_Lz\n",
      "            - l_U\n",
      "            - d_U\n",
      "            - m_U\n",
      "            - I_Uz\n",
      "            - d_T\n",
      "            - m_T\n",
      "            - I_Tz\n",
      "            - g\n",
      "    \n",
      "    Returns\n",
      "    =======\n",
      "    dx : ndarray, shape(6,)\n",
      "        The derivative of the state vector.\n",
      "\n"
     ]
    }
   ],
   "source": [
    "help(right_hand_side)"
   ]
  },
  {
   "cell_type": "markdown",
   "metadata": {},
   "source": [
    "## Exercise"
   ]
  },
  {
   "cell_type": "markdown",
   "metadata": {},
   "source": [
    "Create a function named `controller` that computes the specified inputs given the current state and time."
   ]
  },
  {
   "cell_type": "code",
   "execution_count": 30,
   "metadata": {
    "collapsed": false
   },
   "outputs": [],
   "source": [
    "def controller():\n",
    "    \"\"\"Returns the output of the controller, i.e. the joint torques, given the current state.\"\"\"\n",
    "    return"
   ]
  },
  {
   "cell_type": "code",
   "execution_count": null,
   "metadata": {
    "collapsed": false
   },
   "outputs": [],
   "source": [
    "# %load exercise_solutions/n09_control_controller-function.py\n",
    "def controller(x, t):\n",
    "    \"\"\"Returns the output of the controller, i.e. the joint torques, given\n",
    "    the current state.\"\"\"\n",
    "    return -dot(K, x)\n"
   ]
  },
  {
   "cell_type": "markdown",
   "metadata": {},
   "source": [
    "Now we can integrate the equations of motion again, but this time with the controller in place."
   ]
  },
  {
   "cell_type": "markdown",
   "metadata": {},
   "source": [
    "## Exercise"
   ]
  },
  {
   "cell_type": "markdown",
   "metadata": {},
   "source": [
    "Integrate the equations of motion and plot the coordinates and speeds as we did in the simulation notebook and see if the system behaves as expected."
   ]
  },
  {
   "cell_type": "code",
   "execution_count": null,
   "metadata": {
    "collapsed": true
   },
   "outputs": [],
   "source": []
  },
  {
   "cell_type": "code",
   "execution_count": 43,
   "metadata": {
    "collapsed": false
   },
   "outputs": [],
   "source": [
    "# %load exercise_solutions/n09_control_integrate-eom.py\n",
    "y = odeint(right_hand_side, x0, t, args=(controller, numerical_constants))\n"
   ]
  },
  {
   "cell_type": "code",
   "execution_count": 44,
   "metadata": {
    "collapsed": false
   },
   "outputs": [
    {
     "data": {
      "text/plain": [
       "array([ 0.   ,  0.017,  0.033,  0.05 ,  0.067,  0.084,  0.1  ,  0.117,\n",
       "        0.134,  0.151,  0.167,  0.184,  0.201,  0.217,  0.234,  0.251,\n",
       "        0.268,  0.284,  0.301,  0.318,  0.334,  0.351,  0.368,  0.385,\n",
       "        0.401,  0.418,  0.435,  0.452,  0.468,  0.485,  0.502,  0.518,\n",
       "        0.535,  0.552,  0.569,  0.585,  0.602,  0.619,  0.635,  0.652,\n",
       "        0.669,  0.686,  0.702,  0.719,  0.736,  0.753,  0.769,  0.786,\n",
       "        0.803,  0.819,  0.836,  0.853,  0.87 ,  0.886,  0.903,  0.92 ,\n",
       "        0.936,  0.953,  0.97 ,  0.987,  1.003,  1.02 ,  1.037,  1.054,\n",
       "        1.07 ,  1.087,  1.104,  1.12 ,  1.137,  1.154,  1.171,  1.187,\n",
       "        1.204,  1.221,  1.237,  1.254,  1.271,  1.288,  1.304,  1.321,\n",
       "        1.338,  1.355,  1.371,  1.388,  1.405,  1.421,  1.438,  1.455,\n",
       "        1.472,  1.488,  1.505,  1.522,  1.538,  1.555,  1.572,  1.589,\n",
       "        1.605,  1.622,  1.639,  1.656,  1.672,  1.689,  1.706,  1.722,\n",
       "        1.739,  1.756,  1.773,  1.789,  1.806,  1.823,  1.839,  1.856,\n",
       "        1.873,  1.89 ,  1.906,  1.923,  1.94 ,  1.957,  1.973,  1.99 ,\n",
       "        2.007,  2.023,  2.04 ,  2.057,  2.074,  2.09 ,  2.107,  2.124,\n",
       "        2.14 ,  2.157,  2.174,  2.191,  2.207,  2.224,  2.241,  2.258,\n",
       "        2.274,  2.291,  2.308,  2.324,  2.341,  2.358,  2.375,  2.391,\n",
       "        2.408,  2.425,  2.441,  2.458,  2.475,  2.492,  2.508,  2.525,\n",
       "        2.542,  2.559,  2.575,  2.592,  2.609,  2.625,  2.642,  2.659,\n",
       "        2.676,  2.692,  2.709,  2.726,  2.742,  2.759,  2.776,  2.793,\n",
       "        2.809,  2.826,  2.843,  2.86 ,  2.876,  2.893,  2.91 ,  2.926,\n",
       "        2.943,  2.96 ,  2.977,  2.993,  3.01 ,  3.027,  3.043,  3.06 ,\n",
       "        3.077,  3.094,  3.11 ,  3.127,  3.144,  3.161,  3.177,  3.194,\n",
       "        3.211,  3.227,  3.244,  3.261,  3.278,  3.294,  3.311,  3.328,\n",
       "        3.344,  3.361,  3.378,  3.395,  3.411,  3.428,  3.445,  3.462,\n",
       "        3.478,  3.495,  3.512,  3.528,  3.545,  3.562,  3.579,  3.595,\n",
       "        3.612,  3.629,  3.645,  3.662,  3.679,  3.696,  3.712,  3.729,\n",
       "        3.746,  3.763,  3.779,  3.796,  3.813,  3.829,  3.846,  3.863,\n",
       "        3.88 ,  3.896,  3.913,  3.93 ,  3.946,  3.963,  3.98 ,  3.997,\n",
       "        4.013,  4.03 ,  4.047,  4.064,  4.08 ,  4.097,  4.114,  4.13 ,\n",
       "        4.147,  4.164,  4.181,  4.197,  4.214,  4.231,  4.247,  4.264,\n",
       "        4.281,  4.298,  4.314,  4.331,  4.348,  4.365,  4.381,  4.398,\n",
       "        4.415,  4.431,  4.448,  4.465,  4.482,  4.498,  4.515,  4.532,\n",
       "        4.548,  4.565,  4.582,  4.599,  4.615,  4.632,  4.649,  4.666,\n",
       "        4.682,  4.699,  4.716,  4.732,  4.749,  4.766,  4.783,  4.799,\n",
       "        4.816,  4.833,  4.849,  4.866,  4.883,  4.9  ,  4.916,  4.933,\n",
       "        4.95 ,  4.967,  4.983,  5.   ])"
      ]
     },
     "execution_count": 44,
     "metadata": {},
     "output_type": "execute_result"
    }
   ],
   "source": [
    "t"
   ]
  },
  {
   "cell_type": "markdown",
   "metadata": {},
   "source": [
    "# Plot Trajectories"
   ]
  },
  {
   "cell_type": "markdown",
   "metadata": {},
   "source": [
    "## Exercise"
   ]
  },
  {
   "cell_type": "markdown",
   "metadata": {},
   "source": [
    "Use the same plot functions as were used in the simulation notebook to inspect the state trajectories."
   ]
  },
  {
   "cell_type": "code",
   "execution_count": 33,
   "metadata": {
    "collapsed": false
   },
   "outputs": [],
   "source": [
    "# Plot the angles\n",
    "\n"
   ]
  },
  {
   "cell_type": "code",
   "execution_count": 34,
   "metadata": {
    "collapsed": false
   },
   "outputs": [
    {
     "data": {
      "text/plain": [
       "<matplotlib.legend.Legend at 0x7f003ca47828>"
      ]
     },
     "execution_count": 34,
     "metadata": {},
     "output_type": "execute_result"
    },
    {
     "data": {
      "image/png": "[encoded data removed]",
      "text/plain": [
       "<matplotlib.figure.Figure at 0x7f003ca478d0>"
      ]
     },
     "metadata": {},
     "output_type": "display_data"
    }
   ],
   "source": [
    "# %load exercise_solutions/n09_control_plot-angles.py\n",
    "plot(t, rad2deg(y[:, :3]))\n",
    "xlabel('Time [s]')\n",
    "ylabel('Angle [deg]')\n",
    "legend([\"${}$\".format(vlatex(c)) for c in coordinates])"
   ]
  },
  {
   "cell_type": "code",
   "execution_count": 35,
   "metadata": {
    "collapsed": false
   },
   "outputs": [],
   "source": [
    "# Plot the angular velocities\n",
    "\n"
   ]
  },
  {
   "cell_type": "code",
   "execution_count": 39,
   "metadata": {
    "collapsed": false
   },
   "outputs": [
    {
     "data": {
      "text/plain": [
       "<matplotlib.legend.Legend at 0x7f003c14d3c8>"
      ]
     },
     "execution_count": 39,
     "metadata": {},
     "output_type": "execute_result"
    },
    {
     "data": {
      "image/png": "[encoded data removed]",
      "text/plain": [
       "<matplotlib.figure.Figure at 0x7f003c14da90>"
      ]
     },
     "metadata": {},
     "output_type": "display_data"
    }
   ],
   "source": [
    "# %load exercise_solutions/n09_control_plot-velocities.py\n",
    "plot(t, rad2deg(y[:, 3:]))\n",
    "xlabel('Time [s]')\n",
    "ylabel('Velocity [deg/s]')\n",
    "legend([\"${}$\".format(vlatex(s)) for s in speeds])\n"
   ]
  },
  {
   "cell_type": "markdown",
   "metadata": {},
   "source": [
    "What do these plots tell you about the controller? Does it work?"
   ]
  },
  {
   "cell_type": "markdown",
   "metadata": {},
   "source": [
    "# Visualization"
   ]
  },
  {
   "cell_type": "markdown",
   "metadata": {},
   "source": [
    "Finally, regenerate the visualization to see the 3D animation of the system under the influence of the controller."
   ]
  },
  {
   "cell_type": "code",
   "execution_count": 40,
   "metadata": {
    "collapsed": false
   },
   "outputs": [],
   "source": [
    "scene.states_trajectories = y"
   ]
  },
  {
   "cell_type": "code",
   "execution_count": 41,
   "metadata": {
    "collapsed": false
   },
   "outputs": [],
   "source": [
    "scene.display_ipython()"
   ]
  },
  {
   "cell_type": "code",
   "execution_count": null,
   "metadata": {
    "collapsed": true
   },
   "outputs": [],
   "source": []
  }
 ],
 "metadata": {
  "kernelspec": {
   "display_name": "Python 3",
   "language": "python",
   "name": "python3"
  },
  "language_info": {
   "codemirror_mode": {
    "name": "ipython",
    "version": 3
   },
   "file_extension": ".py",
   "mimetype": "text/x-python",
   "name": "python",
   "nbconvert_exporter": "python",
   "pygments_lexer": "ipython3",
   "version": "3.5.1"
  }
 },
 "nbformat": 4,
 "nbformat_minor": 0
}
